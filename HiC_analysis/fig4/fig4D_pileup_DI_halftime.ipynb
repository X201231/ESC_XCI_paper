{
 "cells": [
  {
   "cell_type": "code",
   "execution_count": 1,
   "id": "bbc2be4d-a8b5-4865-9e8a-0a7dbfdf6b6b",
   "metadata": {},
   "outputs": [],
   "source": [
    "import cv2\n",
    "\n",
    "import sys\n",
    "\n",
    "import numpy as np\n",
    "\n",
    "import pandas as pd\n",
    "import scipy\n",
    "import scipy.sparse\n",
    "import tqdm\n",
    "\n",
    "import seaborn as sns\n",
    "import matplotlib.pyplot as plt\n",
    "from numba import jit\n",
    "\n",
    "import concurrent.futures\n",
    "\n",
    "# import fall color from cooltools\n",
    "import cooltools.lib.plotting\n",
    "import multiprocessing as mp\n",
    "from scipy.stats import mannwhitneyu"
   ]
  },
  {
   "cell_type": "code",
   "execution_count": 2,
   "id": "f15b711a-81ad-4632-8c34-87d006ef23ee",
   "metadata": {},
   "outputs": [],
   "source": [
    "from coolbox.utilities.genome import GenomeRange\n",
    "from coolbox.api import *\n",
    "import re\n",
    "import matplotlib.pyplot as plt"
   ]
  },
  {
   "cell_type": "code",
   "execution_count": 3,
   "id": "7d4c886d-628b-410c-b4af-e192b889d5ad",
   "metadata": {},
   "outputs": [],
   "source": [
    "sys.path.append(\"/shareb/zliu/analysis/hires_gastrulation/\")\n",
    "sys.path.append(\"/shareb/zliu/analysis/hires_gastrulation/CHARMtools/\")"
   ]
  },
  {
   "cell_type": "code",
   "execution_count": 4,
   "id": "73eebd21-8dd1-4dea-a583-5a6fa02d7bb2",
   "metadata": {},
   "outputs": [],
   "source": [
    "tad_loc = pd.read_csv('/share/Data/hxie/project/202209/esc_xwliu/esc0615_version2/HiC_analysis/DI/halftime/DI_tad_location.csv')"
   ]
  },
  {
   "cell_type": "code",
   "execution_count": 6,
   "id": "15dae0a9-98a9-4c74-8789-37dc3575a17f",
   "metadata": {},
   "outputs": [],
   "source": [
    "heatmap_res = pd.read_csv('/share/Data/hxie/project/202209/esc_xwliu/esc0615_version2/HiC_analysis/DI/halftime/DI_heatmap_res.csv').query('halftime != -1')"
   ]
  },
  {
   "cell_type": "code",
   "execution_count": 7,
   "id": "20b742cf",
   "metadata": {},
   "outputs": [
    {
     "data": {
      "text/plain": [
       "(180977, 15)"
      ]
     },
     "execution_count": 7,
     "metadata": {},
     "output_type": "execute_result"
    }
   ],
   "source": [
    "heatmap_res.shape"
   ]
  },
  {
   "cell_type": "code",
   "execution_count": 8,
   "id": "6f67e5d7",
   "metadata": {},
   "outputs": [
    {
     "data": {
      "text/plain": [
       "45244.25"
      ]
     },
     "execution_count": 8,
     "metadata": {},
     "output_type": "execute_result"
    }
   ],
   "source": [
    "0.25*180977"
   ]
  },
  {
   "cell_type": "code",
   "execution_count": 9,
   "id": "7e205677",
   "metadata": {},
   "outputs": [],
   "source": [
    "heatmap_res = heatmap_res.sort_values('p_diff').head(45244)"
   ]
  },
  {
   "cell_type": "code",
   "execution_count": 10,
   "id": "d80748d2",
   "metadata": {},
   "outputs": [
    {
     "data": {
      "text/plain": [
       "33933.0"
      ]
     },
     "execution_count": 10,
     "metadata": {},
     "output_type": "execute_result"
    }
   ],
   "source": [
    "0.75*45244"
   ]
  },
  {
   "cell_type": "code",
   "execution_count": 11,
   "id": "d9c335d8",
   "metadata": {},
   "outputs": [],
   "source": [
    "heatmap_res = heatmap_res.sort_values('sqrtRSS').head(33933)"
   ]
  },
  {
   "cell_type": "code",
   "execution_count": 21,
   "id": "55f1e723",
   "metadata": {},
   "outputs": [],
   "source": [
    "temp = pd.read_csv('/share/Data/hxie/project/202209/esc_xwliu/esc0615_version2/HiC_analysis/DI/res/c5_B6_XCI_diff.csv')\n",
    "temp = temp[['index1','index2']]\n",
    "df = heatmap_res[['index1','index2','halftime']]\n",
    "temp = temp.merge(df, on=['index1', 'index2'], how='left')\n",
    "pivot_table = temp.pivot('index1', 'index2', 'halftime')"
   ]
  },
  {
   "cell_type": "code",
   "execution_count": 31,
   "id": "6b211e73",
   "metadata": {},
   "outputs": [],
   "source": [
    "pivot_table[np.isnan(pivot_table)] = 0"
   ]
  },
  {
   "cell_type": "code",
   "execution_count": 32,
   "id": "278dd7cd",
   "metadata": {},
   "outputs": [],
   "source": [
    "halftime_mtx = pivot_table + pivot_table.T\n",
    "halftime_mtx = np.where(halftime_mtx == 0, np.nan, halftime_mtx)"
   ]
  },
  {
   "cell_type": "markdown",
   "id": "55ea7aa2-9b96-42fa-bd72-94d6c7161800",
   "metadata": {},
   "source": [
    "# pile up"
   ]
  },
  {
   "cell_type": "code",
   "execution_count": 33,
   "id": "4d710223",
   "metadata": {},
   "outputs": [
    {
     "data": {
      "text/html": [
       "<div>\n",
       "<style scoped>\n",
       "    .dataframe tbody tr th:only-of-type {\n",
       "        vertical-align: middle;\n",
       "    }\n",
       "\n",
       "    .dataframe tbody tr th {\n",
       "        vertical-align: top;\n",
       "    }\n",
       "\n",
       "    .dataframe thead th {\n",
       "        text-align: right;\n",
       "    }\n",
       "</style>\n",
       "<table border=\"1\" class=\"dataframe\">\n",
       "  <thead>\n",
       "    <tr style=\"text-align: right;\">\n",
       "      <th></th>\n",
       "      <th>index</th>\n",
       "      <th>start</th>\n",
       "      <th>end</th>\n",
       "      <th>distance</th>\n",
       "      <th>mask</th>\n",
       "    </tr>\n",
       "  </thead>\n",
       "  <tbody>\n",
       "    <tr>\n",
       "      <th>0</th>\n",
       "      <td>0</td>\n",
       "      <td>269</td>\n",
       "      <td>288</td>\n",
       "      <td>19</td>\n",
       "      <td>14</td>\n",
       "    </tr>\n",
       "    <tr>\n",
       "      <th>1</th>\n",
       "      <td>1</td>\n",
       "      <td>288</td>\n",
       "      <td>311</td>\n",
       "      <td>23</td>\n",
       "      <td>24</td>\n",
       "    </tr>\n",
       "    <tr>\n",
       "      <th>2</th>\n",
       "      <td>2</td>\n",
       "      <td>311</td>\n",
       "      <td>327</td>\n",
       "      <td>16</td>\n",
       "      <td>17</td>\n",
       "    </tr>\n",
       "    <tr>\n",
       "      <th>3</th>\n",
       "      <td>3</td>\n",
       "      <td>327</td>\n",
       "      <td>368</td>\n",
       "      <td>41</td>\n",
       "      <td>41</td>\n",
       "    </tr>\n",
       "    <tr>\n",
       "      <th>4</th>\n",
       "      <td>4</td>\n",
       "      <td>368</td>\n",
       "      <td>386</td>\n",
       "      <td>18</td>\n",
       "      <td>19</td>\n",
       "    </tr>\n",
       "    <tr>\n",
       "      <th>...</th>\n",
       "      <td>...</td>\n",
       "      <td>...</td>\n",
       "      <td>...</td>\n",
       "      <td>...</td>\n",
       "      <td>...</td>\n",
       "    </tr>\n",
       "    <tr>\n",
       "      <th>107</th>\n",
       "      <td>128</td>\n",
       "      <td>8363</td>\n",
       "      <td>8447</td>\n",
       "      <td>84</td>\n",
       "      <td>85</td>\n",
       "    </tr>\n",
       "    <tr>\n",
       "      <th>108</th>\n",
       "      <td>129</td>\n",
       "      <td>8447</td>\n",
       "      <td>8487</td>\n",
       "      <td>40</td>\n",
       "      <td>41</td>\n",
       "    </tr>\n",
       "    <tr>\n",
       "      <th>109</th>\n",
       "      <td>130</td>\n",
       "      <td>8487</td>\n",
       "      <td>8499</td>\n",
       "      <td>12</td>\n",
       "      <td>12</td>\n",
       "    </tr>\n",
       "    <tr>\n",
       "      <th>110</th>\n",
       "      <td>131</td>\n",
       "      <td>5173</td>\n",
       "      <td>5185</td>\n",
       "      <td>12</td>\n",
       "      <td>12</td>\n",
       "    </tr>\n",
       "    <tr>\n",
       "      <th>111</th>\n",
       "      <td>132</td>\n",
       "      <td>5185</td>\n",
       "      <td>5204</td>\n",
       "      <td>19</td>\n",
       "      <td>19</td>\n",
       "    </tr>\n",
       "  </tbody>\n",
       "</table>\n",
       "<p>112 rows × 5 columns</p>\n",
       "</div>"
      ],
      "text/plain": [
       "     index  start   end  distance  mask\n",
       "0        0    269   288        19    14\n",
       "1        1    288   311        23    24\n",
       "2        2    311   327        16    17\n",
       "3        3    327   368        41    41\n",
       "4        4    368   386        18    19\n",
       "..     ...    ...   ...       ...   ...\n",
       "107    128   8363  8447        84    85\n",
       "108    129   8447  8487        40    41\n",
       "109    130   8487  8499        12    12\n",
       "110    131   5173  5185        12    12\n",
       "111    132   5185  5204        19    19\n",
       "\n",
       "[112 rows x 5 columns]"
      ]
     },
     "execution_count": 33,
     "metadata": {},
     "output_type": "execute_result"
    }
   ],
   "source": [
    "my_tad = pd.read_csv('/share/Data/hxie/project/202209/esc_xwliu/esc0615_version2/HiC_analysis/TAD/new_version/my_tad_filtered_mod_tadE_new.csv', index_col = 0)\n",
    "my_tad"
   ]
  },
  {
   "cell_type": "code",
   "execution_count": 34,
   "id": "59a8a6ee-0c2e-40fb-8369-81d695b42080",
   "metadata": {},
   "outputs": [],
   "source": [
    "my_tad = pd.read_csv('/share/Data/hxie/project/202209/esc_xwliu/esc0615_version2/HiC_analysis/TAD/new_version/my_tad_filtered_mod_tadE_new.csv', index_col = 0)\n",
    "tad_sel = my_tad.query('index != 131')\n",
    "# .query('index != 132').query('index != 130').query('index != 0')\n",
    "tad_sel = tad_sel.query('distance < 100')"
   ]
  },
  {
   "cell_type": "code",
   "execution_count": 35,
   "id": "7abb7c0b-15c8-4178-8e5f-8fd646ace05f",
   "metadata": {},
   "outputs": [
    {
     "data": {
      "text/html": [
       "<div>\n",
       "<style scoped>\n",
       "    .dataframe tbody tr th:only-of-type {\n",
       "        vertical-align: middle;\n",
       "    }\n",
       "\n",
       "    .dataframe tbody tr th {\n",
       "        vertical-align: top;\n",
       "    }\n",
       "\n",
       "    .dataframe thead th {\n",
       "        text-align: right;\n",
       "    }\n",
       "</style>\n",
       "<table border=\"1\" class=\"dataframe\">\n",
       "  <thead>\n",
       "    <tr style=\"text-align: right;\">\n",
       "      <th></th>\n",
       "      <th>index</th>\n",
       "      <th>start</th>\n",
       "      <th>end</th>\n",
       "      <th>distance</th>\n",
       "      <th>mask</th>\n",
       "    </tr>\n",
       "  </thead>\n",
       "  <tbody>\n",
       "    <tr>\n",
       "      <th>0</th>\n",
       "      <td>0</td>\n",
       "      <td>269</td>\n",
       "      <td>288</td>\n",
       "      <td>19</td>\n",
       "      <td>14</td>\n",
       "    </tr>\n",
       "    <tr>\n",
       "      <th>1</th>\n",
       "      <td>1</td>\n",
       "      <td>288</td>\n",
       "      <td>311</td>\n",
       "      <td>23</td>\n",
       "      <td>24</td>\n",
       "    </tr>\n",
       "    <tr>\n",
       "      <th>2</th>\n",
       "      <td>2</td>\n",
       "      <td>311</td>\n",
       "      <td>327</td>\n",
       "      <td>16</td>\n",
       "      <td>17</td>\n",
       "    </tr>\n",
       "    <tr>\n",
       "      <th>3</th>\n",
       "      <td>3</td>\n",
       "      <td>327</td>\n",
       "      <td>368</td>\n",
       "      <td>41</td>\n",
       "      <td>41</td>\n",
       "    </tr>\n",
       "    <tr>\n",
       "      <th>4</th>\n",
       "      <td>4</td>\n",
       "      <td>368</td>\n",
       "      <td>386</td>\n",
       "      <td>18</td>\n",
       "      <td>19</td>\n",
       "    </tr>\n",
       "    <tr>\n",
       "      <th>...</th>\n",
       "      <td>...</td>\n",
       "      <td>...</td>\n",
       "      <td>...</td>\n",
       "      <td>...</td>\n",
       "      <td>...</td>\n",
       "    </tr>\n",
       "    <tr>\n",
       "      <th>106</th>\n",
       "      <td>127</td>\n",
       "      <td>8332</td>\n",
       "      <td>8363</td>\n",
       "      <td>31</td>\n",
       "      <td>32</td>\n",
       "    </tr>\n",
       "    <tr>\n",
       "      <th>107</th>\n",
       "      <td>128</td>\n",
       "      <td>8363</td>\n",
       "      <td>8447</td>\n",
       "      <td>84</td>\n",
       "      <td>85</td>\n",
       "    </tr>\n",
       "    <tr>\n",
       "      <th>108</th>\n",
       "      <td>129</td>\n",
       "      <td>8447</td>\n",
       "      <td>8487</td>\n",
       "      <td>40</td>\n",
       "      <td>41</td>\n",
       "    </tr>\n",
       "    <tr>\n",
       "      <th>109</th>\n",
       "      <td>130</td>\n",
       "      <td>8487</td>\n",
       "      <td>8499</td>\n",
       "      <td>12</td>\n",
       "      <td>12</td>\n",
       "    </tr>\n",
       "    <tr>\n",
       "      <th>111</th>\n",
       "      <td>132</td>\n",
       "      <td>5185</td>\n",
       "      <td>5204</td>\n",
       "      <td>19</td>\n",
       "      <td>19</td>\n",
       "    </tr>\n",
       "  </tbody>\n",
       "</table>\n",
       "<p>100 rows × 5 columns</p>\n",
       "</div>"
      ],
      "text/plain": [
       "     index  start   end  distance  mask\n",
       "0        0    269   288        19    14\n",
       "1        1    288   311        23    24\n",
       "2        2    311   327        16    17\n",
       "3        3    327   368        41    41\n",
       "4        4    368   386        18    19\n",
       "..     ...    ...   ...       ...   ...\n",
       "106    127   8332  8363        31    32\n",
       "107    128   8363  8447        84    85\n",
       "108    129   8447  8487        40    41\n",
       "109    130   8487  8499        12    12\n",
       "111    132   5185  5204        19    19\n",
       "\n",
       "[100 rows x 5 columns]"
      ]
     },
     "execution_count": 35,
     "metadata": {},
     "output_type": "execute_result"
    }
   ],
   "source": [
    "tad_sel"
   ]
  },
  {
   "cell_type": "code",
   "execution_count": 36,
   "id": "e4bdd6fc-5c52-4b38-a595-b25341fcac2c",
   "metadata": {},
   "outputs": [
    {
     "name": "stderr",
     "output_type": "stream",
     "text": [
      "100%|██████████| 100/100 [00:00<00:00, 6084.79it/s]\n"
     ]
    }
   ],
   "source": [
    "# from tqdm import tqdm\n",
    "# mats = []\n",
    "# for i in tqdm(tad_sel.values):\n",
    "#     length = i[3]\n",
    "#     mati = halftime_mtx[i[1]-length:i[2]+length,i[1]-length:i[2]+length]\n",
    "#     mati = (mati - np.nanmean(mati))/np.nanstd(mati)\n",
    "#     mats.append(mati)\n",
    "\n",
    "np.random.seed(3)\n",
    "from tqdm import tqdm\n",
    "mats = []\n",
    "for i in tqdm(tad_sel.values):\n",
    "    length = i[3]\n",
    "    mati = halftime_mtx[i[1]:i[2]+1,i[1]:i[2]+1]\n",
    "    if np.random.rand() > 0.5:\n",
    "        mati = np.fliplr(np.transpose(np.fliplr(mati)))\n",
    "\n",
    "    mati = mati / np.nanmean(mati)\n",
    "    mats.append(mati)"
   ]
  },
  {
   "cell_type": "code",
   "execution_count": 37,
   "id": "979fac37-a073-46cf-b845-50fcc010c693",
   "metadata": {},
   "outputs": [
    {
     "name": "stderr",
     "output_type": "stream",
     "text": [
      "100%|██████████| 100/100 [00:00<00:00, 32152.58it/s]\n"
     ]
    }
   ],
   "source": [
    "resize_mats = []\n",
    "for i in tqdm(mats):\n",
    "    resize_mats.append(cv2.resize(i,(45,45), interpolation = cv2.INTER_NEAREST))\n",
    "pmat = np.nanmean(np.array(resize_mats),axis=0)"
   ]
  },
  {
   "cell_type": "code",
   "execution_count": 38,
   "id": "f44ff1a2-b317-4c96-a35e-a7ab3586402f",
   "metadata": {},
   "outputs": [],
   "source": [
    "stacked_mats = np.stack(resize_mats)\n",
    "non_nan_counts = np.sum(~np.isnan(stacked_mats), axis=0)"
   ]
  },
  {
   "cell_type": "code",
   "execution_count": 39,
   "id": "2a973251-79fb-4179-bf94-eae136b71942",
   "metadata": {},
   "outputs": [
    {
     "data": {
      "text/plain": [
       "<matplotlib.colorbar.Colorbar at 0x7fbd70b2f340>"
      ]
     },
     "execution_count": 39,
     "metadata": {},
     "output_type": "execute_result"
    },
    {
     "data": {
      "image/png": "[encoded data removed]",
      "text/plain": [
       "<Figure size 400x400 with 2 Axes>"
      ]
     },
     "metadata": {},
     "output_type": "display_data"
    }
   ],
   "source": [
    "cmap = plt.cm.coolwarm\n",
    "cmap.set_bad(color='#f0f0f0')\n",
    "plt.figure(figsize=(2, 2),dpi=200, facecolor='white')\n",
    "im2 = plt.imshow(non_nan_counts, cmap=cmap)\n",
    "plt.colorbar(im2,fraction=0.046, pad=0.04)"
   ]
  },
  {
   "cell_type": "code",
   "execution_count": 40,
   "id": "75d60e45",
   "metadata": {},
   "outputs": [
    {
     "data": {
      "text/plain": [
       "([], [])"
      ]
     },
     "execution_count": 40,
     "metadata": {},
     "output_type": "execute_result"
    },
    {
     "data": {
      "image/png": "[encoded data removed]",
      "text/plain": [
       "<Figure size 660x660 with 2 Axes>"
      ]
     },
     "metadata": {},
     "output_type": "display_data"
    }
   ],
   "source": [
    "plot = pmat.copy()\n",
    "plot[non_nan_counts <= 2] = np.nan\n",
    "\n",
    "cmap = plt.cm.coolwarm_r\n",
    "cmap.set_bad(color='#f0f0f0')\n",
    "\n",
    "# 把对角线上前后一格的值设置为nan\n",
    "for i in range(1, 45):\n",
    "    plot[i, i] = np.nan\n",
    "    plot[i-1, i] = np.nan\n",
    "    plot[i, i-1] = np.nan\n",
    "\n",
    "plt.figure(figsize=(2.2, 2.2),dpi=300, facecolor='white')\n",
    "im2 = plt.imshow(plot, cmap=cmap, vmin = 0.8, vmax = 1.1)\n",
    "cbar = plt.colorbar(im2,fraction=0.046, pad=0.04)\n",
    "cbar.outline.set_visible(False)\n",
    "# 不显示x,y轴的刻度\n",
    "plt.xticks([])\n",
    "plt.yticks([])\n",
    "# plt.title('After flipping')\n",
    "# plt.savefig('/share/Data/hxie/project/202209/esc_xwliu/figures_0827/fig4/fig4H_pileup_halftime.pdf', format='pdf', bbox_inches='tight')"
   ]
  }
 ],
 "metadata": {
  "kernelspec": {
   "display_name": "bulkhic",
   "language": "python",
   "name": "bulkhic"
  },
  "language_info": {
   "codemirror_mode": {
    "name": "ipython",
    "version": 3
   },
   "file_extension": ".py",
   "mimetype": "text/x-python",
   "name": "python",
   "nbconvert_exporter": "python",
   "pygments_lexer": "ipython3",
   "version": "3.9.10"
  }
 },
 "nbformat": 4,
 "nbformat_minor": 5
}
