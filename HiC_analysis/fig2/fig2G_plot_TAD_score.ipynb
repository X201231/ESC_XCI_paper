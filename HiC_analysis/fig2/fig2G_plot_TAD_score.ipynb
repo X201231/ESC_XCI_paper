{
 "cells": [
  {
   "cell_type": "code",
   "execution_count": 1,
   "id": "61a7128d-3df2-45ea-9c44-a5e782501177",
   "metadata": {
    "vscode": {
     "languageId": "r"
    }
   },
   "outputs": [
    {
     "name": "stderr",
     "output_type": "stream",
     "text": [
      "── \u001b[1mAttaching core tidyverse packages\u001b[22m ───────────────────────────────────────────────────────────────────────────────────────────────────────────────────────────────────────────────────────────────────────────────────────────────────────────────────────────────────────────────────────── tidyverse 2.0.0 ──\n",
      "\u001b[32m✔\u001b[39m \u001b[34mdplyr    \u001b[39m 1.1.4     \u001b[32m✔\u001b[39m \u001b[34mreadr    \u001b[39m 2.1.4\n",
      "\u001b[32m✔\u001b[39m \u001b[34mforcats  \u001b[39m 1.0.0     \u001b[32m✔\u001b[39m \u001b[34mstringr  \u001b[39m 1.5.1\n",
      "\u001b[32m✔\u001b[39m \u001b[34mggplot2  \u001b[39m 3.4.4     \u001b[32m✔\u001b[39m \u001b[34mtibble   \u001b[39m 3.2.1\n",
      "\u001b[32m✔\u001b[39m \u001b[34mlubridate\u001b[39m 1.9.3     \u001b[32m✔\u001b[39m \u001b[34mtidyr    \u001b[39m 1.3.0\n",
      "\u001b[32m✔\u001b[39m \u001b[34mpurrr    \u001b[39m 1.0.2     \n",
      "── \u001b[1mConflicts\u001b[22m ─────────────────────────────────────────────────────────────────────────────────────────────────────────────────────────────────────────────────────────────────────────────────────────────────────────────────────────────────────────────────────────────────────────── tidyverse_conflicts() ──\n",
      "\u001b[31m✖\u001b[39m \u001b[34mdplyr\u001b[39m::\u001b[32mfilter()\u001b[39m masks \u001b[34mstats\u001b[39m::filter()\n",
      "\u001b[31m✖\u001b[39m \u001b[34mdplyr\u001b[39m::\u001b[32mlag()\u001b[39m    masks \u001b[34mstats\u001b[39m::lag()\n",
      "\u001b[36mℹ\u001b[39m Use the conflicted package (\u001b[3m\u001b[34m<http://conflicted.r-lib.org/>\u001b[39m\u001b[23m) to force all conflicts to become errors\n",
      "Warning message:\n",
      "“package ‘ggpubr’ was built under R version 4.3.1”\n"
     ]
    }
   ],
   "source": [
    "library(tidyverse)\n",
    "library(ggplot2)\n",
    "library(ggpubr)"
   ]
  },
  {
   "cell_type": "code",
   "execution_count": 2,
   "id": "c6576ec4",
   "metadata": {
    "vscode": {
     "languageId": "r"
    }
   },
   "outputs": [],
   "source": [
    "esc.AS <- readRDS(\"/share/Data/hxie/project/202209/esc_xwliu/esc1014_halfday/RNA_analysis/RDS/esc_AS_remove_neg_904.rds\")"
   ]
  },
  {
   "cell_type": "code",
   "execution_count": 3,
   "id": "15f3eb08-5b67-46a5-884c-fa0d6f36e043",
   "metadata": {
    "vscode": {
     "languageId": "r"
    }
   },
   "outputs": [
    {
     "name": "stderr",
     "output_type": "stream",
     "text": [
      "\u001b[1m\u001b[22mNew names:\n",
      "\u001b[36m•\u001b[39m `` -> `...1`\n",
      "\u001b[1mRows: \u001b[22m\u001b[34m112\u001b[39m \u001b[1mColumns: \u001b[22m\u001b[34m905\u001b[39m\n",
      "\u001b[36m──\u001b[39m \u001b[1mColumn specification\u001b[22m \u001b[36m─────────────────────────────────────────────────────────────────────────────────────────────────────────────────────────────────────────────────────────────────────────────────────────────────────────────────────────────────────────────────────────────────────────────────────────\u001b[39m\n",
      "\u001b[1mDelimiter:\u001b[22m \",\"\n",
      "\u001b[32mdbl\u001b[39m (905): ...1, d0A1, d0A10, d0A11, d0A12, d0A13, d0A14, d0A15, d0A16, d0A1...\n",
      "\n",
      "\u001b[36mℹ\u001b[39m Use `spec()` to retrieve the full column specification for this data.\n",
      "\u001b[36mℹ\u001b[39m Specify the column types or set `show_col_types = FALSE` to quiet this message.\n",
      "\u001b[1m\u001b[22mNew names:\n",
      "\u001b[36m•\u001b[39m `` -> `...1`\n",
      "\u001b[1mRows: \u001b[22m\u001b[34m112\u001b[39m \u001b[1mColumns: \u001b[22m\u001b[34m905\u001b[39m\n",
      "\u001b[36m──\u001b[39m \u001b[1mColumn specification\u001b[22m \u001b[36m─────────────────────────────────────────────────────────────────────────────────────────────────────────────────────────────────────────────────────────────────────────────────────────────────────────────────────────────────────────────────────────────────────────────────────────\u001b[39m\n",
      "\u001b[1mDelimiter:\u001b[22m \",\"\n",
      "\u001b[32mdbl\u001b[39m (905): ...1, d0A1, d0A10, d0A11, d0A12, d0A13, d0A14, d0A15, d0A16, d0A1...\n",
      "\n",
      "\u001b[36mℹ\u001b[39m Use `spec()` to retrieve the full column specification for this data.\n",
      "\u001b[36mℹ\u001b[39m Specify the column types or set `show_col_types = FALSE` to quiet this message.\n",
      "\u001b[1m\u001b[22mNew names:\n",
      "\u001b[36m•\u001b[39m `` -> `...1`\n",
      "\u001b[1mRows: \u001b[22m\u001b[34m904\u001b[39m \u001b[1mColumns: \u001b[22m\u001b[34m18\u001b[39m\n",
      "\u001b[36m──\u001b[39m \u001b[1mColumn specification\u001b[22m \u001b[36m─────────────────────────────────────────────────────────────────────────────────────────────────────────────────────────────────────────────────────────────────────────────────────────────────────────────────────────────────────────────────────────────────────────────────────────\u001b[39m\n",
      "\u001b[1mDelimiter:\u001b[22m \",\"\n",
      "\u001b[31mchr\u001b[39m  (7): ...1, orig.ident, sample2, sample3, cellcycle_threshold, day, cell...\n",
      "\u001b[32mdbl\u001b[39m (11): nCount_RNA, nFeature_RNA, nCount_SCT, nFeature_SCT, SCT_snn_res.1....\n",
      "\n",
      "\u001b[36mℹ\u001b[39m Use `spec()` to retrieve the full column specification for this data.\n",
      "\u001b[36mℹ\u001b[39m Specify the column types or set `show_col_types = FALSE` to quiet this message.\n",
      "\u001b[1m\u001b[22mNew names:\n",
      "\u001b[36m•\u001b[39m `` -> `...1`\n",
      "\u001b[1mRows: \u001b[22m\u001b[34m112\u001b[39m \u001b[1mColumns: \u001b[22m\u001b[34m6\u001b[39m\n",
      "\u001b[36m──\u001b[39m \u001b[1mColumn specification\u001b[22m \u001b[36m─────────────────────────────────────────────────────────────────────────────────────────────────────────────────────────────────────────────────────────────────────────────────────────────────────────────────────────────────────────────────────────────────────────────────────────\u001b[39m\n",
      "\u001b[1mDelimiter:\u001b[22m \",\"\n",
      "\u001b[32mdbl\u001b[39m (6): ...1, index, start, end, distance, mask\n",
      "\n",
      "\u001b[36mℹ\u001b[39m Use `spec()` to retrieve the full column specification for this data.\n",
      "\u001b[36mℹ\u001b[39m Specify the column types or set `show_col_types = FALSE` to quiet this message.\n"
     ]
    }
   ],
   "source": [
    "intra_prop_B6 <- read_csv(\"raw_intra_prop_B6_112.csv\") %>% rename(index = `...1`)\n",
    "intra_prop_Cast <- read_csv(\"raw_intra_prop_Cast_112.csv\") %>% rename(index = `...1`)\n",
    "metadata <- read_csv(\"/share/Data/hxie/project/202209/esc_xwliu/esc1014_halfday/RNA_analysis/s1014_metadata_X_noM_noXistneg.csv\")\n",
    "tad <- read_csv(\"/share/Data/hxie/project/202209/esc_xwliu/esc0615_version2/HiC_analysis/TAD/new_version/my_tad_filtered_mod_tadE_new.csv\") %>% select(-index) %>% rename(index = `...1`)"
   ]
  },
  {
   "cell_type": "code",
   "execution_count": 4,
   "id": "26d6117e-f688-4e5e-b119-9b74cc5a1739",
   "metadata": {
    "vscode": {
     "languageId": "r"
    }
   },
   "outputs": [
    {
     "data": {
      "text/html": [
       "<table class=\"dataframe\">\n",
       "<caption>A tibble: 1 × 5</caption>\n",
       "<thead>\n",
       "\t<tr><th scope=col>index</th><th scope=col>start</th><th scope=col>end</th><th scope=col>distance</th><th scope=col>mask</th></tr>\n",
       "\t<tr><th scope=col>&lt;dbl&gt;</th><th scope=col>&lt;dbl&gt;</th><th scope=col>&lt;dbl&gt;</th><th scope=col>&lt;dbl&gt;</th><th scope=col>&lt;dbl&gt;</th></tr>\n",
       "</thead>\n",
       "<tbody>\n",
       "\t<tr><td>110</td><td>5173</td><td>5185</td><td>12</td><td>12</td></tr>\n",
       "</tbody>\n",
       "</table>\n"
      ],
      "text/latex": [
       "A tibble: 1 × 5\n",
       "\\begin{tabular}{lllll}\n",
       " index & start & end & distance & mask\\\\\n",
       " <dbl> & <dbl> & <dbl> & <dbl> & <dbl>\\\\\n",
       "\\hline\n",
       "\t 110 & 5173 & 5185 & 12 & 12\\\\\n",
       "\\end{tabular}\n"
      ],
      "text/markdown": [
       "\n",
       "A tibble: 1 × 5\n",
       "\n",
       "| index &lt;dbl&gt; | start &lt;dbl&gt; | end &lt;dbl&gt; | distance &lt;dbl&gt; | mask &lt;dbl&gt; |\n",
       "|---|---|---|---|---|\n",
       "| 110 | 5173 | 5185 | 12 | 12 |\n",
       "\n"
      ],
      "text/plain": [
       "  index start end  distance mask\n",
       "1 110   5173  5185 12       12  "
      ]
     },
     "metadata": {},
     "output_type": "display_data"
    }
   ],
   "source": [
    "tad %>% filter(start==5173)"
   ]
  },
  {
   "cell_type": "code",
   "execution_count": 8,
   "id": "d42356d9-1f65-466f-bfac-fd52ea2c894a",
   "metadata": {
    "vscode": {
     "languageId": "r"
    }
   },
   "outputs": [
    {
     "name": "stderr",
     "output_type": "stream",
     "text": [
      "\u001b[1m\u001b[22mJoining with `by = join_by(cellname)`\n",
      "\u001b[1m\u001b[22m`summarise()` has grouped output by 'index'. You can override using the `.groups` argument.\n",
      "\u001b[1m\u001b[22mJoining with `by = join_by(cellname)`\n",
      "\u001b[1m\u001b[22m`summarise()` has grouped output by 'index'. You can override using the `.groups` argument.\n"
     ]
    }
   ],
   "source": [
    "intra_prop_B6 <- intra_prop_B6 %>% pivot_longer(!c(\"index\"), names_to = \"cellname\", values_to = \"B6_score\") %>% left_join(metadata %>% select(cellname, plot_cluster)) %>% \n",
    "    group_by(index, plot_cluster) %>% summarise(B6_score = mean(B6_score, na.rm = TRUE))\n",
    "intra_prop_Cast <- intra_prop_Cast %>% pivot_longer(!c(\"index\"), names_to = \"cellname\", values_to = \"Cast_score\") %>% left_join(metadata %>% select(cellname, plot_cluster)) %>% \n",
    "    group_by(index, plot_cluster) %>% summarise(Cast_score = mean(Cast_score, na.rm = TRUE))"
   ]
  },
  {
   "cell_type": "code",
   "execution_count": 10,
   "id": "96dd56a9-2359-4e31-877b-3a22f64cc5d0",
   "metadata": {
    "vscode": {
     "languageId": "r"
    }
   },
   "outputs": [],
   "source": [
    "intra_prop_Cast <- intra_prop_Cast %>% pivot_wider(values_from = \"Cast_score\", names_from = \"plot_cluster\")\n",
    "intra_prop_B6 <- intra_prop_B6 %>% pivot_wider(values_from = \"B6_score\", names_from = \"plot_cluster\")"
   ]
  },
  {
   "cell_type": "code",
   "execution_count": 11,
   "id": "d34b63ed-9cbc-4847-8112-f454e59d3b6c",
   "metadata": {
    "vscode": {
     "languageId": "r"
    }
   },
   "outputs": [],
   "source": [
    "temp1 <- intra_prop_B6 %>% ungroup %>% select(-index)\n",
    "temp2 <- intra_prop_Cast %>% ungroup %>% select(-index)\n",
    "value_prop <- temp1/temp2"
   ]
  },
  {
   "cell_type": "code",
   "execution_count": 12,
   "id": "cf8dbd9f-cfa4-4699-9afd-d1430efe1c56",
   "metadata": {
    "vscode": {
     "languageId": "r"
    }
   },
   "outputs": [],
   "source": [
    "value_prop <- value_prop %>% cbind(tad %>% select(c(\"index\", \"start\", \"end\"))) %>% na.omit()"
   ]
  },
  {
   "cell_type": "code",
   "execution_count": 13,
   "id": "6d584827-37fd-407f-af7f-4961df97b99b",
   "metadata": {
    "vscode": {
     "languageId": "r"
    }
   },
   "outputs": [
    {
     "name": "stderr",
     "output_type": "stream",
     "text": [
      "\u001b[1mRows: \u001b[22m\u001b[34m7904\u001b[39m \u001b[1mColumns: \u001b[22m\u001b[34m3\u001b[39m\n",
      "\u001b[36m──\u001b[39m \u001b[1mColumn specification\u001b[22m \u001b[36m─────────────────────────────────────────────────────────────────────────────────────────────────────────────────────────────────────────────────────────────────────────────────────────────────────────────────────────────────────────────────────────────────────────────────────────\u001b[39m\n",
      "\u001b[1mDelimiter:\u001b[22m \",\"\n",
      "\u001b[31mchr\u001b[39m (2): type, type2\n",
      "\u001b[32mdbl\u001b[39m (1): pos\n",
      "\n",
      "\u001b[36mℹ\u001b[39m Use `spec()` to retrieve the full column specification for this data.\n",
      "\u001b[36mℹ\u001b[39m Specify the column types or set `show_col_types = FALSE` to quiet this message.\n"
     ]
    }
   ],
   "source": [
    "mask <- read_csv(\"/share/Data/hxie/project/202209/esc_xwliu/esc0312_tidyup/prepare/mask_snp_pos.csv\")\n",
    "mask <- mask %>% filter(type == \"mapped\" & type2 == \"SNPrich\") %>% mutate(index = pos*1000000/20000)"
   ]
  },
  {
   "cell_type": "code",
   "execution_count": 15,
   "id": "15d0ee2d-bebd-40ec-a1eb-4f8d8937d6c7",
   "metadata": {
    "vscode": {
     "languageId": "r"
    }
   },
   "outputs": [],
   "source": [
    "value_prop <- value_prop[!is.infinite(rowSums(value_prop)),]"
   ]
  },
  {
   "cell_type": "code",
   "execution_count": 16,
   "id": "78847aaa-e6e0-4752-9e6a-aa56e24cb7bb",
   "metadata": {
    "vscode": {
     "languageId": "r"
    }
   },
   "outputs": [],
   "source": [
    "anno <- value_prop %>% select(c(\"index\", \"start\", \"end\")) %>% mutate(dist = abs((start+end)/2-5173))"
   ]
  },
  {
   "cell_type": "code",
   "execution_count": 17,
   "id": "06d1897f-0cfd-48d7-bf0e-985a130724a8",
   "metadata": {
    "vscode": {
     "languageId": "r"
    }
   },
   "outputs": [],
   "source": [
    "starts <- anno %>% pull(start)\n",
    "ends <- anno %>% pull(end)"
   ]
  },
  {
   "cell_type": "code",
   "execution_count": 18,
   "id": "e3a3ca59-6efb-425b-bc5e-5169d43e8df0",
   "metadata": {
    "vscode": {
     "languageId": "r"
    }
   },
   "outputs": [],
   "source": [
    "counts <- c()\n",
    "for(i in 1:nrow(anno)){\n",
    "    temp_start <- starts[i]\n",
    "    temp_end <- ends[i]\n",
    "    fil_region <- mask %>% filter(index >= temp_start & index <= temp_end)\n",
    "    counts <- c(counts, nrow(fil_region))\n",
    "}"
   ]
  },
  {
   "cell_type": "code",
   "execution_count": 19,
   "id": "64f96027-ff36-4260-af0a-90b5815cf60c",
   "metadata": {
    "vscode": {
     "languageId": "r"
    }
   },
   "outputs": [],
   "source": [
    "anno['mask'] <- counts\n",
    "anno <- anno %>% mutate(ratio = mask/(end-start+1)) %>% filter(ratio > 0.5) %>% mutate(size = end-start+1)"
   ]
  },
  {
   "cell_type": "code",
   "execution_count": 20,
   "id": "a3ac47fc-f48b-4a5f-a42e-e9edbbda3eb0",
   "metadata": {
    "vscode": {
     "languageId": "r"
    }
   },
   "outputs": [],
   "source": [
    "# anno <- anno %>% filter(!index %in% c(111,67))"
   ]
  },
  {
   "cell_type": "code",
   "execution_count": 21,
   "id": "3679e278-cbf3-4ff2-8f0d-823ba6222a00",
   "metadata": {
    "vscode": {
     "languageId": "r"
    }
   },
   "outputs": [],
   "source": [
    "# anno %>% mutate(size = end-start+1) %>% write_csv(\"bonev_tad_filtered.csv\")"
   ]
  },
  {
   "cell_type": "code",
   "execution_count": 50,
   "id": "8790ee7b-935b-4527-a068-9faca3b5e3ee",
   "metadata": {
    "vscode": {
     "languageId": "r"
    }
   },
   "outputs": [],
   "source": [
    "plot <- value_prop %>% filter(index %in% (anno %>% pull(index))) %>% arrange(start) %>% select(!c(\"index\", \"start\", \"end\"))"
   ]
  },
  {
   "cell_type": "markdown",
   "id": "bf3367e9-254e-4354-9d57-404b629ce012",
   "metadata": {},
   "source": [
    "# plot"
   ]
  },
  {
   "cell_type": "code",
   "execution_count": 51,
   "id": "ac2d3ee7-2f01-420a-9135-d87224a618ea",
   "metadata": {
    "vscode": {
     "languageId": "r"
    }
   },
   "outputs": [],
   "source": [
    "library(ComplexHeatmap)"
   ]
  },
  {
   "cell_type": "code",
   "execution_count": 52,
   "id": "21911057-6c1e-4a5a-9ed7-03ab449aae68",
   "metadata": {
    "vscode": {
     "languageId": "r"
    }
   },
   "outputs": [],
   "source": [
    "library(circlize)\n",
    "# breaks = c(0.15,0.3,0.55,0.75,1.15)\n",
    "# color_func = colorRamp2(breaks, rev(c('#b2182b','#fddbc7','#d1e5f0','#67a9cf','#2166ac')))\n",
    "\n",
    "breaks = c(0.2,0.65,1.15)\n",
    "color_func = colorRamp2(breaks, c(\"#DADADA\",\"#ffffff\", \"#d8433c\"))\n",
    "\n",
    "# color_func = colorRamp2(breaks, c(\"#2166ac\",\"#4393c3\",\"#f7f7f7\", \"#d6604d\",\"#b2182b\"))\n",
    "color_func_dis_to_Xist = colorRamp2(c(0,100,200,400,800,1500,2500,3500,4000), c('#ffffd9','#edf8b1','#c7e9b4','#7fcdbb','#41b6c4','#1d91c0','#225ea8','#253494','#081d58'))"
   ]
  },
  {
   "cell_type": "code",
   "execution_count": 53,
   "id": "16a576cc-c20c-4667-9357-539a431d86aa",
   "metadata": {
    "vscode": {
     "languageId": "r"
    }
   },
   "outputs": [],
   "source": [
    "# rowAnno <- HeatmapAnnotation(df = anno %>% arrange(start) %>% select(dist),\n",
    "#                              col = list(dist = color_func_dis_to_Xist),which = \"row\")"
   ]
  },
  {
   "cell_type": "code",
   "execution_count": 54,
   "id": "56432f2f-c972-4b49-bd27-b9044b7601bd",
   "metadata": {
    "vscode": {
     "languageId": "r"
    }
   },
   "outputs": [],
   "source": [
    "plot <- plot %>% as.data.frame()\n",
    "names(plot) <- c(paste0(\"C\",c(0,1,2,3,4,5)))"
   ]
  },
  {
   "cell_type": "code",
   "execution_count": 66,
   "id": "f52deb4a-d867-490d-8022-c2af1728d789",
   "metadata": {
    "vscode": {
     "languageId": "r"
    }
   },
   "outputs": [
    {
     "name": "stderr",
     "output_type": "stream",
     "text": [
      "Warning message:\n",
      "“The input is a data frame-like object, convert it to a matrix.”\n"
     ]
    },
    {
     "data": {
      "text/html": [
       "<strong>png:</strong> 2"
      ],
      "text/latex": [
       "\\textbf{png:} 2"
      ],
      "text/markdown": [
       "**png:** 2"
      ],
      "text/plain": [
       "png \n",
       "  2 "
      ]
     },
     "metadata": {},
     "output_type": "display_data"
    }
   ],
   "source": [
    "options(repr.plot.width=2.5,repr.plot.height=5,repr.plot.res=300)\n",
    "set.seed(42)\n",
    "pdf(\"figures_raw_score/fig2G_heatmap.pdf\", width=2, height=5)\n",
    "hm <- Heatmap(plot %>% select(C0,C1,C2,C4,C5), \n",
    "        cluster_rows = FALSE,\n",
    "        cluster_columns = FALSE,\n",
    "        show_row_names = FALSE, \n",
    "        show_column_names = TRUE,\n",
    "        use_raster=TRUE,\n",
    "        # left_annotation = rowAnno,\n",
    "        col = color_func,\n",
    "        border = FALSE,\n",
    "        name = \"B6/Cast\\nTAD score\")\n",
    "hm <- draw(hm)\n",
    "dev.off()"
   ]
  },
  {
   "cell_type": "code",
   "execution_count": 65,
   "id": "5f1d27a9-6d0a-44b3-a40e-3549ee1a623b",
   "metadata": {
    "vscode": {
     "languageId": "r"
    }
   },
   "outputs": [
    {
     "name": "stderr",
     "output_type": "stream",
     "text": [
      "\u001b[1m\u001b[22m`summarise()` has grouped output by 'type'. You can override using the `.groups` argument.\n"
     ]
    },
    {
     "data": {
      "image/png": "[encoded data removed]",
      "text/plain": [
       "plot without title"
      ]
     },
     "metadata": {
      "image/png": {
       "height": 375,
       "width": 330
      }
     },
     "output_type": "display_data"
    }
   ],
   "source": [
    "options(repr.plot.width=2.2,repr.plot.height=2.5,repr.plot.res=300)\n",
    "p <- plot %>% cbind(anno) %>% mutate(type = ifelse(dist < 500, \"<10Mb\", ifelse(dist < 2500, \"<50Mb\", \">50Mb\"))) %>%\n",
    "    filter(!index %in% c(110,109,0)) %>%\n",
    "    select(c(paste0(\"C\", c(0,1,2,4,5)), \"type\")) %>% \n",
    "    pivot_longer(cols = !c(\"type\"), names_to = \"cluster\", values_to = \"value\") %>% \n",
    "    group_by(type, cluster) %>% summarise(mean = mean(value), sd = sd(value), n = n(), se = sd/sqrt(n)) %>%\n",
    "    ggplot(aes(x=cluster, y=mean, group=type, color=type)) + \n",
    "    geom_line(size = 0.25) +\n",
    "    geom_point(size = 0.6)+\n",
    "    geom_errorbar(aes(ymin=mean-se, ymax=mean+se), width=.4,linewidth = 0.25,\n",
    "                position=position_dodge(0))  + labs(x=\"\", y = \"B6/Cast TAD score\")+ scale_colour_manual(values=c('#e41a1c','#377eb8','#4daf4a'),name = \"\") +\n",
    "    theme_classic() +\n",
    "    theme(legend.position = \"top\",\n",
    "      text = element_text(family=\"Arial\", size=6),\n",
    "      panel.border = element_blank(),\n",
    "      panel.grid.major = element_blank(),\n",
    "      panel.grid.minor = element_blank(),\n",
    "      panel.background = element_blank(),\n",
    "      axis.line = element_line(color=\"black\", linewidth = 0.25),\n",
    "      axis.ticks = element_line(color=\"black\", linewidth = 0.25),\n",
    "      axis.text = element_text(color=\"black\",size=6),\n",
    "      legend.key = element_rect(colour = NA),\n",
    "      legend.key.width = unit(0.3, \"cm\"),\n",
    "      legend.key.height = unit(0.4, \"cm\"),\n",
    "      axis.title=element_text(color=\"black\",size=8,face=\"plain\"),\n",
    "  )\n",
    "p\n",
    "\n",
    "ggsave(\"figures_raw_score/fig2H_tad_decay_distance_to_xist.svg\", width = 2.2, height = 2.5, units = \"in\", dpi = 300)  "
   ]
  }
 ],
 "metadata": {
  "kernelspec": {
   "display_name": "seurat1128",
   "language": "R",
   "name": "seurat1128"
  },
  "language_info": {
   "codemirror_mode": "r",
   "file_extension": ".r",
   "mimetype": "text/x-r-source",
   "name": "R",
   "pygments_lexer": "r",
   "version": "4.2.3"
  }
 },
 "nbformat": 4,
 "nbformat_minor": 5
}
