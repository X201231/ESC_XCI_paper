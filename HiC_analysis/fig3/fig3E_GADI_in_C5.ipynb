{
 "cells": [
  {
   "cell_type": "code",
   "execution_count": 2,
   "metadata": {
    "vscode": {
     "languageId": "r"
    }
   },
   "outputs": [
    {
     "name": "stderr",
     "output_type": "stream",
     "text": [
      "Loading required package: SeuratObject\n",
      "\n",
      "Loading required package: sp\n",
      "\n",
      "'SeuratObject' was built with package 'Matrix' 1.6.3 but the current\n",
      "version is 1.6.4; it is recomended that you reinstall 'SeuratObject' as\n",
      "the ABI for 'Matrix' may have changed\n",
      "\n",
      "\n",
      "Attaching package: 'SeuratObject'\n",
      "\n",
      "\n",
      "The following object is masked from 'package:base':\n",
      "\n",
      "    intersect\n",
      "\n",
      "\n",
      "-- \u001b[1mAttaching core tidyverse packages\u001b[22m ------------------------ tidyverse 2.0.0 --\n",
      "\u001b[32mv\u001b[39m \u001b[34mdplyr    \u001b[39m 1.1.4     \u001b[32mv\u001b[39m \u001b[34mreadr    \u001b[39m 2.1.4\n",
      "\u001b[32mv\u001b[39m \u001b[34mforcats  \u001b[39m 1.0.0     \u001b[32mv\u001b[39m \u001b[34mstringr  \u001b[39m 1.5.1\n",
      "\u001b[32mv\u001b[39m \u001b[34mggplot2  \u001b[39m 3.4.4     \u001b[32mv\u001b[39m \u001b[34mtibble   \u001b[39m 3.2.1\n",
      "\u001b[32mv\u001b[39m \u001b[34mlubridate\u001b[39m 1.9.3     \u001b[32mv\u001b[39m \u001b[34mtidyr    \u001b[39m 1.3.0\n",
      "\u001b[32mv\u001b[39m \u001b[34mpurrr    \u001b[39m 1.0.2     \n",
      "-- \u001b[1mConflicts\u001b[22m ------------------------------------------ tidyverse_conflicts() --\n",
      "\u001b[31mx\u001b[39m \u001b[34mdplyr\u001b[39m::\u001b[32mfilter()\u001b[39m masks \u001b[34mstats\u001b[39m::filter()\n",
      "\u001b[31mx\u001b[39m \u001b[34mdplyr\u001b[39m::\u001b[32mlag()\u001b[39m    masks \u001b[34mstats\u001b[39m::lag()\n",
      "\u001b[36mi\u001b[39m Use the conflicted package (\u001b[3m\u001b[34m<http://conflicted.r-lib.org/>\u001b[39m\u001b[23m) to force all conflicts to become errors\n",
      "\n",
      "Attaching package: 'foreach'\n",
      "\n",
      "\n",
      "The following objects are masked from 'package:purrr':\n",
      "\n",
      "    accumulate, when\n",
      "\n",
      "\n",
      "Warning message:\n",
      "\"package 'doParallel' was built under R version 4.3.1\"\n",
      "Loading required package: iterators\n",
      "\n",
      "Loading required package: parallel\n",
      "\n",
      "Warning message:\n",
      "\"package 'ggpubr' was built under R version 4.3.1\"\n"
     ]
    }
   ],
   "source": [
    "library(Seurat)\n",
    "library(tidyverse)\n",
    "library(foreach)\n",
    "library(doParallel)\n",
    "library(ggplot2)\n",
    "library(ggpubr)"
   ]
  },
  {
   "cell_type": "code",
   "execution_count": 3,
   "metadata": {
    "vscode": {
     "languageId": "r"
    }
   },
   "outputs": [
    {
     "name": "stderr",
     "output_type": "stream",
     "text": [
      "Computing nearest neighbor graph\n",
      "\n",
      "Computing SNN\n",
      "\n"
     ]
    }
   ],
   "source": [
    "esc.AS <- readRDS(\"/share/Data/hxie/project/202209/esc_xwliu/esc1014_halfday/RNA_analysis/RDS/esc_AS_remove_neg_904.rds\")\n",
    "esc.AS <- FindNeighbors(esc.AS, reduction = \"pca\",dims = 1:35) %>% FindClusters(resolution = 7, verbose = FALSE)\n",
    "metadata <- esc.AS@meta.data %>% filter(cellname != \"d3A74\") %>% mutate(mc_cluster = SCT_snn_res.7)"
   ]
  },
  {
   "cell_type": "code",
   "execution_count": 3,
   "metadata": {
    "vscode": {
     "languageId": "r"
    }
   },
   "outputs": [],
   "source": [
    "esc.mc <- readRDS(\"/share/Data/hxie/project/202209/esc_xwliu/esc0615_version2/HiC_analysis/GADI/esc_mc.rds\")\n",
    "esc.c5 <- readRDS('/share/Data/hxie/project/202209/esc_xwliu/esc0615_version2/HiC_analysis/GADI/c5_153_marker_gene.rds')"
   ]
  },
  {
   "cell_type": "code",
   "execution_count": 4,
   "metadata": {
    "vscode": {
     "languageId": "r"
    }
   },
   "outputs": [
    {
     "data": {
      "text/plain": [
       "An object of class Seurat \n",
       "1661 features across 34 samples within 2 assays \n",
       "Active assay: SCT (742 features, 742 variable features)\n",
       " 3 layers present: counts, data, scale.data\n",
       " 1 other assay present: RNA\n",
       " 2 dimensional reductions calculated: pca, umap"
      ]
     },
     "metadata": {},
     "output_type": "display_data"
    }
   ],
   "source": [
    "esc.mc "
   ]
  },
  {
   "cell_type": "code",
   "execution_count": 5,
   "metadata": {
    "vscode": {
     "languageId": "r"
    }
   },
   "outputs": [
    {
     "data": {
      "text/plain": [
       "An object of class Seurat \n",
       "1015 features across 306 samples within 2 assays \n",
       "Active assay: SCT (403 features, 403 variable features)\n",
       " 3 layers present: counts, data, scale.data\n",
       " 1 other assay present: RNA\n",
       " 2 dimensional reductions calculated: pca, umap"
      ]
     },
     "metadata": {},
     "output_type": "display_data"
    }
   ],
   "source": [
    "esc.c5"
   ]
  },
  {
   "cell_type": "code",
   "execution_count": 6,
   "metadata": {
    "vscode": {
     "languageId": "r"
    }
   },
   "outputs": [],
   "source": [
    "# FindVariableFeatures(esc.mc) -> esc.mc \n",
    "# gene_consider <- VariableFeatures(esc.mc)\n",
    "\n",
    "FindVariableFeatures(esc.c5) -> esc.c5\n",
    "gene_consider <- VariableFeatures(esc.c5)\n",
    "gene_consider <- paste0('B6-',gene_consider)"
   ]
  },
  {
   "cell_type": "code",
   "execution_count": 7,
   "metadata": {
    "vscode": {
     "languageId": "r"
    }
   },
   "outputs": [
    {
     "data": {
      "text/html": [
       "403"
      ],
      "text/latex": [
       "403"
      ],
      "text/markdown": [
       "403"
      ],
      "text/plain": [
       "[1] 403"
      ]
     },
     "metadata": {},
     "output_type": "display_data"
    }
   ],
   "source": [
    "gene_consider %>% length"
   ]
  },
  {
   "cell_type": "code",
   "execution_count": 8,
   "metadata": {
    "vscode": {
     "languageId": "r"
    }
   },
   "outputs": [
    {
     "name": "stderr",
     "output_type": "stream",
     "text": [
      "Centering and scaling data matrix\n",
      "\n",
      "Warning message in irlba(A = t(x = object), nv = npcs, ...):\n",
      "\"You're computing too large a percentage of total singular values, use a standard svd instead.\"\n",
      "Warning message:\n",
      "\"Key 'PC_' taken, using 'mcsctpca_' instead\"\n"
     ]
    }
   ],
   "source": [
    "FindVariableFeatures(esc.mc) -> esc.mc\n",
    "esc.mc %>% NormalizeData() %>% ScaleData(do.center=T,do.scale=T) %>% RunPCA(verbose = F,features = VariableFeatures(esc.mc),npcs = 20,reduction.name = \"mcsct_pca\") -> esc.mc"
   ]
  },
  {
   "cell_type": "code",
   "execution_count": 9,
   "metadata": {
    "vscode": {
     "languageId": "r"
    }
   },
   "outputs": [
    {
     "data": {
      "text/html": [
       "<table class=\"dataframe\">\n",
       "<caption>A data.frame: 403 x 1</caption>\n",
       "<thead>\n",
       "\t<tr><th scope=col>as_gene</th></tr>\n",
       "\t<tr><th scope=col>&lt;chr&gt;</th></tr>\n",
       "</thead>\n",
       "<tbody>\n",
       "\t<tr><td>B6-Gpc3         </td></tr>\n",
       "\t<tr><td>B6-Arhgap6      </td></tr>\n",
       "\t<tr><td>B6-Klhl13       </td></tr>\n",
       "\t<tr><td>B6-Amot         </td></tr>\n",
       "\t<tr><td>B6-Mid1         </td></tr>\n",
       "\t<tr><td>B6-Eda          </td></tr>\n",
       "\t<tr><td>B6-Shroom4      </td></tr>\n",
       "\t<tr><td>B6-Xist         </td></tr>\n",
       "\t<tr><td>B6-Gpc4         </td></tr>\n",
       "\t<tr><td>B6-Bcor         </td></tr>\n",
       "\t<tr><td>B6-Atp6ap2      </td></tr>\n",
       "\t<tr><td>B6-Dgkk         </td></tr>\n",
       "\t<tr><td>B6-Zc3h12b      </td></tr>\n",
       "\t<tr><td>B6-Col4a6       </td></tr>\n",
       "\t<tr><td>B6-Fgf13        </td></tr>\n",
       "\t<tr><td>B6-Aff2         </td></tr>\n",
       "\t<tr><td>B6-Rnf128       </td></tr>\n",
       "\t<tr><td>B6-Pwwp3b       </td></tr>\n",
       "\t<tr><td>B6-Hs6st2       </td></tr>\n",
       "\t<tr><td>B6-Ftx          </td></tr>\n",
       "\t<tr><td>B6-Pim2         </td></tr>\n",
       "\t<tr><td>B6-Cnksr2       </td></tr>\n",
       "\t<tr><td>B6-Nhs          </td></tr>\n",
       "\t<tr><td>B6-Slc16a2      </td></tr>\n",
       "\t<tr><td>B6-Pls3         </td></tr>\n",
       "\t<tr><td>B6-Snx12        </td></tr>\n",
       "\t<tr><td>B6-Rbm10        </td></tr>\n",
       "\t<tr><td>B6-Diaph2       </td></tr>\n",
       "\t<tr><td>B6-4930519F16Rik</td></tr>\n",
       "\t<tr><td>B6-Ar           </td></tr>\n",
       "\t<tr><td>...</td></tr>\n",
       "\t<tr><td>B6-Pgrmc1  </td></tr>\n",
       "\t<tr><td>B6-Pin4    </td></tr>\n",
       "\t<tr><td>B6-Cdr1os  </td></tr>\n",
       "\t<tr><td>B6-Gm14582 </td></tr>\n",
       "\t<tr><td>B6-Gm15726 </td></tr>\n",
       "\t<tr><td>B6-Gm15009 </td></tr>\n",
       "\t<tr><td>B6-Usp26   </td></tr>\n",
       "\t<tr><td>B6-Pqbp1   </td></tr>\n",
       "\t<tr><td>B6-Bex1    </td></tr>\n",
       "\t<tr><td>B6-Gm15261 </td></tr>\n",
       "\t<tr><td>B6-Pja1    </td></tr>\n",
       "\t<tr><td>B6-Ribc1   </td></tr>\n",
       "\t<tr><td>B6-Mtcp1   </td></tr>\n",
       "\t<tr><td>B6-Alas2   </td></tr>\n",
       "\t<tr><td>B6-Plxna3  </td></tr>\n",
       "\t<tr><td>B6-Gm15385 </td></tr>\n",
       "\t<tr><td>B6-Gm14643 </td></tr>\n",
       "\t<tr><td>B6-Gm4997  </td></tr>\n",
       "\t<tr><td>B6-Gm9670  </td></tr>\n",
       "\t<tr><td>B6-Gm25520 </td></tr>\n",
       "\t<tr><td>B6-Gm6325  </td></tr>\n",
       "\t<tr><td>B6-Nlgn3   </td></tr>\n",
       "\t<tr><td>B6-Gm21986 </td></tr>\n",
       "\t<tr><td>B6-Tmsb15b2</td></tr>\n",
       "\t<tr><td>B6-Tmsb15l </td></tr>\n",
       "\t<tr><td>B6-Gm14537 </td></tr>\n",
       "\t<tr><td>B6-Gm15002 </td></tr>\n",
       "\t<tr><td>B6-Asb12   </td></tr>\n",
       "\t<tr><td>B6-Gja6    </td></tr>\n",
       "\t<tr><td>B6-Tmsb15b1</td></tr>\n",
       "</tbody>\n",
       "</table>\n"
      ],
      "text/latex": [
       "A data.frame: 403 x 1\n",
       "\\begin{tabular}{l}\n",
       " as\\_gene\\\\\n",
       " <chr>\\\\\n",
       "\\hline\n",
       "\t B6-Gpc3         \\\\\n",
       "\t B6-Arhgap6      \\\\\n",
       "\t B6-Klhl13       \\\\\n",
       "\t B6-Amot         \\\\\n",
       "\t B6-Mid1         \\\\\n",
       "\t B6-Eda          \\\\\n",
       "\t B6-Shroom4      \\\\\n",
       "\t B6-Xist         \\\\\n",
       "\t B6-Gpc4         \\\\\n",
       "\t B6-Bcor         \\\\\n",
       "\t B6-Atp6ap2      \\\\\n",
       "\t B6-Dgkk         \\\\\n",
       "\t B6-Zc3h12b      \\\\\n",
       "\t B6-Col4a6       \\\\\n",
       "\t B6-Fgf13        \\\\\n",
       "\t B6-Aff2         \\\\\n",
       "\t B6-Rnf128       \\\\\n",
       "\t B6-Pwwp3b       \\\\\n",
       "\t B6-Hs6st2       \\\\\n",
       "\t B6-Ftx          \\\\\n",
       "\t B6-Pim2         \\\\\n",
       "\t B6-Cnksr2       \\\\\n",
       "\t B6-Nhs          \\\\\n",
       "\t B6-Slc16a2      \\\\\n",
       "\t B6-Pls3         \\\\\n",
       "\t B6-Snx12        \\\\\n",
       "\t B6-Rbm10        \\\\\n",
       "\t B6-Diaph2       \\\\\n",
       "\t B6-4930519F16Rik\\\\\n",
       "\t B6-Ar           \\\\\n",
       "\t ...\\\\\n",
       "\t B6-Pgrmc1  \\\\\n",
       "\t B6-Pin4    \\\\\n",
       "\t B6-Cdr1os  \\\\\n",
       "\t B6-Gm14582 \\\\\n",
       "\t B6-Gm15726 \\\\\n",
       "\t B6-Gm15009 \\\\\n",
       "\t B6-Usp26   \\\\\n",
       "\t B6-Pqbp1   \\\\\n",
       "\t B6-Bex1    \\\\\n",
       "\t B6-Gm15261 \\\\\n",
       "\t B6-Pja1    \\\\\n",
       "\t B6-Ribc1   \\\\\n",
       "\t B6-Mtcp1   \\\\\n",
       "\t B6-Alas2   \\\\\n",
       "\t B6-Plxna3  \\\\\n",
       "\t B6-Gm15385 \\\\\n",
       "\t B6-Gm14643 \\\\\n",
       "\t B6-Gm4997  \\\\\n",
       "\t B6-Gm9670  \\\\\n",
       "\t B6-Gm25520 \\\\\n",
       "\t B6-Gm6325  \\\\\n",
       "\t B6-Nlgn3   \\\\\n",
       "\t B6-Gm21986 \\\\\n",
       "\t B6-Tmsb15b2\\\\\n",
       "\t B6-Tmsb15l \\\\\n",
       "\t B6-Gm14537 \\\\\n",
       "\t B6-Gm15002 \\\\\n",
       "\t B6-Asb12   \\\\\n",
       "\t B6-Gja6    \\\\\n",
       "\t B6-Tmsb15b1\\\\\n",
       "\\end{tabular}\n"
      ],
      "text/markdown": [
       "\n",
       "A data.frame: 403 x 1\n",
       "\n",
       "| as_gene &lt;chr&gt; |\n",
       "|---|\n",
       "| B6-Gpc3          |\n",
       "| B6-Arhgap6       |\n",
       "| B6-Klhl13        |\n",
       "| B6-Amot          |\n",
       "| B6-Mid1          |\n",
       "| B6-Eda           |\n",
       "| B6-Shroom4       |\n",
       "| B6-Xist          |\n",
       "| B6-Gpc4          |\n",
       "| B6-Bcor          |\n",
       "| B6-Atp6ap2       |\n",
       "| B6-Dgkk          |\n",
       "| B6-Zc3h12b       |\n",
       "| B6-Col4a6        |\n",
       "| B6-Fgf13         |\n",
       "| B6-Aff2          |\n",
       "| B6-Rnf128        |\n",
       "| B6-Pwwp3b        |\n",
       "| B6-Hs6st2        |\n",
       "| B6-Ftx           |\n",
       "| B6-Pim2          |\n",
       "| B6-Cnksr2        |\n",
       "| B6-Nhs           |\n",
       "| B6-Slc16a2       |\n",
       "| B6-Pls3          |\n",
       "| B6-Snx12         |\n",
       "| B6-Rbm10         |\n",
       "| B6-Diaph2        |\n",
       "| B6-4930519F16Rik |\n",
       "| B6-Ar            |\n",
       "| ... |\n",
       "| B6-Pgrmc1   |\n",
       "| B6-Pin4     |\n",
       "| B6-Cdr1os   |\n",
       "| B6-Gm14582  |\n",
       "| B6-Gm15726  |\n",
       "| B6-Gm15009  |\n",
       "| B6-Usp26    |\n",
       "| B6-Pqbp1    |\n",
       "| B6-Bex1     |\n",
       "| B6-Gm15261  |\n",
       "| B6-Pja1     |\n",
       "| B6-Ribc1    |\n",
       "| B6-Mtcp1    |\n",
       "| B6-Alas2    |\n",
       "| B6-Plxna3   |\n",
       "| B6-Gm15385  |\n",
       "| B6-Gm14643  |\n",
       "| B6-Gm4997   |\n",
       "| B6-Gm9670   |\n",
       "| B6-Gm25520  |\n",
       "| B6-Gm6325   |\n",
       "| B6-Nlgn3    |\n",
       "| B6-Gm21986  |\n",
       "| B6-Tmsb15b2 |\n",
       "| B6-Tmsb15l  |\n",
       "| B6-Gm14537  |\n",
       "| B6-Gm15002  |\n",
       "| B6-Asb12    |\n",
       "| B6-Gja6     |\n",
       "| B6-Tmsb15b1 |\n",
       "\n"
      ],
      "text/plain": [
       "    as_gene         \n",
       "1   B6-Gpc3         \n",
       "2   B6-Arhgap6      \n",
       "3   B6-Klhl13       \n",
       "4   B6-Amot         \n",
       "5   B6-Mid1         \n",
       "6   B6-Eda          \n",
       "7   B6-Shroom4      \n",
       "8   B6-Xist         \n",
       "9   B6-Gpc4         \n",
       "10  B6-Bcor         \n",
       "11  B6-Atp6ap2      \n",
       "12  B6-Dgkk         \n",
       "13  B6-Zc3h12b      \n",
       "14  B6-Col4a6       \n",
       "15  B6-Fgf13        \n",
       "16  B6-Aff2         \n",
       "17  B6-Rnf128       \n",
       "18  B6-Pwwp3b       \n",
       "19  B6-Hs6st2       \n",
       "20  B6-Ftx          \n",
       "21  B6-Pim2         \n",
       "22  B6-Cnksr2       \n",
       "23  B6-Nhs          \n",
       "24  B6-Slc16a2      \n",
       "25  B6-Pls3         \n",
       "26  B6-Snx12        \n",
       "27  B6-Rbm10        \n",
       "28  B6-Diaph2       \n",
       "29  B6-4930519F16Rik\n",
       "30  B6-Ar           \n",
       "... ...             \n",
       "374 B6-Pgrmc1       \n",
       "375 B6-Pin4         \n",
       "376 B6-Cdr1os       \n",
       "377 B6-Gm14582      \n",
       "378 B6-Gm15726      \n",
       "379 B6-Gm15009      \n",
       "380 B6-Usp26        \n",
       "381 B6-Pqbp1        \n",
       "382 B6-Bex1         \n",
       "383 B6-Gm15261      \n",
       "384 B6-Pja1         \n",
       "385 B6-Ribc1        \n",
       "386 B6-Mtcp1        \n",
       "387 B6-Alas2        \n",
       "388 B6-Plxna3       \n",
       "389 B6-Gm15385      \n",
       "390 B6-Gm14643      \n",
       "391 B6-Gm4997       \n",
       "392 B6-Gm9670       \n",
       "393 B6-Gm25520      \n",
       "394 B6-Gm6325       \n",
       "395 B6-Nlgn3        \n",
       "396 B6-Gm21986      \n",
       "397 B6-Tmsb15b2     \n",
       "398 B6-Tmsb15l      \n",
       "399 B6-Gm14537      \n",
       "400 B6-Gm15002      \n",
       "401 B6-Asb12        \n",
       "402 B6-Gja6         \n",
       "403 B6-Tmsb15b1     "
      ]
     },
     "metadata": {},
     "output_type": "display_data"
    }
   ],
   "source": [
    "gene_info <- gene_consider %>% as.data.frame()\n",
    "names(gene_info) <- \"as_gene\"\n",
    "gene_info"
   ]
  },
  {
   "cell_type": "markdown",
   "metadata": {},
   "source": [
    "# Gene info"
   ]
  },
  {
   "cell_type": "code",
   "execution_count": 10,
   "metadata": {
    "vscode": {
     "languageId": "r"
    }
   },
   "outputs": [],
   "source": [
    "options(scipen = 999)"
   ]
  },
  {
   "cell_type": "code",
   "execution_count": 11,
   "metadata": {
    "vscode": {
     "languageId": "r"
    }
   },
   "outputs": [
    {
     "name": "stderr",
     "output_type": "stream",
     "text": [
      "\u001b[1mRows: \u001b[22m\u001b[34m55335\u001b[39m \u001b[1mColumns: \u001b[22m\u001b[34m6\u001b[39m\n",
      "\u001b[36m--\u001b[39m \u001b[1mColumn specification\u001b[22m \u001b[36m--------------------------------------------------------\u001b[39m\n",
      "\u001b[1mDelimiter:\u001b[22m \"\\t\"\n",
      "\u001b[31mchr\u001b[39m (4): X1, X4, X5, X6\n",
      "\u001b[32mdbl\u001b[39m (2): X2, X3\n",
      "\n",
      "\u001b[36mi\u001b[39m Use `spec()` to retrieve the full column specification for this data.\n",
      "\u001b[36mi\u001b[39m Specify the column types or set `show_col_types = FALSE` to quiet this message.\n"
     ]
    }
   ],
   "source": [
    "genes <- read_tsv(\"/share/Data/public/ref_genome/mouse_ref/M23/raw_data/gene.bed\",col_names = FALSE)\n",
    "names(genes) <- c(\"chrom\",\"start\",\"end\",\"id\",\"name\",\"strand\")\n",
    "genes <- genes %>% mutate(length = end - start) %>% arrange(desc(length)) %>% group_by(name) %>% slice(1) %>% ungroup() %>% arrange(chrom, start) %>% select(-length)\n",
    "genes <- genes %>% filter(chrom == \"chrX\")"
   ]
  },
  {
   "cell_type": "code",
   "execution_count": 12,
   "metadata": {
    "vscode": {
     "languageId": "r"
    }
   },
   "outputs": [
    {
     "data": {
      "text/html": [
       "<table class=\"dataframe\">\n",
       "<caption>A tibble: 6 x 9</caption>\n",
       "<thead>\n",
       "\t<tr><th scope=col>chrom</th><th scope=col>start</th><th scope=col>end</th><th scope=col>id</th><th scope=col>name</th><th scope=col>strand</th><th scope=col>start_bin</th><th scope=col>end_bin</th><th scope=col>pos</th></tr>\n",
       "\t<tr><th scope=col>&lt;chr&gt;</th><th scope=col>&lt;dbl&gt;</th><th scope=col>&lt;dbl&gt;</th><th scope=col>&lt;chr&gt;</th><th scope=col>&lt;chr&gt;</th><th scope=col>&lt;chr&gt;</th><th scope=col>&lt;dbl&gt;</th><th scope=col>&lt;dbl&gt;</th><th scope=col>&lt;chr&gt;</th></tr>\n",
       "</thead>\n",
       "<tbody>\n",
       "\t<tr><td>chrX</td><td>3076874</td><td>3078817</td><td>ENSMUSG00000100249.1</td><td>Btbd35f23</td><td>+</td><td>2560000</td><td>3560000</td><td>2560000_3560000</td></tr>\n",
       "\t<tr><td>chrX</td><td>3193886</td><td>3195827</td><td>ENSMUSG00000096426.2</td><td>Btbd35f24</td><td>-</td><td>2680000</td><td>3680000</td><td>2680000_3680000</td></tr>\n",
       "\t<tr><td>chrX</td><td>3225599</td><td>3230364</td><td>ENSMUSG00000084298.1</td><td>Gm14331  </td><td>+</td><td>2720000</td><td>3720000</td><td>2720000_3720000</td></tr>\n",
       "\t<tr><td>chrX</td><td>3231694</td><td>3231958</td><td>ENSMUSG00000095907.2</td><td>Gm14333  </td><td>-</td><td>2720000</td><td>3720000</td><td>2720000_3720000</td></tr>\n",
       "\t<tr><td>chrX</td><td>3276855</td><td>3278543</td><td>ENSMUSG00000080876.3</td><td>Gm14332  </td><td>-</td><td>2760000</td><td>3760000</td><td>2760000_3760000</td></tr>\n",
       "\t<tr><td>chrX</td><td>3328042</td><td>3328735</td><td>ENSMUSG00000083144.1</td><td>Gm14334  </td><td>+</td><td>2820000</td><td>3820000</td><td>2820000_3820000</td></tr>\n",
       "</tbody>\n",
       "</table>\n"
      ],
      "text/latex": [
       "A tibble: 6 x 9\n",
       "\\begin{tabular}{lllllllll}\n",
       " chrom & start & end & id & name & strand & start\\_bin & end\\_bin & pos\\\\\n",
       " <chr> & <dbl> & <dbl> & <chr> & <chr> & <chr> & <dbl> & <dbl> & <chr>\\\\\n",
       "\\hline\n",
       "\t chrX & 3076874 & 3078817 & ENSMUSG00000100249.1 & Btbd35f23 & + & 2560000 & 3560000 & 2560000\\_3560000\\\\\n",
       "\t chrX & 3193886 & 3195827 & ENSMUSG00000096426.2 & Btbd35f24 & - & 2680000 & 3680000 & 2680000\\_3680000\\\\\n",
       "\t chrX & 3225599 & 3230364 & ENSMUSG00000084298.1 & Gm14331   & + & 2720000 & 3720000 & 2720000\\_3720000\\\\\n",
       "\t chrX & 3231694 & 3231958 & ENSMUSG00000095907.2 & Gm14333   & - & 2720000 & 3720000 & 2720000\\_3720000\\\\\n",
       "\t chrX & 3276855 & 3278543 & ENSMUSG00000080876.3 & Gm14332   & - & 2760000 & 3760000 & 2760000\\_3760000\\\\\n",
       "\t chrX & 3328042 & 3328735 & ENSMUSG00000083144.1 & Gm14334   & + & 2820000 & 3820000 & 2820000\\_3820000\\\\\n",
       "\\end{tabular}\n"
      ],
      "text/markdown": [
       "\n",
       "A tibble: 6 x 9\n",
       "\n",
       "| chrom &lt;chr&gt; | start &lt;dbl&gt; | end &lt;dbl&gt; | id &lt;chr&gt; | name &lt;chr&gt; | strand &lt;chr&gt; | start_bin &lt;dbl&gt; | end_bin &lt;dbl&gt; | pos &lt;chr&gt; |\n",
       "|---|---|---|---|---|---|---|---|---|\n",
       "| chrX | 3076874 | 3078817 | ENSMUSG00000100249.1 | Btbd35f23 | + | 2560000 | 3560000 | 2560000_3560000 |\n",
       "| chrX | 3193886 | 3195827 | ENSMUSG00000096426.2 | Btbd35f24 | - | 2680000 | 3680000 | 2680000_3680000 |\n",
       "| chrX | 3225599 | 3230364 | ENSMUSG00000084298.1 | Gm14331   | + | 2720000 | 3720000 | 2720000_3720000 |\n",
       "| chrX | 3231694 | 3231958 | ENSMUSG00000095907.2 | Gm14333   | - | 2720000 | 3720000 | 2720000_3720000 |\n",
       "| chrX | 3276855 | 3278543 | ENSMUSG00000080876.3 | Gm14332   | - | 2760000 | 3760000 | 2760000_3760000 |\n",
       "| chrX | 3328042 | 3328735 | ENSMUSG00000083144.1 | Gm14334   | + | 2820000 | 3820000 | 2820000_3820000 |\n",
       "\n"
      ],
      "text/plain": [
       "  chrom start   end     id                   name      strand start_bin end_bin\n",
       "1 chrX  3076874 3078817 ENSMUSG00000100249.1 Btbd35f23 +      2560000   3560000\n",
       "2 chrX  3193886 3195827 ENSMUSG00000096426.2 Btbd35f24 -      2680000   3680000\n",
       "3 chrX  3225599 3230364 ENSMUSG00000084298.1 Gm14331   +      2720000   3720000\n",
       "4 chrX  3231694 3231958 ENSMUSG00000095907.2 Gm14333   -      2720000   3720000\n",
       "5 chrX  3276855 3278543 ENSMUSG00000080876.3 Gm14332   -      2760000   3760000\n",
       "6 chrX  3328042 3328735 ENSMUSG00000083144.1 Gm14334   +      2820000   3820000\n",
       "  pos            \n",
       "1 2560000_3560000\n",
       "2 2680000_3680000\n",
       "3 2720000_3720000\n",
       "4 2720000_3720000\n",
       "5 2760000_3760000\n",
       "6 2820000_3820000"
      ]
     },
     "metadata": {},
     "output_type": "display_data"
    }
   ],
   "source": [
    "bin_width <- 20000\n",
    "genes <- genes %>% \n",
    "  mutate(start_bin = bin_width * floor(start / bin_width) - bin_width*25, \n",
    "         end_bin = bin_width * floor(end / bin_width) + bin_width*25)\n",
    "genes <- genes %>% mutate(pos = paste0(start_bin,\"_\",end_bin))\n",
    "head(genes)"
   ]
  },
  {
   "cell_type": "code",
   "execution_count": 13,
   "metadata": {
    "vscode": {
     "languageId": "r"
    }
   },
   "outputs": [
    {
     "data": {
      "text/html": [
       "<table class=\"dataframe\">\n",
       "<caption>A tibble: 2616 x 3</caption>\n",
       "<thead>\n",
       "\t<tr><th scope=col>name</th><th scope=col>start_bin</th><th scope=col>end_bin</th></tr>\n",
       "\t<tr><th scope=col>&lt;chr&gt;</th><th scope=col>&lt;dbl&gt;</th><th scope=col>&lt;dbl&gt;</th></tr>\n",
       "</thead>\n",
       "<tbody>\n",
       "\t<tr><td>1110012L19Rik</td><td> 69880000</td><td> 70880000</td></tr>\n",
       "\t<tr><td>1600025M17Rik</td><td> 55800000</td><td> 56820000</td></tr>\n",
       "\t<tr><td>1700003E24Rik</td><td> 92640000</td><td> 93640000</td></tr>\n",
       "\t<tr><td>1700010D01Rik</td><td> 95220000</td><td> 96220000</td></tr>\n",
       "\t<tr><td>1700011M02Rik</td><td>102400000</td><td>103400000</td></tr>\n",
       "\t<tr><td>1700013H16Rik</td><td> 53240000</td><td> 54240000</td></tr>\n",
       "\t<tr><td>1700018G05Rik</td><td>102420000</td><td>103420000</td></tr>\n",
       "\t<tr><td>1700020N15Rik</td><td> 69440000</td><td> 70440000</td></tr>\n",
       "\t<tr><td>1700031F05Rik</td><td>102340000</td><td>103360000</td></tr>\n",
       "\t<tr><td>1700036O09Rik</td><td> 66940000</td><td> 67940000</td></tr>\n",
       "\t<tr><td>1700080O16Rik</td><td> 51460000</td><td> 52460000</td></tr>\n",
       "\t<tr><td>1700084M14Rik</td><td> 91060000</td><td> 92060000</td></tr>\n",
       "\t<tr><td>1700111N16Rik</td><td> 69420000</td><td> 70640000</td></tr>\n",
       "\t<tr><td>1700121L16Rik</td><td>104300000</td><td>105340000</td></tr>\n",
       "\t<tr><td>1810030O07Rik</td><td> 12140000</td><td> 13160000</td></tr>\n",
       "\t<tr><td>2010106E10Rik</td><td>111980000</td><td>113040000</td></tr>\n",
       "\t<tr><td>2010204K13Rik</td><td>  6900000</td><td>  7940000</td></tr>\n",
       "\t<tr><td>2010308F09Rik</td><td> 12720000</td><td> 13740000</td></tr>\n",
       "\t<tr><td>2610002M06Rik</td><td>107280000</td><td>108300000</td></tr>\n",
       "\t<tr><td>2810403D21Rik</td><td>108320000</td><td>109460000</td></tr>\n",
       "\t<tr><td>3010001F23Rik</td><td>151860000</td><td>152900000</td></tr>\n",
       "\t<tr><td>3110067C02Rik</td><td>149960000</td><td>150960000</td></tr>\n",
       "\t<tr><td>3632454L22Rik</td><td>134520000</td><td>135560000</td></tr>\n",
       "\t<tr><td>3830403N18Rik</td><td> 55620000</td><td> 56640000</td></tr>\n",
       "\t<tr><td>3830417A13Rik</td><td> 63660000</td><td> 64660000</td></tr>\n",
       "\t<tr><td>4921511C20Rik</td><td>126880000</td><td>127880000</td></tr>\n",
       "\t<tr><td>4921511M17Rik</td><td>153520000</td><td>154520000</td></tr>\n",
       "\t<tr><td>4930402K13Rik</td><td>  8600000</td><td>  9600000</td></tr>\n",
       "\t<tr><td>4930415L06Rik</td><td> 89420000</td><td> 90420000</td></tr>\n",
       "\t<tr><td>4930447F04Rik</td><td> 65800000</td><td> 66800000</td></tr>\n",
       "\t<tr><td>...</td><td>...</td><td>...</td></tr>\n",
       "\t<tr><td>Zfp185    </td><td> 72480000</td><td> 73520000</td></tr>\n",
       "\t<tr><td>Zfp275    </td><td> 72840000</td><td> 73840000</td></tr>\n",
       "\t<tr><td>Zfp280c   </td><td> 48040000</td><td> 49080000</td></tr>\n",
       "\t<tr><td>Zfp300    </td><td> 20560000</td><td> 21580000</td></tr>\n",
       "\t<tr><td>Zfp36l1-ps</td><td> 37680000</td><td> 38680000</td></tr>\n",
       "\t<tr><td>Zfp36l3   </td><td> 53260000</td><td> 54260000</td></tr>\n",
       "\t<tr><td>Zfp449    </td><td> 55840000</td><td> 56860000</td></tr>\n",
       "\t<tr><td>Zfp711    </td><td>112100000</td><td>113120000</td></tr>\n",
       "\t<tr><td>Zfp92     </td><td> 72900000</td><td> 73920000</td></tr>\n",
       "\t<tr><td>Zfx       </td><td> 93560000</td><td> 94620000</td></tr>\n",
       "\t<tr><td>Zic3      </td><td> 57520000</td><td> 58540000</td></tr>\n",
       "\t<tr><td>Zmat1     </td><td>134460000</td><td>135500000</td></tr>\n",
       "\t<tr><td>Zmym3     </td><td>100900000</td><td>101920000</td></tr>\n",
       "\t<tr><td>Zrsr2     </td><td>163420000</td><td>164440000</td></tr>\n",
       "\t<tr><td>Zxda      </td><td> 94280000</td><td> 95280000</td></tr>\n",
       "\t<tr><td>Zxdb      </td><td> 94220000</td><td> 95220000</td></tr>\n",
       "\t<tr><td>n-R5s10   </td><td> 85900000</td><td> 86900000</td></tr>\n",
       "\t<tr><td>n-R5s12   </td><td>135760000</td><td>136760000</td></tr>\n",
       "\t<tr><td>n-R5s13   </td><td>151260000</td><td>152260000</td></tr>\n",
       "\t<tr><td>n-R5s14   </td><td>151480000</td><td>152480000</td></tr>\n",
       "\t<tr><td>n-R5s15   </td><td>151800000</td><td>152800000</td></tr>\n",
       "\t<tr><td>n-R5s16   </td><td>155040000</td><td>156040000</td></tr>\n",
       "\t<tr><td>n-R5s18   </td><td>163620000</td><td>164620000</td></tr>\n",
       "\t<tr><td>n-R5s2    </td><td>  5600000</td><td>  6600000</td></tr>\n",
       "\t<tr><td>n-R5s3    </td><td> 12700000</td><td> 13700000</td></tr>\n",
       "\t<tr><td>n-R5s5    </td><td> 17820000</td><td> 18820000</td></tr>\n",
       "\t<tr><td>n-R5s6    </td><td> 49360000</td><td> 50360000</td></tr>\n",
       "\t<tr><td>n-R5s7    </td><td> 68440000</td><td> 69440000</td></tr>\n",
       "\t<tr><td>n-R5s8    </td><td> 70620000</td><td> 71620000</td></tr>\n",
       "\t<tr><td>n-R5s9    </td><td> 82840000</td><td> 83840000</td></tr>\n",
       "</tbody>\n",
       "</table>\n"
      ],
      "text/latex": [
       "A tibble: 2616 x 3\n",
       "\\begin{tabular}{lll}\n",
       " name & start\\_bin & end\\_bin\\\\\n",
       " <chr> & <dbl> & <dbl>\\\\\n",
       "\\hline\n",
       "\t 1110012L19Rik &  69880000 &  70880000\\\\\n",
       "\t 1600025M17Rik &  55800000 &  56820000\\\\\n",
       "\t 1700003E24Rik &  92640000 &  93640000\\\\\n",
       "\t 1700010D01Rik &  95220000 &  96220000\\\\\n",
       "\t 1700011M02Rik & 102400000 & 103400000\\\\\n",
       "\t 1700013H16Rik &  53240000 &  54240000\\\\\n",
       "\t 1700018G05Rik & 102420000 & 103420000\\\\\n",
       "\t 1700020N15Rik &  69440000 &  70440000\\\\\n",
       "\t 1700031F05Rik & 102340000 & 103360000\\\\\n",
       "\t 1700036O09Rik &  66940000 &  67940000\\\\\n",
       "\t 1700080O16Rik &  51460000 &  52460000\\\\\n",
       "\t 1700084M14Rik &  91060000 &  92060000\\\\\n",
       "\t 1700111N16Rik &  69420000 &  70640000\\\\\n",
       "\t 1700121L16Rik & 104300000 & 105340000\\\\\n",
       "\t 1810030O07Rik &  12140000 &  13160000\\\\\n",
       "\t 2010106E10Rik & 111980000 & 113040000\\\\\n",
       "\t 2010204K13Rik &   6900000 &   7940000\\\\\n",
       "\t 2010308F09Rik &  12720000 &  13740000\\\\\n",
       "\t 2610002M06Rik & 107280000 & 108300000\\\\\n",
       "\t 2810403D21Rik & 108320000 & 109460000\\\\\n",
       "\t 3010001F23Rik & 151860000 & 152900000\\\\\n",
       "\t 3110067C02Rik & 149960000 & 150960000\\\\\n",
       "\t 3632454L22Rik & 134520000 & 135560000\\\\\n",
       "\t 3830403N18Rik &  55620000 &  56640000\\\\\n",
       "\t 3830417A13Rik &  63660000 &  64660000\\\\\n",
       "\t 4921511C20Rik & 126880000 & 127880000\\\\\n",
       "\t 4921511M17Rik & 153520000 & 154520000\\\\\n",
       "\t 4930402K13Rik &   8600000 &   9600000\\\\\n",
       "\t 4930415L06Rik &  89420000 &  90420000\\\\\n",
       "\t 4930447F04Rik &  65800000 &  66800000\\\\\n",
       "\t ... & ... & ...\\\\\n",
       "\t Zfp185     &  72480000 &  73520000\\\\\n",
       "\t Zfp275     &  72840000 &  73840000\\\\\n",
       "\t Zfp280c    &  48040000 &  49080000\\\\\n",
       "\t Zfp300     &  20560000 &  21580000\\\\\n",
       "\t Zfp36l1-ps &  37680000 &  38680000\\\\\n",
       "\t Zfp36l3    &  53260000 &  54260000\\\\\n",
       "\t Zfp449     &  55840000 &  56860000\\\\\n",
       "\t Zfp711     & 112100000 & 113120000\\\\\n",
       "\t Zfp92      &  72900000 &  73920000\\\\\n",
       "\t Zfx        &  93560000 &  94620000\\\\\n",
       "\t Zic3       &  57520000 &  58540000\\\\\n",
       "\t Zmat1      & 134460000 & 135500000\\\\\n",
       "\t Zmym3      & 100900000 & 101920000\\\\\n",
       "\t Zrsr2      & 163420000 & 164440000\\\\\n",
       "\t Zxda       &  94280000 &  95280000\\\\\n",
       "\t Zxdb       &  94220000 &  95220000\\\\\n",
       "\t n-R5s10    &  85900000 &  86900000\\\\\n",
       "\t n-R5s12    & 135760000 & 136760000\\\\\n",
       "\t n-R5s13    & 151260000 & 152260000\\\\\n",
       "\t n-R5s14    & 151480000 & 152480000\\\\\n",
       "\t n-R5s15    & 151800000 & 152800000\\\\\n",
       "\t n-R5s16    & 155040000 & 156040000\\\\\n",
       "\t n-R5s18    & 163620000 & 164620000\\\\\n",
       "\t n-R5s2     &   5600000 &   6600000\\\\\n",
       "\t n-R5s3     &  12700000 &  13700000\\\\\n",
       "\t n-R5s5     &  17820000 &  18820000\\\\\n",
       "\t n-R5s6     &  49360000 &  50360000\\\\\n",
       "\t n-R5s7     &  68440000 &  69440000\\\\\n",
       "\t n-R5s8     &  70620000 &  71620000\\\\\n",
       "\t n-R5s9     &  82840000 &  83840000\\\\\n",
       "\\end{tabular}\n"
      ],
      "text/markdown": [
       "\n",
       "A tibble: 2616 x 3\n",
       "\n",
       "| name &lt;chr&gt; | start_bin &lt;dbl&gt; | end_bin &lt;dbl&gt; |\n",
       "|---|---|---|\n",
       "| 1110012L19Rik |  69880000 |  70880000 |\n",
       "| 1600025M17Rik |  55800000 |  56820000 |\n",
       "| 1700003E24Rik |  92640000 |  93640000 |\n",
       "| 1700010D01Rik |  95220000 |  96220000 |\n",
       "| 1700011M02Rik | 102400000 | 103400000 |\n",
       "| 1700013H16Rik |  53240000 |  54240000 |\n",
       "| 1700018G05Rik | 102420000 | 103420000 |\n",
       "| 1700020N15Rik |  69440000 |  70440000 |\n",
       "| 1700031F05Rik | 102340000 | 103360000 |\n",
       "| 1700036O09Rik |  66940000 |  67940000 |\n",
       "| 1700080O16Rik |  51460000 |  52460000 |\n",
       "| 1700084M14Rik |  91060000 |  92060000 |\n",
       "| 1700111N16Rik |  69420000 |  70640000 |\n",
       "| 1700121L16Rik | 104300000 | 105340000 |\n",
       "| 1810030O07Rik |  12140000 |  13160000 |\n",
       "| 2010106E10Rik | 111980000 | 113040000 |\n",
       "| 2010204K13Rik |   6900000 |   7940000 |\n",
       "| 2010308F09Rik |  12720000 |  13740000 |\n",
       "| 2610002M06Rik | 107280000 | 108300000 |\n",
       "| 2810403D21Rik | 108320000 | 109460000 |\n",
       "| 3010001F23Rik | 151860000 | 152900000 |\n",
       "| 3110067C02Rik | 149960000 | 150960000 |\n",
       "| 3632454L22Rik | 134520000 | 135560000 |\n",
       "| 3830403N18Rik |  55620000 |  56640000 |\n",
       "| 3830417A13Rik |  63660000 |  64660000 |\n",
       "| 4921511C20Rik | 126880000 | 127880000 |\n",
       "| 4921511M17Rik | 153520000 | 154520000 |\n",
       "| 4930402K13Rik |   8600000 |   9600000 |\n",
       "| 4930415L06Rik |  89420000 |  90420000 |\n",
       "| 4930447F04Rik |  65800000 |  66800000 |\n",
       "| ... | ... | ... |\n",
       "| Zfp185     |  72480000 |  73520000 |\n",
       "| Zfp275     |  72840000 |  73840000 |\n",
       "| Zfp280c    |  48040000 |  49080000 |\n",
       "| Zfp300     |  20560000 |  21580000 |\n",
       "| Zfp36l1-ps |  37680000 |  38680000 |\n",
       "| Zfp36l3    |  53260000 |  54260000 |\n",
       "| Zfp449     |  55840000 |  56860000 |\n",
       "| Zfp711     | 112100000 | 113120000 |\n",
       "| Zfp92      |  72900000 |  73920000 |\n",
       "| Zfx        |  93560000 |  94620000 |\n",
       "| Zic3       |  57520000 |  58540000 |\n",
       "| Zmat1      | 134460000 | 135500000 |\n",
       "| Zmym3      | 100900000 | 101920000 |\n",
       "| Zrsr2      | 163420000 | 164440000 |\n",
       "| Zxda       |  94280000 |  95280000 |\n",
       "| Zxdb       |  94220000 |  95220000 |\n",
       "| n-R5s10    |  85900000 |  86900000 |\n",
       "| n-R5s12    | 135760000 | 136760000 |\n",
       "| n-R5s13    | 151260000 | 152260000 |\n",
       "| n-R5s14    | 151480000 | 152480000 |\n",
       "| n-R5s15    | 151800000 | 152800000 |\n",
       "| n-R5s16    | 155040000 | 156040000 |\n",
       "| n-R5s18    | 163620000 | 164620000 |\n",
       "| n-R5s2     |   5600000 |   6600000 |\n",
       "| n-R5s3     |  12700000 |  13700000 |\n",
       "| n-R5s5     |  17820000 |  18820000 |\n",
       "| n-R5s6     |  49360000 |  50360000 |\n",
       "| n-R5s7     |  68440000 |  69440000 |\n",
       "| n-R5s8     |  70620000 |  71620000 |\n",
       "| n-R5s9     |  82840000 |  83840000 |\n",
       "\n"
      ],
      "text/plain": [
       "     name          start_bin end_bin  \n",
       "1    1110012L19Rik  69880000  70880000\n",
       "2    1600025M17Rik  55800000  56820000\n",
       "3    1700003E24Rik  92640000  93640000\n",
       "4    1700010D01Rik  95220000  96220000\n",
       "5    1700011M02Rik 102400000 103400000\n",
       "6    1700013H16Rik  53240000  54240000\n",
       "7    1700018G05Rik 102420000 103420000\n",
       "8    1700020N15Rik  69440000  70440000\n",
       "9    1700031F05Rik 102340000 103360000\n",
       "10   1700036O09Rik  66940000  67940000\n",
       "11   1700080O16Rik  51460000  52460000\n",
       "12   1700084M14Rik  91060000  92060000\n",
       "13   1700111N16Rik  69420000  70640000\n",
       "14   1700121L16Rik 104300000 105340000\n",
       "15   1810030O07Rik  12140000  13160000\n",
       "16   2010106E10Rik 111980000 113040000\n",
       "17   2010204K13Rik   6900000   7940000\n",
       "18   2010308F09Rik  12720000  13740000\n",
       "19   2610002M06Rik 107280000 108300000\n",
       "20   2810403D21Rik 108320000 109460000\n",
       "21   3010001F23Rik 151860000 152900000\n",
       "22   3110067C02Rik 149960000 150960000\n",
       "23   3632454L22Rik 134520000 135560000\n",
       "24   3830403N18Rik  55620000  56640000\n",
       "25   3830417A13Rik  63660000  64660000\n",
       "26   4921511C20Rik 126880000 127880000\n",
       "27   4921511M17Rik 153520000 154520000\n",
       "28   4930402K13Rik   8600000   9600000\n",
       "29   4930415L06Rik  89420000  90420000\n",
       "30   4930447F04Rik  65800000  66800000\n",
       "...  ...           ...       ...      \n",
       "2587 Zfp185         72480000  73520000\n",
       "2588 Zfp275         72840000  73840000\n",
       "2589 Zfp280c        48040000  49080000\n",
       "2590 Zfp300         20560000  21580000\n",
       "2591 Zfp36l1-ps     37680000  38680000\n",
       "2592 Zfp36l3        53260000  54260000\n",
       "2593 Zfp449         55840000  56860000\n",
       "2594 Zfp711        112100000 113120000\n",
       "2595 Zfp92          72900000  73920000\n",
       "2596 Zfx            93560000  94620000\n",
       "2597 Zic3           57520000  58540000\n",
       "2598 Zmat1         134460000 135500000\n",
       "2599 Zmym3         100900000 101920000\n",
       "2600 Zrsr2         163420000 164440000\n",
       "2601 Zxda           94280000  95280000\n",
       "2602 Zxdb           94220000  95220000\n",
       "2603 n-R5s10        85900000  86900000\n",
       "2604 n-R5s12       135760000 136760000\n",
       "2605 n-R5s13       151260000 152260000\n",
       "2606 n-R5s14       151480000 152480000\n",
       "2607 n-R5s15       151800000 152800000\n",
       "2608 n-R5s16       155040000 156040000\n",
       "2609 n-R5s18       163620000 164620000\n",
       "2610 n-R5s2          5600000   6600000\n",
       "2611 n-R5s3         12700000  13700000\n",
       "2612 n-R5s5         17820000  18820000\n",
       "2613 n-R5s6         49360000  50360000\n",
       "2614 n-R5s7         68440000  69440000\n",
       "2615 n-R5s8         70620000  71620000\n",
       "2616 n-R5s9         82840000  83840000"
      ]
     },
     "metadata": {},
     "output_type": "display_data"
    }
   ],
   "source": [
    "gene_bins <- genes %>% select(name,start_bin,end_bin) %>% distinct() %>% arrange(name,start_bin)\n",
    "gene_bins"
   ]
  },
  {
   "cell_type": "code",
   "execution_count": 14,
   "metadata": {
    "vscode": {
     "languageId": "r"
    }
   },
   "outputs": [],
   "source": [
    "split_gene_bins <- function(gene, start_bin, end_bin, res = 20000) {\n",
    "  sequence <- seq(start_bin, end_bin, by = res)\n",
    "  pair_list <- lapply(1:(length(sequence)-1), function(i) c(sequence[i], sequence[i+1]))\n",
    "  start1 <- sapply(pair_list, \"[\", 1)\n",
    "  end1 <- sapply(pair_list, \"[\", 2)\n",
    "  genes <- rep(gene, length(start1))\n",
    "  matrix <- cbind(genes, start1, end1)\n",
    "}"
   ]
  },
  {
   "cell_type": "code",
   "execution_count": 15,
   "metadata": {
    "vscode": {
     "languageId": "r"
    }
   },
   "outputs": [],
   "source": [
    "gene_bins_split <- do.call(rbind, apply(gene_bins, 1, function(x) split_gene_bins(x[1], x[2], x[3]))) %>% as_tibble()"
   ]
  },
  {
   "cell_type": "markdown",
   "metadata": {},
   "source": [
    "# DI dynamic data"
   ]
  },
  {
   "cell_type": "code",
   "execution_count": 17,
   "metadata": {
    "vscode": {
     "languageId": "r"
    }
   },
   "outputs": [
    {
     "name": "stderr",
     "output_type": "stream",
     "text": [
      "\u001b[1m\u001b[22mNew names:\n",
      "\u001b[36m*\u001b[39m `` -> `...1`\n",
      "\u001b[1mRows: \u001b[22m\u001b[34m1690500\u001b[39m \u001b[1mColumns: \u001b[22m\u001b[34m12\u001b[39m\n",
      "\u001b[36m--\u001b[39m \u001b[1mColumn specification\u001b[22m \u001b[36m--------------------------------------------------------\u001b[39m\n",
      "\u001b[1mDelimiter:\u001b[22m \",\"\n",
      "\u001b[31mchr\u001b[39m  (2): chrom1, chrom2\n",
      "\u001b[32mdbl\u001b[39m (10): ...1, start1, end1, start2, end2, stats, FDR, index1, index2, p_diff\n",
      "\n",
      "\u001b[36mi\u001b[39m Use `spec()` to retrieve the full column specification for this data.\n",
      "\u001b[36mi\u001b[39m Specify the column types or set `show_col_types = FALSE` to quiet this message.\n"
     ]
    }
   ],
   "source": [
    "DI <- read_csv(\"/share/Data/hxie/project/202209/esc_xwliu/esc0615_version2/HiC_analysis/DI/res/c5_B6_XCI_diff.csv\") %>% filter(FDR < 0.05) %>% filter(stats < 0.5*153*153)\n",
    "DI[\"x\"] <- DI$start1/20000\n",
    "DI[\"y\"] <- DI$start2/20000"
   ]
  },
  {
   "cell_type": "code",
   "execution_count": 18,
   "metadata": {
    "vscode": {
     "languageId": "r"
    }
   },
   "outputs": [
    {
     "data": {
      "text/html": [
       "<style>\n",
       ".list-inline {list-style: none; margin:0; padding: 0}\n",
       ".list-inline>li {display: inline-block}\n",
       ".list-inline>li:not(:last-child)::after {content: \"\\00b7\"; padding: 0 .5ex}\n",
       "</style>\n",
       "<ol class=list-inline><li>188991</li><li>14</li></ol>\n"
      ],
      "text/latex": [
       "\\begin{enumerate*}\n",
       "\\item 188991\n",
       "\\item 14\n",
       "\\end{enumerate*}\n"
      ],
      "text/markdown": [
       "1. 188991\n",
       "2. 14\n",
       "\n",
       "\n"
      ],
      "text/plain": [
       "[1] 188991     14"
      ]
     },
     "metadata": {},
     "output_type": "display_data"
    }
   ],
   "source": [
    "dim(DI)"
   ]
  },
  {
   "cell_type": "code",
   "execution_count": 19,
   "metadata": {
    "vscode": {
     "languageId": "r"
    }
   },
   "outputs": [
    {
     "name": "stderr",
     "output_type": "stream",
     "text": [
      "\u001b[1m\u001b[22mNew names:\n",
      "\u001b[36m*\u001b[39m `` -> `...1`\n",
      "\u001b[1mRows: \u001b[22m\u001b[34m188991\u001b[39m \u001b[1mColumns: \u001b[22m\u001b[34m4\u001b[39m\n",
      "\u001b[36m--\u001b[39m \u001b[1mColumn specification\u001b[22m \u001b[36m--------------------------------------------------------\u001b[39m\n",
      "\u001b[1mDelimiter:\u001b[22m \",\"\n",
      "\u001b[32mdbl\u001b[39m (4): ...1, index1, index2, index_1D\n",
      "\n",
      "\u001b[36mi\u001b[39m Use `spec()` to retrieve the full column specification for this data.\n",
      "\u001b[36mi\u001b[39m Specify the column types or set `show_col_types = FALSE` to quiet this message.\n"
     ]
    }
   ],
   "source": [
    "index <- read_csv(\"/share/Data/hxie/project/202209/esc_xwliu/esc0615_version2/HiC_analysis/GADI/dynamic_data/index_c5_down.csv\") %>% mutate(temp = paste0(index1,\"-\",index2)) %>% select(-\"...1\")\n",
    "index$index_1D <- as.character(index$index_1D)"
   ]
  },
  {
   "cell_type": "code",
   "execution_count": 20,
   "metadata": {
    "vscode": {
     "languageId": "r"
    }
   },
   "outputs": [
    {
     "data": {
      "text/html": [
       "<table class=\"dataframe\">\n",
       "<caption>A tibble: 6 x 4</caption>\n",
       "<thead>\n",
       "\t<tr><th scope=col>index1</th><th scope=col>index2</th><th scope=col>index_1D</th><th scope=col>temp</th></tr>\n",
       "\t<tr><th scope=col>&lt;dbl&gt;</th><th scope=col>&lt;dbl&gt;</th><th scope=col>&lt;chr&gt;</th><th scope=col>&lt;chr&gt;</th></tr>\n",
       "</thead>\n",
       "<tbody>\n",
       "\t<tr><td>275</td><td>295</td><td>171125</td><td>275-295</td></tr>\n",
       "\t<tr><td>275</td><td>296</td><td>179657</td><td>275-296</td></tr>\n",
       "\t<tr><td>275</td><td>297</td><td>188188</td><td>275-297</td></tr>\n",
       "\t<tr><td>275</td><td>298</td><td>196718</td><td>275-298</td></tr>\n",
       "\t<tr><td>275</td><td>299</td><td>205247</td><td>275-299</td></tr>\n",
       "\t<tr><td>275</td><td>300</td><td>213775</td><td>275-300</td></tr>\n",
       "</tbody>\n",
       "</table>\n"
      ],
      "text/latex": [
       "A tibble: 6 x 4\n",
       "\\begin{tabular}{llll}\n",
       " index1 & index2 & index\\_1D & temp\\\\\n",
       " <dbl> & <dbl> & <chr> & <chr>\\\\\n",
       "\\hline\n",
       "\t 275 & 295 & 171125 & 275-295\\\\\n",
       "\t 275 & 296 & 179657 & 275-296\\\\\n",
       "\t 275 & 297 & 188188 & 275-297\\\\\n",
       "\t 275 & 298 & 196718 & 275-298\\\\\n",
       "\t 275 & 299 & 205247 & 275-299\\\\\n",
       "\t 275 & 300 & 213775 & 275-300\\\\\n",
       "\\end{tabular}\n"
      ],
      "text/markdown": [
       "\n",
       "A tibble: 6 x 4\n",
       "\n",
       "| index1 &lt;dbl&gt; | index2 &lt;dbl&gt; | index_1D &lt;chr&gt; | temp &lt;chr&gt; |\n",
       "|---|---|---|---|\n",
       "| 275 | 295 | 171125 | 275-295 |\n",
       "| 275 | 296 | 179657 | 275-296 |\n",
       "| 275 | 297 | 188188 | 275-297 |\n",
       "| 275 | 298 | 196718 | 275-298 |\n",
       "| 275 | 299 | 205247 | 275-299 |\n",
       "| 275 | 300 | 213775 | 275-300 |\n",
       "\n"
      ],
      "text/plain": [
       "  index1 index2 index_1D temp   \n",
       "1 275    295    171125   275-295\n",
       "2 275    296    179657   275-296\n",
       "3 275    297    188188   275-297\n",
       "4 275    298    196718   275-298\n",
       "5 275    299    205247   275-299\n",
       "6 275    300    213775   275-300"
      ]
     },
     "metadata": {},
     "output_type": "display_data"
    }
   ],
   "source": [
    "head(index)"
   ]
  },
  {
   "cell_type": "code",
   "execution_count": 21,
   "metadata": {
    "vscode": {
     "languageId": "r"
    }
   },
   "outputs": [
    {
     "name": "stderr",
     "output_type": "stream",
     "text": [
      "\u001b[1m\u001b[22mNew names:\n",
      "\u001b[36m*\u001b[39m `` -> `...1`\n",
      "\u001b[1mRows: \u001b[22m\u001b[34m188991\u001b[39m \u001b[1mColumns: \u001b[22m\u001b[34m905\u001b[39m\n",
      "\u001b[36m--\u001b[39m \u001b[1mColumn specification\u001b[22m \u001b[36m--------------------------------------------------------\u001b[39m\n",
      "\u001b[1mDelimiter:\u001b[22m \",\"\n",
      "\u001b[32mdbl\u001b[39m (905): ...1, d0A1, d0A10, d0A11, d0A12, d0A13, d0A14, d0A15, d0A16, d0A1...\n",
      "\n",
      "\u001b[36mi\u001b[39m Use `spec()` to retrieve the full column specification for this data.\n",
      "\u001b[36mi\u001b[39m Specify the column types or set `show_col_types = FALSE` to quiet this message.\n"
     ]
    }
   ],
   "source": [
    "DI_dynamic <- read_csv(\"/share/Data/hxie/project/202209/esc_xwliu/esc0615_version2/HiC_analysis/GADI/dynamic_data/DI_dynamic_c5_down.csv\") %>% column_to_rownames(\"...1\")"
   ]
  },
  {
   "cell_type": "code",
   "execution_count": 22,
   "metadata": {
    "vscode": {
     "languageId": "r"
    }
   },
   "outputs": [],
   "source": [
    "metadata_mc <- esc.mc@meta.data"
   ]
  },
  {
   "cell_type": "code",
   "execution_count": 23,
   "metadata": {
    "vscode": {
     "languageId": "r"
    }
   },
   "outputs": [],
   "source": [
    "metadata_mc <- metadata_mc %>% filter(!is.na(time1))"
   ]
  },
  {
   "cell_type": "code",
   "execution_count": 25,
   "metadata": {
    "vscode": {
     "languageId": "r"
    }
   },
   "outputs": [
    {
     "name": "stdout",
     "output_type": "stream",
     "text": [
      "[1] \"0\"\n",
      "[1] \"2\"\n",
      "[1] \"16\"\n",
      "[1] \"12\"\n",
      "[1] \"7\"\n",
      "[1] \"1\"\n",
      "[1] \"23\"\n",
      "[1] \"15\"\n",
      "[1] \"9\"\n",
      "[1] \"22\"\n",
      "[1] \"33\"\n",
      "[1] \"29\"\n",
      "[1] \"21\"\n",
      "[1] \"14\"\n",
      "[1] \"19\"\n",
      "[1] \"13\"\n",
      "[1] \"20\"\n",
      "[1] \"17\"\n",
      "[1] \"10\"\n",
      "[1] \"26\"\n",
      "[1] \"27\"\n",
      "[1] \"11\"\n",
      "[1] \"18\"\n",
      "[1] \"6\"\n",
      "[1] \"25\"\n",
      "[1] \"31\"\n",
      "[1] \"5\"\n",
      "[1] \"32\"\n",
      "[1] \"30\"\n",
      "[1] \"28\"\n",
      "[1] \"24\"\n"
     ]
    }
   ],
   "source": [
    "index_of_mc <- metadata_mc %>% as.data.frame %>% pull(mc_cluster) %>% unique()\n",
    "for(i in index_of_mc){\n",
    "    print(i)\n",
    "    if(i==index_of_mc[1]){\n",
    "        cellname_sel <- metadata %>% filter(mc_cluster == i) %>% pull(cellname)\n",
    "        DI_dynamic_mc <- DI_dynamic[cellname_sel] %>% rowMeans() %>% as.data.frame %>% rownames_to_column(\"DI_pos\")\n",
    "        names(DI_dynamic_mc) <- c(\"DI_pos\",paste0(\"mc_\",i))\n",
    "    }else{\n",
    "        cellname_sel <- metadata %>% filter(mc_cluster == i) %>% pull(cellname)\n",
    "        temp <- DI_dynamic[cellname_sel] %>% rowMeans() %>% as.data.frame %>% rownames_to_column(\"DI_pos\")\n",
    "        names(temp) <- c(\"DI_pos\",paste0(\"mc_\",i))\n",
    "        DI_dynamic_mc <- left_join(DI_dynamic_mc, temp, by = \"DI_pos\")\n",
    "    }\n",
    "}"
   ]
  },
  {
   "cell_type": "markdown",
   "metadata": {},
   "source": [
    "# start"
   ]
  },
  {
   "cell_type": "code",
   "execution_count": 26,
   "metadata": {
    "vscode": {
     "languageId": "r"
    }
   },
   "outputs": [
    {
     "data": {
      "text/plain": [
       "An object of class Seurat \n",
       "1661 features across 34 samples within 2 assays \n",
       "Active assay: SCT (742 features, 742 variable features)\n",
       " 3 layers present: counts, data, scale.data\n",
       " 1 other assay present: RNA\n",
       " 3 dimensional reductions calculated: pca, umap, mcsct_pca"
      ]
     },
     "metadata": {},
     "output_type": "display_data"
    }
   ],
   "source": [
    "esc.mc"
   ]
  },
  {
   "cell_type": "code",
   "execution_count": 28,
   "metadata": {
    "vscode": {
     "languageId": "r"
    }
   },
   "outputs": [
    {
     "name": "stderr",
     "output_type": "stream",
     "text": [
      "Warning message:\n",
      "\"\u001b[1m\u001b[22mThe `slot` argument of `GetAssayData()` is deprecated as of SeuratObject 5.0.0.\n",
      "\u001b[36mi\u001b[39m Please use the `layer` argument instead.\"\n"
     ]
    }
   ],
   "source": [
    "sctRNAmat <- GetAssayData(object = esc.mc, assay = \"RNA\", slot = \"counts\") %>% as.matrix() %>% t()\n",
    "sctRNAmat_temp <- sctRNAmat[,intersect(colnames(sctRNAmat),gene_consider)]"
   ]
  },
  {
   "cell_type": "code",
   "execution_count": 29,
   "metadata": {
    "vscode": {
     "languageId": "r"
    }
   },
   "outputs": [
    {
     "data": {
      "text/html": [
       "371"
      ],
      "text/latex": [
       "371"
      ],
      "text/markdown": [
       "371"
      ],
      "text/plain": [
       "[1] 371"
      ]
     },
     "metadata": {},
     "output_type": "display_data"
    }
   ],
   "source": [
    "intersect(colnames(sctRNAmat),gene_consider) %>% length()"
   ]
  },
  {
   "cell_type": "code",
   "execution_count": 30,
   "metadata": {
    "vscode": {
     "languageId": "r"
    }
   },
   "outputs": [
    {
     "data": {
      "text/html": [
       "371"
      ],
      "text/latex": [
       "371"
      ],
      "text/markdown": [
       "371"
      ],
      "text/plain": [
       "[1] 371"
      ]
     },
     "metadata": {},
     "output_type": "display_data"
    }
   ],
   "source": [
    "colnames(sctRNAmat_temp) %>% unique() %>% length()"
   ]
  },
  {
   "cell_type": "code",
   "execution_count": 37,
   "metadata": {
    "vscode": {
     "languageId": "r"
    }
   },
   "outputs": [],
   "source": [
    "DI_dynamic_mc <- DI_dynamic_mc %>% left_join(index %>% select(-temp), by = c(\"DI_pos\" = \"index_1D\"))"
   ]
  },
  {
   "cell_type": "code",
   "execution_count": 38,
   "metadata": {
    "vscode": {
     "languageId": "r"
    }
   },
   "outputs": [],
   "source": [
    "DI_dynamic_mc <- DI_dynamic_mc %>% mutate(pos=paste0(index1,\"_\",index2)) %>% mutate(index1=index1*20000,index2=index2*20000) %>% select(-DI_pos) "
   ]
  },
  {
   "cell_type": "code",
   "execution_count": 39,
   "metadata": {
    "vscode": {
     "languageId": "r"
    }
   },
   "outputs": [],
   "source": [
    "gene_bins_split <- gene_bins_split %>% mutate(as_gene_name = paste0(\"B6-\", genes)) %>% filter(as_gene_name %in% gene_consider[gene_consider %>% grep(\"^B6-\",.)])"
   ]
  },
  {
   "cell_type": "code",
   "execution_count": 41,
   "metadata": {
    "vscode": {
     "languageId": "r"
    }
   },
   "outputs": [],
   "source": [
    "DI_dynamic_mc <- DI_dynamic_mc %>% filter(index1 %in% gene_bins_split$start1 | index2 %in% gene_bins_split$start1)"
   ]
  },
  {
   "cell_type": "code",
   "execution_count": 42,
   "metadata": {
    "vscode": {
     "languageId": "r"
    }
   },
   "outputs": [],
   "source": [
    "di_link_gene <- DI_dynamic_mc %>% select(index1,index2,pos)"
   ]
  },
  {
   "cell_type": "code",
   "execution_count": 43,
   "metadata": {
    "vscode": {
     "languageId": "r"
    }
   },
   "outputs": [],
   "source": [
    "DI_dynamic_mc <- DI_dynamic_mc %>% select(-index1,-index2) %>% column_to_rownames(\"pos\")"
   ]
  },
  {
   "cell_type": "code",
   "execution_count": 44,
   "metadata": {
    "vscode": {
     "languageId": "r"
    }
   },
   "outputs": [],
   "source": [
    "di_link_gene$gene_x <- NA\n",
    "di_link_gene$gene_y <- NA\n",
    "for (i in 1:nrow(di_link_gene)) {\n",
    "  x_match_genes <- gene_bins_split$genes[gene_bins_split$start1 == di_link_gene$index1[i]]\n",
    "  y_match_genes <- gene_bins_split$genes[gene_bins_split$start1 == di_link_gene$index2[i]]\n",
    "  \n",
    "  if (length(x_match_genes) > 0) {\n",
    "    di_link_gene$gene_x[i] <- paste(x_match_genes, collapse = \", \")\n",
    "  }\n",
    "  \n",
    "  if (length(y_match_genes) > 0) {\n",
    "    di_link_gene$gene_y[i] <- paste(y_match_genes, collapse = \", \")\n",
    "  }\n",
    "}"
   ]
  },
  {
   "cell_type": "code",
   "execution_count": 45,
   "metadata": {
    "vscode": {
     "languageId": "r"
    }
   },
   "outputs": [],
   "source": [
    "di_link_gene <- di_link_gene %>%\n",
    "  mutate(gene = coalesce(gene_x, gene_y)) %>%\n",
    "  select(-gene_x, -gene_y)"
   ]
  },
  {
   "cell_type": "code",
   "execution_count": 46,
   "metadata": {
    "vscode": {
     "languageId": "r"
    }
   },
   "outputs": [],
   "source": [
    "di_link_gene <- di_link_gene %>% separate_rows(gene, sep = \",\\\\s*\")"
   ]
  },
  {
   "cell_type": "code",
   "execution_count": 47,
   "metadata": {
    "vscode": {
     "languageId": "r"
    }
   },
   "outputs": [],
   "source": [
    "di_link_gene <- di_link_gene %>% mutate(gene = paste0(\"B6-\",gene)) %>% arrange(gene)"
   ]
  },
  {
   "cell_type": "code",
   "execution_count": 48,
   "metadata": {
    "vscode": {
     "languageId": "r"
    }
   },
   "outputs": [],
   "source": [
    "di_link_gene <- di_link_gene %>% filter(gene %in% colnames(sctRNAmat_temp))"
   ]
  },
  {
   "cell_type": "code",
   "execution_count": 49,
   "metadata": {
    "vscode": {
     "languageId": "r"
    }
   },
   "outputs": [
    {
     "data": {
      "text/html": [
       "<table class=\"dataframe\">\n",
       "<caption>A tibble: 1 x 9</caption>\n",
       "<thead>\n",
       "\t<tr><th scope=col>chrom</th><th scope=col>start</th><th scope=col>end</th><th scope=col>id</th><th scope=col>name</th><th scope=col>strand</th><th scope=col>start_bin</th><th scope=col>end_bin</th><th scope=col>pos</th></tr>\n",
       "\t<tr><th scope=col>&lt;chr&gt;</th><th scope=col>&lt;dbl&gt;</th><th scope=col>&lt;dbl&gt;</th><th scope=col>&lt;chr&gt;</th><th scope=col>&lt;chr&gt;</th><th scope=col>&lt;chr&gt;</th><th scope=col>&lt;dbl&gt;</th><th scope=col>&lt;dbl&gt;</th><th scope=col>&lt;chr&gt;</th></tr>\n",
       "</thead>\n",
       "<tbody>\n",
       "\t<tr><td>chrX</td><td>50555743</td><td>50635321</td><td>ENSMUSG00000085396.7</td><td>Firre</td><td>-</td><td>50040000</td><td>51120000</td><td>50040000_51120000</td></tr>\n",
       "</tbody>\n",
       "</table>\n"
      ],
      "text/latex": [
       "A tibble: 1 x 9\n",
       "\\begin{tabular}{lllllllll}\n",
       " chrom & start & end & id & name & strand & start\\_bin & end\\_bin & pos\\\\\n",
       " <chr> & <dbl> & <dbl> & <chr> & <chr> & <chr> & <dbl> & <dbl> & <chr>\\\\\n",
       "\\hline\n",
       "\t chrX & 50555743 & 50635321 & ENSMUSG00000085396.7 & Firre & - & 50040000 & 51120000 & 50040000\\_51120000\\\\\n",
       "\\end{tabular}\n"
      ],
      "text/markdown": [
       "\n",
       "A tibble: 1 x 9\n",
       "\n",
       "| chrom &lt;chr&gt; | start &lt;dbl&gt; | end &lt;dbl&gt; | id &lt;chr&gt; | name &lt;chr&gt; | strand &lt;chr&gt; | start_bin &lt;dbl&gt; | end_bin &lt;dbl&gt; | pos &lt;chr&gt; |\n",
       "|---|---|---|---|---|---|---|---|---|\n",
       "| chrX | 50555743 | 50635321 | ENSMUSG00000085396.7 | Firre | - | 50040000 | 51120000 | 50040000_51120000 |\n",
       "\n"
      ],
      "text/plain": [
       "  chrom start    end      id                   name  strand start_bin end_bin \n",
       "1 chrX  50555743 50635321 ENSMUSG00000085396.7 Firre -      50040000  51120000\n",
       "  pos              \n",
       "1 50040000_51120000"
      ]
     },
     "metadata": {},
     "output_type": "display_data"
    }
   ],
   "source": [
    "genes %>% filter(name==\"Firre\")"
   ]
  },
  {
   "cell_type": "code",
   "execution_count": 50,
   "metadata": {
    "vscode": {
     "languageId": "r"
    }
   },
   "outputs": [],
   "source": [
    "sctRNAmat_temp <- sctRNAmat_temp %>% as.data.frame() %>% select(colnames(sctRNAmat_temp) %>% sort())"
   ]
  },
  {
   "cell_type": "code",
   "execution_count": 51,
   "metadata": {
    "vscode": {
     "languageId": "r"
    }
   },
   "outputs": [],
   "source": [
    "sctRNAmat_temp <- sctRNAmat_temp[metadata_mc %>% pull(cellname),]"
   ]
  },
  {
   "cell_type": "code",
   "execution_count": 52,
   "metadata": {
    "vscode": {
     "languageId": "r"
    }
   },
   "outputs": [],
   "source": [
    "DI_dynamic_mc <- DI_dynamic_mc %>% t() %>% as.data.frame()"
   ]
  },
  {
   "cell_type": "code",
   "execution_count": 53,
   "metadata": {
    "vscode": {
     "languageId": "r"
    }
   },
   "outputs": [],
   "source": [
    "# DI_dynamic_mc %>% rownames_to_column(\"metacell\") %>% write_csv(\"/share/Data/hxie/project/202209/esc_xwliu/esc1218/HiC_analysis/DI/GADI/DI_dynamic_mc.csv\",col_names = T)"
   ]
  },
  {
   "cell_type": "markdown",
   "metadata": {},
   "source": [
    "# GADI"
   ]
  },
  {
   "cell_type": "code",
   "execution_count": 54,
   "metadata": {
    "vscode": {
     "languageId": "r"
    }
   },
   "outputs": [],
   "source": [
    "cor_test_wrapper <- function(gene,pos,x,y,method = \"normal\"){\n",
    "    res <- tryCatch({\n",
    "        if(method == \"normal\"){\n",
    "            res <- cor.test(x,y,use=\"na.or.complete\",method = \"pearson\")\n",
    "        }\n",
    "        if(method == \"random\"){\n",
    "            y <- sample(y)\n",
    "            res <- cor.test(x,y,use=\"na.or.complete\",method = \"pearson\")\n",
    "        }\n",
    "        return(c(gene,pos,as.numeric(res$estimate),as.numeric(res$p.value)))\n",
    "    },error = function(cond)\n",
    "    {\n",
    "        res <- c(NA,NA)\n",
    "        return(res)\n",
    "    })\n",
    "    return(c(pos,res)) \n",
    "}"
   ]
  },
  {
   "cell_type": "code",
   "execution_count": 55,
   "metadata": {
    "vscode": {
     "languageId": "r"
    }
   },
   "outputs": [
    {
     "data": {
      "text/html": [
       "<table class=\"dataframe\">\n",
       "<caption>A tibble: 6 x 4</caption>\n",
       "<thead>\n",
       "\t<tr><th scope=col>index1</th><th scope=col>index2</th><th scope=col>pos</th><th scope=col>gene</th></tr>\n",
       "\t<tr><th scope=col>&lt;dbl&gt;</th><th scope=col>&lt;dbl&gt;</th><th scope=col>&lt;chr&gt;</th><th scope=col>&lt;chr&gt;</th></tr>\n",
       "</thead>\n",
       "<tbody>\n",
       "\t<tr><td>69420000</td><td>69440000</td><td>3471_3472</td><td>B6-1700111N16Rik</td></tr>\n",
       "\t<tr><td>69420000</td><td>69460000</td><td>3471_3473</td><td>B6-1700111N16Rik</td></tr>\n",
       "\t<tr><td>69420000</td><td>69480000</td><td>3471_3474</td><td>B6-1700111N16Rik</td></tr>\n",
       "\t<tr><td>69420000</td><td>69500000</td><td>3471_3475</td><td>B6-1700111N16Rik</td></tr>\n",
       "\t<tr><td>69420000</td><td>69520000</td><td>3471_3476</td><td>B6-1700111N16Rik</td></tr>\n",
       "\t<tr><td>69420000</td><td>69540000</td><td>3471_3477</td><td>B6-1700111N16Rik</td></tr>\n",
       "</tbody>\n",
       "</table>\n"
      ],
      "text/latex": [
       "A tibble: 6 x 4\n",
       "\\begin{tabular}{llll}\n",
       " index1 & index2 & pos & gene\\\\\n",
       " <dbl> & <dbl> & <chr> & <chr>\\\\\n",
       "\\hline\n",
       "\t 69420000 & 69440000 & 3471\\_3472 & B6-1700111N16Rik\\\\\n",
       "\t 69420000 & 69460000 & 3471\\_3473 & B6-1700111N16Rik\\\\\n",
       "\t 69420000 & 69480000 & 3471\\_3474 & B6-1700111N16Rik\\\\\n",
       "\t 69420000 & 69500000 & 3471\\_3475 & B6-1700111N16Rik\\\\\n",
       "\t 69420000 & 69520000 & 3471\\_3476 & B6-1700111N16Rik\\\\\n",
       "\t 69420000 & 69540000 & 3471\\_3477 & B6-1700111N16Rik\\\\\n",
       "\\end{tabular}\n"
      ],
      "text/markdown": [
       "\n",
       "A tibble: 6 x 4\n",
       "\n",
       "| index1 &lt;dbl&gt; | index2 &lt;dbl&gt; | pos &lt;chr&gt; | gene &lt;chr&gt; |\n",
       "|---|---|---|---|\n",
       "| 69420000 | 69440000 | 3471_3472 | B6-1700111N16Rik |\n",
       "| 69420000 | 69460000 | 3471_3473 | B6-1700111N16Rik |\n",
       "| 69420000 | 69480000 | 3471_3474 | B6-1700111N16Rik |\n",
       "| 69420000 | 69500000 | 3471_3475 | B6-1700111N16Rik |\n",
       "| 69420000 | 69520000 | 3471_3476 | B6-1700111N16Rik |\n",
       "| 69420000 | 69540000 | 3471_3477 | B6-1700111N16Rik |\n",
       "\n"
      ],
      "text/plain": [
       "  index1   index2   pos       gene            \n",
       "1 69420000 69440000 3471_3472 B6-1700111N16Rik\n",
       "2 69420000 69460000 3471_3473 B6-1700111N16Rik\n",
       "3 69420000 69480000 3471_3474 B6-1700111N16Rik\n",
       "4 69420000 69500000 3471_3475 B6-1700111N16Rik\n",
       "5 69420000 69520000 3471_3476 B6-1700111N16Rik\n",
       "6 69420000 69540000 3471_3477 B6-1700111N16Rik"
      ]
     },
     "metadata": {},
     "output_type": "display_data"
    }
   ],
   "source": [
    "head(di_link_gene)"
   ]
  },
  {
   "cell_type": "code",
   "execution_count": 56,
   "metadata": {
    "vscode": {
     "languageId": "r"
    }
   },
   "outputs": [],
   "source": [
    "RNA <- sctRNAmat_temp[['B6-1700111N16Rik']]\n",
    "DI <- DI_dynamic_mc[['3471_3472']]"
   ]
  },
  {
   "cell_type": "code",
   "execution_count": 57,
   "metadata": {
    "vscode": {
     "languageId": "r"
    }
   },
   "outputs": [
    {
     "data": {
      "text/html": [
       "<style>\n",
       ".list-inline {list-style: none; margin:0; padding: 0}\n",
       ".list-inline>li {display: inline-block}\n",
       ".list-inline>li:not(:last-child)::after {content: \"\\00b7\"; padding: 0 .5ex}\n",
       "</style>\n",
       "<ol class=list-inline><li>'B6-1700111N16Rik'</li><li>'3471_3472'</li><li>'-0.108635899399583'</li><li>'0.560749285588587'</li></ol>\n"
      ],
      "text/latex": [
       "\\begin{enumerate*}\n",
       "\\item 'B6-1700111N16Rik'\n",
       "\\item '3471\\_3472'\n",
       "\\item '-0.108635899399583'\n",
       "\\item '0.560749285588587'\n",
       "\\end{enumerate*}\n"
      ],
      "text/markdown": [
       "1. 'B6-1700111N16Rik'\n",
       "2. '3471_3472'\n",
       "3. '-0.108635899399583'\n",
       "4. '0.560749285588587'\n",
       "\n",
       "\n"
      ],
      "text/plain": [
       "[1] \"B6-1700111N16Rik\"   \"3471_3472\"          \"-0.108635899399583\"\n",
       "[4] \"0.560749285588587\" "
      ]
     },
     "metadata": {},
     "output_type": "display_data"
    }
   ],
   "source": [
    "cor_test_wrapper('B6-1700111N16Rik','3471_3472',RNA, DI, method = \"normal\")"
   ]
  },
  {
   "cell_type": "code",
   "execution_count": 58,
   "metadata": {
    "vscode": {
     "languageId": "r"
    }
   },
   "outputs": [
    {
     "name": "stderr",
     "output_type": "stream",
     "text": [
      "\u001b[1m\u001b[22mNew names:\n",
      "\u001b[36m*\u001b[39m `` -> `...1`\n",
      "\u001b[1mRows: \u001b[22m\u001b[34m1690500\u001b[39m \u001b[1mColumns: \u001b[22m\u001b[34m12\u001b[39m\n",
      "\u001b[36m--\u001b[39m \u001b[1mColumn specification\u001b[22m \u001b[36m--------------------------------------------------------\u001b[39m\n",
      "\u001b[1mDelimiter:\u001b[22m \",\"\n",
      "\u001b[31mchr\u001b[39m  (2): chrom1, chrom2\n",
      "\u001b[32mdbl\u001b[39m (10): ...1, start1, end1, start2, end2, stats, FDR, index1, index2, p_diff\n",
      "\n",
      "\u001b[36mi\u001b[39m Use `spec()` to retrieve the full column specification for this data.\n",
      "\u001b[36mi\u001b[39m Specify the column types or set `show_col_types = FALSE` to quiet this message.\n"
     ]
    }
   ],
   "source": [
    "di_selected <- read_csv(\"/share/Data/hxie/project/202209/esc_xwliu/esc0615_version2/HiC_analysis//DI/res/c5_B6_XCI_diff.csv\") %>% filter(FDR < 0.05) %>% filter(stats < 0.5*153*153)\n",
    "di_selected <- di_selected %>% mutate(pos = paste0(index1,\"_\",index2))"
   ]
  },
  {
   "cell_type": "code",
   "execution_count": 59,
   "metadata": {
    "vscode": {
     "languageId": "r"
    }
   },
   "outputs": [],
   "source": [
    "di_link_gene <- di_link_gene %>% filter(pos %in% di_selected$pos)"
   ]
  },
  {
   "cell_type": "code",
   "execution_count": 60,
   "metadata": {
    "vscode": {
     "languageId": "r"
    }
   },
   "outputs": [],
   "source": [
    "gene <- di_link_gene$gene\n",
    "pos <- di_link_gene$pos\n",
    "\n",
    "results <- suppressWarnings(\n",
    "  mapply(function(gene, pos) {\n",
    "    RNA <- sctRNAmat_temp[[gene]]\n",
    "    DI <- DI_dynamic_mc[[pos]]\n",
    "    result <- cor_test_wrapper(gene, pos, RNA, DI, method = \"normal\")\n",
    "    result\n",
    "  }, gene, pos, SIMPLIFY = FALSE)\n",
    ")\n",
    "\n",
    "results <- do.call(rbind, results)"
   ]
  },
  {
   "cell_type": "code",
   "execution_count": 61,
   "metadata": {
    "vscode": {
     "languageId": "r"
    }
   },
   "outputs": [],
   "source": [
    "cor <- results %>% as.data.frame() %>% rownames_to_column(\"V5\") %>% select(-V5)\n",
    "names(cor) <- c(\"gene\",\"pos\",\"cor\",\"pvalue\")"
   ]
  },
  {
   "cell_type": "code",
   "execution_count": 62,
   "metadata": {
    "vscode": {
     "languageId": "r"
    }
   },
   "outputs": [
    {
     "data": {
      "text/html": [
       "<table class=\"dataframe\">\n",
       "<caption>A data.frame: 581930 x 5</caption>\n",
       "<thead>\n",
       "\t<tr><th scope=col>gene</th><th scope=col>pos</th><th scope=col>cor</th><th scope=col>pvalue</th><th scope=col>fdr</th></tr>\n",
       "\t<tr><th scope=col>&lt;chr&gt;</th><th scope=col>&lt;chr&gt;</th><th scope=col>&lt;chr&gt;</th><th scope=col>&lt;chr&gt;</th><th scope=col>&lt;dbl&gt;</th></tr>\n",
       "</thead>\n",
       "<tbody>\n",
       "\t<tr><td>B6-Gm15009</td><td>6819_6850</td><td>0.93553409510915 </td><td>0.0000000000000122422169243102</td><td>0.000000007070676</td></tr>\n",
       "\t<tr><td>B6-Pola1  </td><td>4685_4693</td><td>0.927866664359645</td><td>0.0000000000000594107167801866</td><td>0.000000017156775</td></tr>\n",
       "\t<tr><td>B6-Pola1  </td><td>4685_4694</td><td>0.924001535360076</td><td>0.000000000000123482175285059 </td><td>0.000000023772994</td></tr>\n",
       "\t<tr><td>B6-Gm15009</td><td>6820_6836</td><td>0.920841644450279</td><td>0.00000000000021835564029144  </td><td>0.000000031528644</td></tr>\n",
       "\t<tr><td>B6-Gm15009</td><td>6820_6835</td><td>0.918365680669006</td><td>0.000000000000335796857137547 </td><td>0.000000038788902</td></tr>\n",
       "\t<tr><td>B6-Pola1  </td><td>4685_4695</td><td>0.906302530162473</td><td>0.00000000000228855737446975  </td><td>0.000000220298440</td></tr>\n",
       "\t<tr><td>B6-Pola1  </td><td>4684_4693</td><td>0.903631654768837</td><td>0.00000000000337995905467672  </td><td>0.000000278878007</td></tr>\n",
       "\t<tr><td>B6-Pola1  </td><td>4686_4695</td><td>0.902421650744138</td><td>0.00000000000401810480783163  </td><td>0.000000290089588</td></tr>\n",
       "\t<tr><td>B6-L1cam  </td><td>3715_3763</td><td>0.898361211013375</td><td>0.00000000000706498693215121  </td><td>0.000000453387686</td></tr>\n",
       "\t<tr><td>B6-Apex2  </td><td>7548_7555</td><td>0.895243134335651</td><td>0.0000000000107259630353048   </td><td>0.000000516245070</td></tr>\n",
       "\t<tr><td>B6-Apex2  </td><td>7549_7555</td><td>0.896581283330043</td><td>0.00000000000898098567852753  </td><td>0.000000516245070</td></tr>\n",
       "\t<tr><td>B6-Apex2  </td><td>7549_7556</td><td>0.895295909388903</td><td>0.0000000000106515977709768   </td><td>0.000000516245070</td></tr>\n",
       "\t<tr><td>B6-Gm15009</td><td>6819_6849</td><td>0.89097368958486 </td><td>0.0000000000186082898919087   </td><td>0.000000826730535</td></tr>\n",
       "\t<tr><td>B6-Apex2  </td><td>7550_7564</td><td>0.88945968454189 </td><td>0.0000000000225003530740343   </td><td>0.000000866361095</td></tr>\n",
       "\t<tr><td>B6-Pola1  </td><td>4685_4697</td><td>0.889645164366562</td><td>0.0000000000219861266312968   </td><td>0.000000866361095</td></tr>\n",
       "\t<tr><td>B6-Pola1  </td><td>4686_4694</td><td>0.888433640047789</td><td>0.0000000000255512898234174   </td><td>0.000000922345669</td></tr>\n",
       "\t<tr><td>B6-Pola1  </td><td>4684_4694</td><td>0.884479327876338</td><td>0.0000000000412411307115114   </td><td>0.000001323301870</td></tr>\n",
       "\t<tr><td>B6-Pola1  </td><td>4684_4695</td><td>0.884843255554057</td><td>0.0000000000394922878573392   </td><td>0.000001323301870</td></tr>\n",
       "\t<tr><td>B6-Gm15009</td><td>6820_6850</td><td>0.882873264697769</td><td>0.0000000000498465233386255   </td><td>0.000001439480363</td></tr>\n",
       "\t<tr><td>B6-Pcyt1b </td><td>4681_4687</td><td>0.882947115898531</td><td>0.0000000000494170244623582   </td><td>0.000001439480363</td></tr>\n",
       "\t<tr><td>B6-Gm15009</td><td>6821_6835</td><td>0.879148314910438</td><td>0.0000000000765607160863554   </td><td>0.000002105656666</td></tr>\n",
       "\t<tr><td>B6-Apex2  </td><td>7548_7556</td><td>0.877837315242955</td><td>0.0000000000887467089678071   </td><td>0.000002135708040</td></tr>\n",
       "\t<tr><td>B6-Apex2  </td><td>7549_7554</td><td>0.878588337530211</td><td>0.0000000000815633954115308   </td><td>0.000002135708040</td></tr>\n",
       "\t<tr><td>B6-Pola1  </td><td>4690_4704</td><td>0.87791338445526 </td><td>0.0000000000879934365041299   </td><td>0.000002135708040</td></tr>\n",
       "\t<tr><td>B6-Apex2  </td><td>7548_7557</td><td>0.876315728593359</td><td>0.000000000105121403562317    </td><td>0.000002312444441</td></tr>\n",
       "\t<tr><td>B6-Apex2  </td><td>7549_7557</td><td>0.876062544724542</td><td>0.000000000108102118207907    </td><td>0.000002312444441</td></tr>\n",
       "\t<tr><td>B6-Apex2  </td><td>7550_7563</td><td>0.87660915552981 </td><td>0.00000000010176181798863     </td><td>0.000002312444441</td></tr>\n",
       "\t<tr><td>B6-Apex2  </td><td>7548_7554</td><td>0.8748608263528  </td><td>0.000000000123342444586024    </td><td>0.000002389993323</td></tr>\n",
       "\t<tr><td>B6-Apex2  </td><td>7550_7556</td><td>0.874801668908911</td><td>0.000000000124141524676691    </td><td>0.000002389993323</td></tr>\n",
       "\t<tr><td>B6-Pola1  </td><td>4684_4697</td><td>0.874897574198849</td><td>0.000000000122848457228793    </td><td>0.000002389993323</td></tr>\n",
       "\t<tr><td>...</td><td>...</td><td>...</td><td>...</td><td>...</td></tr>\n",
       "\t<tr><td>B6-Srpx</td><td>529_564</td><td>NA</td><td>NA</td><td>NA</td></tr>\n",
       "\t<tr><td>B6-Srpx</td><td>529_566</td><td>NA</td><td>NA</td><td>NA</td></tr>\n",
       "\t<tr><td>B6-Srpx</td><td>529_567</td><td>NA</td><td>NA</td><td>NA</td></tr>\n",
       "\t<tr><td>B6-Srpx</td><td>529_568</td><td>NA</td><td>NA</td><td>NA</td></tr>\n",
       "\t<tr><td>B6-Srpx</td><td>529_569</td><td>NA</td><td>NA</td><td>NA</td></tr>\n",
       "\t<tr><td>B6-Srpx</td><td>529_570</td><td>NA</td><td>NA</td><td>NA</td></tr>\n",
       "\t<tr><td>B6-Srpx</td><td>529_571</td><td>NA</td><td>NA</td><td>NA</td></tr>\n",
       "\t<tr><td>B6-Srpx</td><td>529_572</td><td>NA</td><td>NA</td><td>NA</td></tr>\n",
       "\t<tr><td>B6-Srpx</td><td>529_573</td><td>NA</td><td>NA</td><td>NA</td></tr>\n",
       "\t<tr><td>B6-Srpx</td><td>529_574</td><td>NA</td><td>NA</td><td>NA</td></tr>\n",
       "\t<tr><td>B6-Srpx</td><td>529_575</td><td>NA</td><td>NA</td><td>NA</td></tr>\n",
       "\t<tr><td>B6-Srpx</td><td>529_576</td><td>NA</td><td>NA</td><td>NA</td></tr>\n",
       "\t<tr><td>B6-Srpx</td><td>529_577</td><td>NA</td><td>NA</td><td>NA</td></tr>\n",
       "\t<tr><td>B6-Srpx</td><td>529_578</td><td>NA</td><td>NA</td><td>NA</td></tr>\n",
       "\t<tr><td>B6-Srpx</td><td>529_579</td><td>NA</td><td>NA</td><td>NA</td></tr>\n",
       "\t<tr><td>B6-Srpx</td><td>529_580</td><td>NA</td><td>NA</td><td>NA</td></tr>\n",
       "\t<tr><td>B6-Srpx</td><td>529_581</td><td>NA</td><td>NA</td><td>NA</td></tr>\n",
       "\t<tr><td>B6-Srpx</td><td>529_582</td><td>NA</td><td>NA</td><td>NA</td></tr>\n",
       "\t<tr><td>B6-Srpx</td><td>529_583</td><td>NA</td><td>NA</td><td>NA</td></tr>\n",
       "\t<tr><td>B6-Srpx</td><td>529_587</td><td>NA</td><td>NA</td><td>NA</td></tr>\n",
       "\t<tr><td>B6-Srpx</td><td>529_588</td><td>NA</td><td>NA</td><td>NA</td></tr>\n",
       "\t<tr><td>B6-Srpx</td><td>529_589</td><td>NA</td><td>NA</td><td>NA</td></tr>\n",
       "\t<tr><td>B6-Srpx</td><td>529_590</td><td>NA</td><td>NA</td><td>NA</td></tr>\n",
       "\t<tr><td>B6-Srpx</td><td>529_591</td><td>NA</td><td>NA</td><td>NA</td></tr>\n",
       "\t<tr><td>B6-Srpx</td><td>529_592</td><td>NA</td><td>NA</td><td>NA</td></tr>\n",
       "\t<tr><td>B6-Srpx</td><td>529_593</td><td>NA</td><td>NA</td><td>NA</td></tr>\n",
       "\t<tr><td>B6-Srpx</td><td>529_594</td><td>NA</td><td>NA</td><td>NA</td></tr>\n",
       "\t<tr><td>B6-Srpx</td><td>529_595</td><td>NA</td><td>NA</td><td>NA</td></tr>\n",
       "\t<tr><td>B6-Srpx</td><td>529_596</td><td>NA</td><td>NA</td><td>NA</td></tr>\n",
       "\t<tr><td>B6-Srpx</td><td>529_597</td><td>NA</td><td>NA</td><td>NA</td></tr>\n",
       "</tbody>\n",
       "</table>\n"
      ],
      "text/latex": [
       "A data.frame: 581930 x 5\n",
       "\\begin{tabular}{lllll}\n",
       " gene & pos & cor & pvalue & fdr\\\\\n",
       " <chr> & <chr> & <chr> & <chr> & <dbl>\\\\\n",
       "\\hline\n",
       "\t B6-Gm15009 & 6819\\_6850 & 0.93553409510915  & 0.0000000000000122422169243102 & 0.000000007070676\\\\\n",
       "\t B6-Pola1   & 4685\\_4693 & 0.927866664359645 & 0.0000000000000594107167801866 & 0.000000017156775\\\\\n",
       "\t B6-Pola1   & 4685\\_4694 & 0.924001535360076 & 0.000000000000123482175285059  & 0.000000023772994\\\\\n",
       "\t B6-Gm15009 & 6820\\_6836 & 0.920841644450279 & 0.00000000000021835564029144   & 0.000000031528644\\\\\n",
       "\t B6-Gm15009 & 6820\\_6835 & 0.918365680669006 & 0.000000000000335796857137547  & 0.000000038788902\\\\\n",
       "\t B6-Pola1   & 4685\\_4695 & 0.906302530162473 & 0.00000000000228855737446975   & 0.000000220298440\\\\\n",
       "\t B6-Pola1   & 4684\\_4693 & 0.903631654768837 & 0.00000000000337995905467672   & 0.000000278878007\\\\\n",
       "\t B6-Pola1   & 4686\\_4695 & 0.902421650744138 & 0.00000000000401810480783163   & 0.000000290089588\\\\\n",
       "\t B6-L1cam   & 3715\\_3763 & 0.898361211013375 & 0.00000000000706498693215121   & 0.000000453387686\\\\\n",
       "\t B6-Apex2   & 7548\\_7555 & 0.895243134335651 & 0.0000000000107259630353048    & 0.000000516245070\\\\\n",
       "\t B6-Apex2   & 7549\\_7555 & 0.896581283330043 & 0.00000000000898098567852753   & 0.000000516245070\\\\\n",
       "\t B6-Apex2   & 7549\\_7556 & 0.895295909388903 & 0.0000000000106515977709768    & 0.000000516245070\\\\\n",
       "\t B6-Gm15009 & 6819\\_6849 & 0.89097368958486  & 0.0000000000186082898919087    & 0.000000826730535\\\\\n",
       "\t B6-Apex2   & 7550\\_7564 & 0.88945968454189  & 0.0000000000225003530740343    & 0.000000866361095\\\\\n",
       "\t B6-Pola1   & 4685\\_4697 & 0.889645164366562 & 0.0000000000219861266312968    & 0.000000866361095\\\\\n",
       "\t B6-Pola1   & 4686\\_4694 & 0.888433640047789 & 0.0000000000255512898234174    & 0.000000922345669\\\\\n",
       "\t B6-Pola1   & 4684\\_4694 & 0.884479327876338 & 0.0000000000412411307115114    & 0.000001323301870\\\\\n",
       "\t B6-Pola1   & 4684\\_4695 & 0.884843255554057 & 0.0000000000394922878573392    & 0.000001323301870\\\\\n",
       "\t B6-Gm15009 & 6820\\_6850 & 0.882873264697769 & 0.0000000000498465233386255    & 0.000001439480363\\\\\n",
       "\t B6-Pcyt1b  & 4681\\_4687 & 0.882947115898531 & 0.0000000000494170244623582    & 0.000001439480363\\\\\n",
       "\t B6-Gm15009 & 6821\\_6835 & 0.879148314910438 & 0.0000000000765607160863554    & 0.000002105656666\\\\\n",
       "\t B6-Apex2   & 7548\\_7556 & 0.877837315242955 & 0.0000000000887467089678071    & 0.000002135708040\\\\\n",
       "\t B6-Apex2   & 7549\\_7554 & 0.878588337530211 & 0.0000000000815633954115308    & 0.000002135708040\\\\\n",
       "\t B6-Pola1   & 4690\\_4704 & 0.87791338445526  & 0.0000000000879934365041299    & 0.000002135708040\\\\\n",
       "\t B6-Apex2   & 7548\\_7557 & 0.876315728593359 & 0.000000000105121403562317     & 0.000002312444441\\\\\n",
       "\t B6-Apex2   & 7549\\_7557 & 0.876062544724542 & 0.000000000108102118207907     & 0.000002312444441\\\\\n",
       "\t B6-Apex2   & 7550\\_7563 & 0.87660915552981  & 0.00000000010176181798863      & 0.000002312444441\\\\\n",
       "\t B6-Apex2   & 7548\\_7554 & 0.8748608263528   & 0.000000000123342444586024     & 0.000002389993323\\\\\n",
       "\t B6-Apex2   & 7550\\_7556 & 0.874801668908911 & 0.000000000124141524676691     & 0.000002389993323\\\\\n",
       "\t B6-Pola1   & 4684\\_4697 & 0.874897574198849 & 0.000000000122848457228793     & 0.000002389993323\\\\\n",
       "\t ... & ... & ... & ... & ...\\\\\n",
       "\t B6-Srpx & 529\\_564 & NA & NA & NA\\\\\n",
       "\t B6-Srpx & 529\\_566 & NA & NA & NA\\\\\n",
       "\t B6-Srpx & 529\\_567 & NA & NA & NA\\\\\n",
       "\t B6-Srpx & 529\\_568 & NA & NA & NA\\\\\n",
       "\t B6-Srpx & 529\\_569 & NA & NA & NA\\\\\n",
       "\t B6-Srpx & 529\\_570 & NA & NA & NA\\\\\n",
       "\t B6-Srpx & 529\\_571 & NA & NA & NA\\\\\n",
       "\t B6-Srpx & 529\\_572 & NA & NA & NA\\\\\n",
       "\t B6-Srpx & 529\\_573 & NA & NA & NA\\\\\n",
       "\t B6-Srpx & 529\\_574 & NA & NA & NA\\\\\n",
       "\t B6-Srpx & 529\\_575 & NA & NA & NA\\\\\n",
       "\t B6-Srpx & 529\\_576 & NA & NA & NA\\\\\n",
       "\t B6-Srpx & 529\\_577 & NA & NA & NA\\\\\n",
       "\t B6-Srpx & 529\\_578 & NA & NA & NA\\\\\n",
       "\t B6-Srpx & 529\\_579 & NA & NA & NA\\\\\n",
       "\t B6-Srpx & 529\\_580 & NA & NA & NA\\\\\n",
       "\t B6-Srpx & 529\\_581 & NA & NA & NA\\\\\n",
       "\t B6-Srpx & 529\\_582 & NA & NA & NA\\\\\n",
       "\t B6-Srpx & 529\\_583 & NA & NA & NA\\\\\n",
       "\t B6-Srpx & 529\\_587 & NA & NA & NA\\\\\n",
       "\t B6-Srpx & 529\\_588 & NA & NA & NA\\\\\n",
       "\t B6-Srpx & 529\\_589 & NA & NA & NA\\\\\n",
       "\t B6-Srpx & 529\\_590 & NA & NA & NA\\\\\n",
       "\t B6-Srpx & 529\\_591 & NA & NA & NA\\\\\n",
       "\t B6-Srpx & 529\\_592 & NA & NA & NA\\\\\n",
       "\t B6-Srpx & 529\\_593 & NA & NA & NA\\\\\n",
       "\t B6-Srpx & 529\\_594 & NA & NA & NA\\\\\n",
       "\t B6-Srpx & 529\\_595 & NA & NA & NA\\\\\n",
       "\t B6-Srpx & 529\\_596 & NA & NA & NA\\\\\n",
       "\t B6-Srpx & 529\\_597 & NA & NA & NA\\\\\n",
       "\\end{tabular}\n"
      ],
      "text/markdown": [
       "\n",
       "A data.frame: 581930 x 5\n",
       "\n",
       "| gene &lt;chr&gt; | pos &lt;chr&gt; | cor &lt;chr&gt; | pvalue &lt;chr&gt; | fdr &lt;dbl&gt; |\n",
       "|---|---|---|---|---|\n",
       "| B6-Gm15009 | 6819_6850 | 0.93553409510915  | 0.0000000000000122422169243102 | 0.000000007070676 |\n",
       "| B6-Pola1   | 4685_4693 | 0.927866664359645 | 0.0000000000000594107167801866 | 0.000000017156775 |\n",
       "| B6-Pola1   | 4685_4694 | 0.924001535360076 | 0.000000000000123482175285059  | 0.000000023772994 |\n",
       "| B6-Gm15009 | 6820_6836 | 0.920841644450279 | 0.00000000000021835564029144   | 0.000000031528644 |\n",
       "| B6-Gm15009 | 6820_6835 | 0.918365680669006 | 0.000000000000335796857137547  | 0.000000038788902 |\n",
       "| B6-Pola1   | 4685_4695 | 0.906302530162473 | 0.00000000000228855737446975   | 0.000000220298440 |\n",
       "| B6-Pola1   | 4684_4693 | 0.903631654768837 | 0.00000000000337995905467672   | 0.000000278878007 |\n",
       "| B6-Pola1   | 4686_4695 | 0.902421650744138 | 0.00000000000401810480783163   | 0.000000290089588 |\n",
       "| B6-L1cam   | 3715_3763 | 0.898361211013375 | 0.00000000000706498693215121   | 0.000000453387686 |\n",
       "| B6-Apex2   | 7548_7555 | 0.895243134335651 | 0.0000000000107259630353048    | 0.000000516245070 |\n",
       "| B6-Apex2   | 7549_7555 | 0.896581283330043 | 0.00000000000898098567852753   | 0.000000516245070 |\n",
       "| B6-Apex2   | 7549_7556 | 0.895295909388903 | 0.0000000000106515977709768    | 0.000000516245070 |\n",
       "| B6-Gm15009 | 6819_6849 | 0.89097368958486  | 0.0000000000186082898919087    | 0.000000826730535 |\n",
       "| B6-Apex2   | 7550_7564 | 0.88945968454189  | 0.0000000000225003530740343    | 0.000000866361095 |\n",
       "| B6-Pola1   | 4685_4697 | 0.889645164366562 | 0.0000000000219861266312968    | 0.000000866361095 |\n",
       "| B6-Pola1   | 4686_4694 | 0.888433640047789 | 0.0000000000255512898234174    | 0.000000922345669 |\n",
       "| B6-Pola1   | 4684_4694 | 0.884479327876338 | 0.0000000000412411307115114    | 0.000001323301870 |\n",
       "| B6-Pola1   | 4684_4695 | 0.884843255554057 | 0.0000000000394922878573392    | 0.000001323301870 |\n",
       "| B6-Gm15009 | 6820_6850 | 0.882873264697769 | 0.0000000000498465233386255    | 0.000001439480363 |\n",
       "| B6-Pcyt1b  | 4681_4687 | 0.882947115898531 | 0.0000000000494170244623582    | 0.000001439480363 |\n",
       "| B6-Gm15009 | 6821_6835 | 0.879148314910438 | 0.0000000000765607160863554    | 0.000002105656666 |\n",
       "| B6-Apex2   | 7548_7556 | 0.877837315242955 | 0.0000000000887467089678071    | 0.000002135708040 |\n",
       "| B6-Apex2   | 7549_7554 | 0.878588337530211 | 0.0000000000815633954115308    | 0.000002135708040 |\n",
       "| B6-Pola1   | 4690_4704 | 0.87791338445526  | 0.0000000000879934365041299    | 0.000002135708040 |\n",
       "| B6-Apex2   | 7548_7557 | 0.876315728593359 | 0.000000000105121403562317     | 0.000002312444441 |\n",
       "| B6-Apex2   | 7549_7557 | 0.876062544724542 | 0.000000000108102118207907     | 0.000002312444441 |\n",
       "| B6-Apex2   | 7550_7563 | 0.87660915552981  | 0.00000000010176181798863      | 0.000002312444441 |\n",
       "| B6-Apex2   | 7548_7554 | 0.8748608263528   | 0.000000000123342444586024     | 0.000002389993323 |\n",
       "| B6-Apex2   | 7550_7556 | 0.874801668908911 | 0.000000000124141524676691     | 0.000002389993323 |\n",
       "| B6-Pola1   | 4684_4697 | 0.874897574198849 | 0.000000000122848457228793     | 0.000002389993323 |\n",
       "| ... | ... | ... | ... | ... |\n",
       "| B6-Srpx | 529_564 | NA | NA | NA |\n",
       "| B6-Srpx | 529_566 | NA | NA | NA |\n",
       "| B6-Srpx | 529_567 | NA | NA | NA |\n",
       "| B6-Srpx | 529_568 | NA | NA | NA |\n",
       "| B6-Srpx | 529_569 | NA | NA | NA |\n",
       "| B6-Srpx | 529_570 | NA | NA | NA |\n",
       "| B6-Srpx | 529_571 | NA | NA | NA |\n",
       "| B6-Srpx | 529_572 | NA | NA | NA |\n",
       "| B6-Srpx | 529_573 | NA | NA | NA |\n",
       "| B6-Srpx | 529_574 | NA | NA | NA |\n",
       "| B6-Srpx | 529_575 | NA | NA | NA |\n",
       "| B6-Srpx | 529_576 | NA | NA | NA |\n",
       "| B6-Srpx | 529_577 | NA | NA | NA |\n",
       "| B6-Srpx | 529_578 | NA | NA | NA |\n",
       "| B6-Srpx | 529_579 | NA | NA | NA |\n",
       "| B6-Srpx | 529_580 | NA | NA | NA |\n",
       "| B6-Srpx | 529_581 | NA | NA | NA |\n",
       "| B6-Srpx | 529_582 | NA | NA | NA |\n",
       "| B6-Srpx | 529_583 | NA | NA | NA |\n",
       "| B6-Srpx | 529_587 | NA | NA | NA |\n",
       "| B6-Srpx | 529_588 | NA | NA | NA |\n",
       "| B6-Srpx | 529_589 | NA | NA | NA |\n",
       "| B6-Srpx | 529_590 | NA | NA | NA |\n",
       "| B6-Srpx | 529_591 | NA | NA | NA |\n",
       "| B6-Srpx | 529_592 | NA | NA | NA |\n",
       "| B6-Srpx | 529_593 | NA | NA | NA |\n",
       "| B6-Srpx | 529_594 | NA | NA | NA |\n",
       "| B6-Srpx | 529_595 | NA | NA | NA |\n",
       "| B6-Srpx | 529_596 | NA | NA | NA |\n",
       "| B6-Srpx | 529_597 | NA | NA | NA |\n",
       "\n"
      ],
      "text/plain": [
       "       gene       pos       cor               pvalue                        \n",
       "1      B6-Gm15009 6819_6850 0.93553409510915  0.0000000000000122422169243102\n",
       "2      B6-Pola1   4685_4693 0.927866664359645 0.0000000000000594107167801866\n",
       "3      B6-Pola1   4685_4694 0.924001535360076 0.000000000000123482175285059 \n",
       "4      B6-Gm15009 6820_6836 0.920841644450279 0.00000000000021835564029144  \n",
       "5      B6-Gm15009 6820_6835 0.918365680669006 0.000000000000335796857137547 \n",
       "6      B6-Pola1   4685_4695 0.906302530162473 0.00000000000228855737446975  \n",
       "7      B6-Pola1   4684_4693 0.903631654768837 0.00000000000337995905467672  \n",
       "8      B6-Pola1   4686_4695 0.902421650744138 0.00000000000401810480783163  \n",
       "9      B6-L1cam   3715_3763 0.898361211013375 0.00000000000706498693215121  \n",
       "10     B6-Apex2   7548_7555 0.895243134335651 0.0000000000107259630353048   \n",
       "11     B6-Apex2   7549_7555 0.896581283330043 0.00000000000898098567852753  \n",
       "12     B6-Apex2   7549_7556 0.895295909388903 0.0000000000106515977709768   \n",
       "13     B6-Gm15009 6819_6849 0.89097368958486  0.0000000000186082898919087   \n",
       "14     B6-Apex2   7550_7564 0.88945968454189  0.0000000000225003530740343   \n",
       "15     B6-Pola1   4685_4697 0.889645164366562 0.0000000000219861266312968   \n",
       "16     B6-Pola1   4686_4694 0.888433640047789 0.0000000000255512898234174   \n",
       "17     B6-Pola1   4684_4694 0.884479327876338 0.0000000000412411307115114   \n",
       "18     B6-Pola1   4684_4695 0.884843255554057 0.0000000000394922878573392   \n",
       "19     B6-Gm15009 6820_6850 0.882873264697769 0.0000000000498465233386255   \n",
       "20     B6-Pcyt1b  4681_4687 0.882947115898531 0.0000000000494170244623582   \n",
       "21     B6-Gm15009 6821_6835 0.879148314910438 0.0000000000765607160863554   \n",
       "22     B6-Apex2   7548_7556 0.877837315242955 0.0000000000887467089678071   \n",
       "23     B6-Apex2   7549_7554 0.878588337530211 0.0000000000815633954115308   \n",
       "24     B6-Pola1   4690_4704 0.87791338445526  0.0000000000879934365041299   \n",
       "25     B6-Apex2   7548_7557 0.876315728593359 0.000000000105121403562317    \n",
       "26     B6-Apex2   7549_7557 0.876062544724542 0.000000000108102118207907    \n",
       "27     B6-Apex2   7550_7563 0.87660915552981  0.00000000010176181798863     \n",
       "28     B6-Apex2   7548_7554 0.8748608263528   0.000000000123342444586024    \n",
       "29     B6-Apex2   7550_7556 0.874801668908911 0.000000000124141524676691    \n",
       "30     B6-Pola1   4684_4697 0.874897574198849 0.000000000122848457228793    \n",
       "...    ...        ...       ...               ...                           \n",
       "581901 B6-Srpx    529_564   NA                NA                            \n",
       "581902 B6-Srpx    529_566   NA                NA                            \n",
       "581903 B6-Srpx    529_567   NA                NA                            \n",
       "581904 B6-Srpx    529_568   NA                NA                            \n",
       "581905 B6-Srpx    529_569   NA                NA                            \n",
       "581906 B6-Srpx    529_570   NA                NA                            \n",
       "581907 B6-Srpx    529_571   NA                NA                            \n",
       "581908 B6-Srpx    529_572   NA                NA                            \n",
       "581909 B6-Srpx    529_573   NA                NA                            \n",
       "581910 B6-Srpx    529_574   NA                NA                            \n",
       "581911 B6-Srpx    529_575   NA                NA                            \n",
       "581912 B6-Srpx    529_576   NA                NA                            \n",
       "581913 B6-Srpx    529_577   NA                NA                            \n",
       "581914 B6-Srpx    529_578   NA                NA                            \n",
       "581915 B6-Srpx    529_579   NA                NA                            \n",
       "581916 B6-Srpx    529_580   NA                NA                            \n",
       "581917 B6-Srpx    529_581   NA                NA                            \n",
       "581918 B6-Srpx    529_582   NA                NA                            \n",
       "581919 B6-Srpx    529_583   NA                NA                            \n",
       "581920 B6-Srpx    529_587   NA                NA                            \n",
       "581921 B6-Srpx    529_588   NA                NA                            \n",
       "581922 B6-Srpx    529_589   NA                NA                            \n",
       "581923 B6-Srpx    529_590   NA                NA                            \n",
       "581924 B6-Srpx    529_591   NA                NA                            \n",
       "581925 B6-Srpx    529_592   NA                NA                            \n",
       "581926 B6-Srpx    529_593   NA                NA                            \n",
       "581927 B6-Srpx    529_594   NA                NA                            \n",
       "581928 B6-Srpx    529_595   NA                NA                            \n",
       "581929 B6-Srpx    529_596   NA                NA                            \n",
       "581930 B6-Srpx    529_597   NA                NA                            \n",
       "       fdr              \n",
       "1      0.000000007070676\n",
       "2      0.000000017156775\n",
       "3      0.000000023772994\n",
       "4      0.000000031528644\n",
       "5      0.000000038788902\n",
       "6      0.000000220298440\n",
       "7      0.000000278878007\n",
       "8      0.000000290089588\n",
       "9      0.000000453387686\n",
       "10     0.000000516245070\n",
       "11     0.000000516245070\n",
       "12     0.000000516245070\n",
       "13     0.000000826730535\n",
       "14     0.000000866361095\n",
       "15     0.000000866361095\n",
       "16     0.000000922345669\n",
       "17     0.000001323301870\n",
       "18     0.000001323301870\n",
       "19     0.000001439480363\n",
       "20     0.000001439480363\n",
       "21     0.000002105656666\n",
       "22     0.000002135708040\n",
       "23     0.000002135708040\n",
       "24     0.000002135708040\n",
       "25     0.000002312444441\n",
       "26     0.000002312444441\n",
       "27     0.000002312444441\n",
       "28     0.000002389993323\n",
       "29     0.000002389993323\n",
       "30     0.000002389993323\n",
       "...    ...              \n",
       "581901 NA               \n",
       "581902 NA               \n",
       "581903 NA               \n",
       "581904 NA               \n",
       "581905 NA               \n",
       "581906 NA               \n",
       "581907 NA               \n",
       "581908 NA               \n",
       "581909 NA               \n",
       "581910 NA               \n",
       "581911 NA               \n",
       "581912 NA               \n",
       "581913 NA               \n",
       "581914 NA               \n",
       "581915 NA               \n",
       "581916 NA               \n",
       "581917 NA               \n",
       "581918 NA               \n",
       "581919 NA               \n",
       "581920 NA               \n",
       "581921 NA               \n",
       "581922 NA               \n",
       "581923 NA               \n",
       "581924 NA               \n",
       "581925 NA               \n",
       "581926 NA               \n",
       "581927 NA               \n",
       "581928 NA               \n",
       "581929 NA               \n",
       "581930 NA               "
      ]
     },
     "metadata": {},
     "output_type": "display_data"
    }
   ],
   "source": [
    "cor$fdr <- p.adjust(as.numeric(cor$pvalue), method = \"BH\")\n",
    "cor %>% arrange(fdr)"
   ]
  },
  {
   "cell_type": "code",
   "execution_count": 63,
   "metadata": {
    "vscode": {
     "languageId": "r"
    }
   },
   "outputs": [],
   "source": [
    "cor %>% write_tsv(\"/share/Data/hxie/project/202209/esc_xwliu/esc0615_version2/HiC_analysis/GADI/GADI_c5_res_new/c5_down_cor.csv\", col_names = TRUE)"
   ]
  },
  {
   "cell_type": "markdown",
   "metadata": {},
   "source": [
    "# Plot"
   ]
  },
  {
   "cell_type": "code",
   "execution_count": 71,
   "metadata": {
    "vscode": {
     "languageId": "r"
    }
   },
   "outputs": [],
   "source": [
    "cor$cor <- as.numeric(cor$cor)"
   ]
  },
  {
   "cell_type": "code",
   "execution_count": 72,
   "metadata": {
    "vscode": {
     "languageId": "r"
    }
   },
   "outputs": [
    {
     "name": "stderr",
     "output_type": "stream",
     "text": [
      "Warning message:\n",
      "\"Using `bins = 30` by default. Pick better value with the argument `bins`.\"\n"
     ]
    },
    {
     "data": {
      "image/png": "[encoded data removed]",
      "text/plain": [
       "plot without title"
      ]
     },
     "metadata": {
      "image/png": {
       "height": 400,
       "width": 400
      }
     },
     "output_type": "display_data"
    }
   ],
   "source": [
    "options(repr.plot.height = 4, repr.plot.width = 4,repr.plot.res = 200)\n",
    "cor %>% filter(fdr < 0.05) %>% gghistogram(\"cor\")"
   ]
  },
  {
   "cell_type": "code",
   "execution_count": 73,
   "metadata": {
    "vscode": {
     "languageId": "r"
    }
   },
   "outputs": [
    {
     "data": {
      "text/html": [
       "<style>\n",
       ".list-inline {list-style: none; margin:0; padding: 0}\n",
       ".list-inline>li {display: inline-block}\n",
       ".list-inline>li:not(:last-child)::after {content: \"\\00b7\"; padding: 0 .5ex}\n",
       "</style>\n",
       "<ol class=list-inline><li>68458</li><li>5</li></ol>\n"
      ],
      "text/latex": [
       "\\begin{enumerate*}\n",
       "\\item 68458\n",
       "\\item 5\n",
       "\\end{enumerate*}\n"
      ],
      "text/markdown": [
       "1. 68458\n",
       "2. 5\n",
       "\n",
       "\n"
      ],
      "text/plain": [
       "[1] 68458     5"
      ]
     },
     "metadata": {},
     "output_type": "display_data"
    }
   ],
   "source": [
    "cor %>% mutate(cor = as.double(cor)) %>% filter(fdr < 0.05) %>% dim()"
   ]
  },
  {
   "cell_type": "markdown",
   "metadata": {},
   "source": [
    "## Random"
   ]
  },
  {
   "cell_type": "code",
   "execution_count": 74,
   "metadata": {
    "vscode": {
     "languageId": "r"
    }
   },
   "outputs": [],
   "source": [
    "gene <- di_link_gene$gene\n",
    "pos <- di_link_gene$pos\n",
    "\n",
    "results <- suppressWarnings(\n",
    "  mapply(function(gene, pos) {\n",
    "    RNA <- sctRNAmat_temp[[gene]]\n",
    "    DI <- DI_dynamic_mc[[pos]]\n",
    "    result <- cor_test_wrapper(gene, pos, RNA, DI, method = \"random\")\n",
    "    result\n",
    "  }, gene, pos, SIMPLIFY = FALSE)\n",
    ")\n",
    "\n",
    "results <- do.call(rbind, results)"
   ]
  },
  {
   "cell_type": "code",
   "execution_count": 75,
   "metadata": {
    "vscode": {
     "languageId": "r"
    }
   },
   "outputs": [],
   "source": [
    "cor_random <- results %>% as.data.frame() %>% rownames_to_column(\"V5\") %>% select(-V5)\n",
    "names(cor_random) <- c(\"gene\",\"pos\",\"cor\",\"pvalue\")"
   ]
  },
  {
   "cell_type": "code",
   "execution_count": 76,
   "metadata": {
    "vscode": {
     "languageId": "r"
    }
   },
   "outputs": [
    {
     "data": {
      "text/html": [
       "<table class=\"dataframe\">\n",
       "<caption>A data.frame: 581930 x 5</caption>\n",
       "<thead>\n",
       "\t<tr><th scope=col>gene</th><th scope=col>pos</th><th scope=col>cor</th><th scope=col>pvalue</th><th scope=col>fdr</th></tr>\n",
       "\t<tr><th scope=col>&lt;chr&gt;</th><th scope=col>&lt;chr&gt;</th><th scope=col>&lt;chr&gt;</th><th scope=col>&lt;chr&gt;</th><th scope=col>&lt;dbl&gt;</th></tr>\n",
       "</thead>\n",
       "<tbody>\n",
       "\t<tr><td>B6-Glra2 </td><td>8249_8292</td><td>0.968185179192387</td><td>0.000000000000000000539749325587282</td><td>0.0000000000001642646</td></tr>\n",
       "\t<tr><td>B6-Glra2 </td><td>8268_8303</td><td>0.968068227630585</td><td>0.000000000000000000568817790941828</td><td>0.0000000000001642646</td></tr>\n",
       "\t<tr><td>B6-Plac1 </td><td>2659_2709</td><td>0.961775821072881</td><td>0.000000000000000007415057342704   </td><td>0.0000000000014275592</td></tr>\n",
       "\t<tr><td>B6-Glra2 </td><td>8254_8273</td><td>0.933162300774762</td><td>0.0000000000000203557355987037     </td><td>0.0000000029391901078</td></tr>\n",
       "\t<tr><td>B6-Bex2  </td><td>6795_6825</td><td>0.92566154770626 </td><td>0.0000000000000906231368636915     </td><td>0.0000000104681504085</td></tr>\n",
       "\t<tr><td>B6-Gm5127</td><td>5307_5322</td><td>0.923783152656952</td><td>0.000000000000128544618644447      </td><td>0.0000000122605370743</td></tr>\n",
       "\t<tr><td>B6-Mamld1</td><td>3548_3578</td><td>0.922251527254222</td><td>0.000000000000169823823456154      </td><td>0.0000000122605370743</td></tr>\n",
       "\t<tr><td>B6-Spin2c</td><td>7676_7733</td><td>0.922540938346215</td><td>0.000000000000161189128738577      </td><td>0.0000000122605370743</td></tr>\n",
       "\t<tr><td>B6-Spin2c</td><td>7707_7724</td><td>0.906992022397699</td><td>0.00000000000206548856489924       </td><td>0.0000001325504336651</td></tr>\n",
       "\t<tr><td>B6-Plac1 </td><td>2685_2700</td><td>0.904455919654248</td><td>0.00000000000300039119328826       </td><td>0.0000001732920939552</td></tr>\n",
       "\t<tr><td>B6-Radx  </td><td>6953_6984</td><td>0.893612440637696</td><td>0.0000000000132744638434247        </td><td>0.0000006969877917934</td></tr>\n",
       "\t<tr><td>B6-Mageh1</td><td>7669_7712</td><td>0.883704124407908</td><td>0.0000000000452071335990651        </td><td>0.0000021758381764287</td></tr>\n",
       "\t<tr><td>B6-Mamld1</td><td>3564_3590</td><td>0.875678406557641</td><td>0.000000000112773665138544         </td><td>0.0000050103170696726</td></tr>\n",
       "\t<tr><td>B6-Mtcp1 </td><td>3781_3787</td><td>0.868639701178409</td><td>0.000000000239087809262696         </td><td>0.0000098634821826292</td></tr>\n",
       "\t<tr><td>B6-Bex2  </td><td>6789_6824</td><td>0.849973802897388</td><td>0.00000000144770841682809          </td><td>0.0000557430474510211</td></tr>\n",
       "\t<tr><td>B6-Mamld1</td><td>3563_3595</td><td>0.849073513747737</td><td>0.00000000156932653253319          </td><td>0.0000566492549226582</td></tr>\n",
       "\t<tr><td>B6-Mageh1</td><td>7665_7698</td><td>0.843959584998089</td><td>0.00000000245760498455503          </td><td>0.0000834956837002662</td></tr>\n",
       "\t<tr><td>B6-Mageh1</td><td>7666_7698</td><td>0.826871186299441</td><td>0.00000000987212757717115          </td><td>0.0002715140649575645</td></tr>\n",
       "\t<tr><td>B6-Rtl4  </td><td>7239_7278</td><td>0.827762540273854</td><td>0.00000000921617454594764          </td><td>0.0002715140649575645</td></tr>\n",
       "\t<tr><td>B6-Rtl4  </td><td>7278_7301</td><td>0.826904300483525</td><td>0.00000000984701185275487          </td><td>0.0002715140649575645</td></tr>\n",
       "\t<tr><td>B6-Scml2 </td><td>8080_8107</td><td>0.828092930343741</td><td>0.00000000898337852743557          </td><td>0.0002715140649575645</td></tr>\n",
       "\t<tr><td>B6-Bex2  </td><td>6820_6850</td><td>0.826167282987229</td><td>0.000000010420113784713            </td><td>0.0002735587735485347</td></tr>\n",
       "\t<tr><td>B6-Gm5127</td><td>5305_5322</td><td>0.825548136344252</td><td>0.0000000109250439974957           </td><td>0.0002743444798440697</td></tr>\n",
       "\t<tr><td>B6-Glra2 </td><td>8240_8312</td><td>0.822080365702198</td><td>0.0000000141927008599609           </td><td>0.0003415503030076382</td></tr>\n",
       "\t<tr><td>B6-Tceal5</td><td>6795_6827</td><td>0.818647059042157</td><td>0.0000000182895666104137           </td><td>0.0004225365415737435</td></tr>\n",
       "\t<tr><td>B6-Mamld1</td><td>3574_3594</td><td>0.817341595303371</td><td>0.0000000201131723006651           </td><td>0.0004467947830705245</td></tr>\n",
       "\t<tr><td>B6-Mageh1</td><td>7664_7697</td><td>0.813370197456199</td><td>0.0000000267348466368486           </td><td>0.0005718930258448690</td></tr>\n",
       "\t<tr><td>B6-Tceal5</td><td>6820_6849</td><td>0.811193282672809</td><td>0.0000000311601759422474           </td><td>0.0006427509649315757</td></tr>\n",
       "\t<tr><td>B6-Glra2 </td><td>8233_8280</td><td>0.806299987639483</td><td>0.0000000436593804866678           </td><td>0.0008695217272683546</td></tr>\n",
       "\t<tr><td>B6-Amot  </td><td>7294_7331</td><td>0.805555331433593</td><td>0.0000000459206412292741           </td><td>0.0008840718383861898</td></tr>\n",
       "\t<tr><td>...</td><td>...</td><td>...</td><td>...</td><td>...</td></tr>\n",
       "\t<tr><td>B6-Srpx</td><td>529_564</td><td>NA</td><td>NA</td><td>NA</td></tr>\n",
       "\t<tr><td>B6-Srpx</td><td>529_566</td><td>NA</td><td>NA</td><td>NA</td></tr>\n",
       "\t<tr><td>B6-Srpx</td><td>529_567</td><td>NA</td><td>NA</td><td>NA</td></tr>\n",
       "\t<tr><td>B6-Srpx</td><td>529_568</td><td>NA</td><td>NA</td><td>NA</td></tr>\n",
       "\t<tr><td>B6-Srpx</td><td>529_569</td><td>NA</td><td>NA</td><td>NA</td></tr>\n",
       "\t<tr><td>B6-Srpx</td><td>529_570</td><td>NA</td><td>NA</td><td>NA</td></tr>\n",
       "\t<tr><td>B6-Srpx</td><td>529_571</td><td>NA</td><td>NA</td><td>NA</td></tr>\n",
       "\t<tr><td>B6-Srpx</td><td>529_572</td><td>NA</td><td>NA</td><td>NA</td></tr>\n",
       "\t<tr><td>B6-Srpx</td><td>529_573</td><td>NA</td><td>NA</td><td>NA</td></tr>\n",
       "\t<tr><td>B6-Srpx</td><td>529_574</td><td>NA</td><td>NA</td><td>NA</td></tr>\n",
       "\t<tr><td>B6-Srpx</td><td>529_575</td><td>NA</td><td>NA</td><td>NA</td></tr>\n",
       "\t<tr><td>B6-Srpx</td><td>529_576</td><td>NA</td><td>NA</td><td>NA</td></tr>\n",
       "\t<tr><td>B6-Srpx</td><td>529_577</td><td>NA</td><td>NA</td><td>NA</td></tr>\n",
       "\t<tr><td>B6-Srpx</td><td>529_578</td><td>NA</td><td>NA</td><td>NA</td></tr>\n",
       "\t<tr><td>B6-Srpx</td><td>529_579</td><td>NA</td><td>NA</td><td>NA</td></tr>\n",
       "\t<tr><td>B6-Srpx</td><td>529_580</td><td>NA</td><td>NA</td><td>NA</td></tr>\n",
       "\t<tr><td>B6-Srpx</td><td>529_581</td><td>NA</td><td>NA</td><td>NA</td></tr>\n",
       "\t<tr><td>B6-Srpx</td><td>529_582</td><td>NA</td><td>NA</td><td>NA</td></tr>\n",
       "\t<tr><td>B6-Srpx</td><td>529_583</td><td>NA</td><td>NA</td><td>NA</td></tr>\n",
       "\t<tr><td>B6-Srpx</td><td>529_587</td><td>NA</td><td>NA</td><td>NA</td></tr>\n",
       "\t<tr><td>B6-Srpx</td><td>529_588</td><td>NA</td><td>NA</td><td>NA</td></tr>\n",
       "\t<tr><td>B6-Srpx</td><td>529_589</td><td>NA</td><td>NA</td><td>NA</td></tr>\n",
       "\t<tr><td>B6-Srpx</td><td>529_590</td><td>NA</td><td>NA</td><td>NA</td></tr>\n",
       "\t<tr><td>B6-Srpx</td><td>529_591</td><td>NA</td><td>NA</td><td>NA</td></tr>\n",
       "\t<tr><td>B6-Srpx</td><td>529_592</td><td>NA</td><td>NA</td><td>NA</td></tr>\n",
       "\t<tr><td>B6-Srpx</td><td>529_593</td><td>NA</td><td>NA</td><td>NA</td></tr>\n",
       "\t<tr><td>B6-Srpx</td><td>529_594</td><td>NA</td><td>NA</td><td>NA</td></tr>\n",
       "\t<tr><td>B6-Srpx</td><td>529_595</td><td>NA</td><td>NA</td><td>NA</td></tr>\n",
       "\t<tr><td>B6-Srpx</td><td>529_596</td><td>NA</td><td>NA</td><td>NA</td></tr>\n",
       "\t<tr><td>B6-Srpx</td><td>529_597</td><td>NA</td><td>NA</td><td>NA</td></tr>\n",
       "</tbody>\n",
       "</table>\n"
      ],
      "text/latex": [
       "A data.frame: 581930 x 5\n",
       "\\begin{tabular}{lllll}\n",
       " gene & pos & cor & pvalue & fdr\\\\\n",
       " <chr> & <chr> & <chr> & <chr> & <dbl>\\\\\n",
       "\\hline\n",
       "\t B6-Glra2  & 8249\\_8292 & 0.968185179192387 & 0.000000000000000000539749325587282 & 0.0000000000001642646\\\\\n",
       "\t B6-Glra2  & 8268\\_8303 & 0.968068227630585 & 0.000000000000000000568817790941828 & 0.0000000000001642646\\\\\n",
       "\t B6-Plac1  & 2659\\_2709 & 0.961775821072881 & 0.000000000000000007415057342704    & 0.0000000000014275592\\\\\n",
       "\t B6-Glra2  & 8254\\_8273 & 0.933162300774762 & 0.0000000000000203557355987037      & 0.0000000029391901078\\\\\n",
       "\t B6-Bex2   & 6795\\_6825 & 0.92566154770626  & 0.0000000000000906231368636915      & 0.0000000104681504085\\\\\n",
       "\t B6-Gm5127 & 5307\\_5322 & 0.923783152656952 & 0.000000000000128544618644447       & 0.0000000122605370743\\\\\n",
       "\t B6-Mamld1 & 3548\\_3578 & 0.922251527254222 & 0.000000000000169823823456154       & 0.0000000122605370743\\\\\n",
       "\t B6-Spin2c & 7676\\_7733 & 0.922540938346215 & 0.000000000000161189128738577       & 0.0000000122605370743\\\\\n",
       "\t B6-Spin2c & 7707\\_7724 & 0.906992022397699 & 0.00000000000206548856489924        & 0.0000001325504336651\\\\\n",
       "\t B6-Plac1  & 2685\\_2700 & 0.904455919654248 & 0.00000000000300039119328826        & 0.0000001732920939552\\\\\n",
       "\t B6-Radx   & 6953\\_6984 & 0.893612440637696 & 0.0000000000132744638434247         & 0.0000006969877917934\\\\\n",
       "\t B6-Mageh1 & 7669\\_7712 & 0.883704124407908 & 0.0000000000452071335990651         & 0.0000021758381764287\\\\\n",
       "\t B6-Mamld1 & 3564\\_3590 & 0.875678406557641 & 0.000000000112773665138544          & 0.0000050103170696726\\\\\n",
       "\t B6-Mtcp1  & 3781\\_3787 & 0.868639701178409 & 0.000000000239087809262696          & 0.0000098634821826292\\\\\n",
       "\t B6-Bex2   & 6789\\_6824 & 0.849973802897388 & 0.00000000144770841682809           & 0.0000557430474510211\\\\\n",
       "\t B6-Mamld1 & 3563\\_3595 & 0.849073513747737 & 0.00000000156932653253319           & 0.0000566492549226582\\\\\n",
       "\t B6-Mageh1 & 7665\\_7698 & 0.843959584998089 & 0.00000000245760498455503           & 0.0000834956837002662\\\\\n",
       "\t B6-Mageh1 & 7666\\_7698 & 0.826871186299441 & 0.00000000987212757717115           & 0.0002715140649575645\\\\\n",
       "\t B6-Rtl4   & 7239\\_7278 & 0.827762540273854 & 0.00000000921617454594764           & 0.0002715140649575645\\\\\n",
       "\t B6-Rtl4   & 7278\\_7301 & 0.826904300483525 & 0.00000000984701185275487           & 0.0002715140649575645\\\\\n",
       "\t B6-Scml2  & 8080\\_8107 & 0.828092930343741 & 0.00000000898337852743557           & 0.0002715140649575645\\\\\n",
       "\t B6-Bex2   & 6820\\_6850 & 0.826167282987229 & 0.000000010420113784713             & 0.0002735587735485347\\\\\n",
       "\t B6-Gm5127 & 5305\\_5322 & 0.825548136344252 & 0.0000000109250439974957            & 0.0002743444798440697\\\\\n",
       "\t B6-Glra2  & 8240\\_8312 & 0.822080365702198 & 0.0000000141927008599609            & 0.0003415503030076382\\\\\n",
       "\t B6-Tceal5 & 6795\\_6827 & 0.818647059042157 & 0.0000000182895666104137            & 0.0004225365415737435\\\\\n",
       "\t B6-Mamld1 & 3574\\_3594 & 0.817341595303371 & 0.0000000201131723006651            & 0.0004467947830705245\\\\\n",
       "\t B6-Mageh1 & 7664\\_7697 & 0.813370197456199 & 0.0000000267348466368486            & 0.0005718930258448690\\\\\n",
       "\t B6-Tceal5 & 6820\\_6849 & 0.811193282672809 & 0.0000000311601759422474            & 0.0006427509649315757\\\\\n",
       "\t B6-Glra2  & 8233\\_8280 & 0.806299987639483 & 0.0000000436593804866678            & 0.0008695217272683546\\\\\n",
       "\t B6-Amot   & 7294\\_7331 & 0.805555331433593 & 0.0000000459206412292741            & 0.0008840718383861898\\\\\n",
       "\t ... & ... & ... & ... & ...\\\\\n",
       "\t B6-Srpx & 529\\_564 & NA & NA & NA\\\\\n",
       "\t B6-Srpx & 529\\_566 & NA & NA & NA\\\\\n",
       "\t B6-Srpx & 529\\_567 & NA & NA & NA\\\\\n",
       "\t B6-Srpx & 529\\_568 & NA & NA & NA\\\\\n",
       "\t B6-Srpx & 529\\_569 & NA & NA & NA\\\\\n",
       "\t B6-Srpx & 529\\_570 & NA & NA & NA\\\\\n",
       "\t B6-Srpx & 529\\_571 & NA & NA & NA\\\\\n",
       "\t B6-Srpx & 529\\_572 & NA & NA & NA\\\\\n",
       "\t B6-Srpx & 529\\_573 & NA & NA & NA\\\\\n",
       "\t B6-Srpx & 529\\_574 & NA & NA & NA\\\\\n",
       "\t B6-Srpx & 529\\_575 & NA & NA & NA\\\\\n",
       "\t B6-Srpx & 529\\_576 & NA & NA & NA\\\\\n",
       "\t B6-Srpx & 529\\_577 & NA & NA & NA\\\\\n",
       "\t B6-Srpx & 529\\_578 & NA & NA & NA\\\\\n",
       "\t B6-Srpx & 529\\_579 & NA & NA & NA\\\\\n",
       "\t B6-Srpx & 529\\_580 & NA & NA & NA\\\\\n",
       "\t B6-Srpx & 529\\_581 & NA & NA & NA\\\\\n",
       "\t B6-Srpx & 529\\_582 & NA & NA & NA\\\\\n",
       "\t B6-Srpx & 529\\_583 & NA & NA & NA\\\\\n",
       "\t B6-Srpx & 529\\_587 & NA & NA & NA\\\\\n",
       "\t B6-Srpx & 529\\_588 & NA & NA & NA\\\\\n",
       "\t B6-Srpx & 529\\_589 & NA & NA & NA\\\\\n",
       "\t B6-Srpx & 529\\_590 & NA & NA & NA\\\\\n",
       "\t B6-Srpx & 529\\_591 & NA & NA & NA\\\\\n",
       "\t B6-Srpx & 529\\_592 & NA & NA & NA\\\\\n",
       "\t B6-Srpx & 529\\_593 & NA & NA & NA\\\\\n",
       "\t B6-Srpx & 529\\_594 & NA & NA & NA\\\\\n",
       "\t B6-Srpx & 529\\_595 & NA & NA & NA\\\\\n",
       "\t B6-Srpx & 529\\_596 & NA & NA & NA\\\\\n",
       "\t B6-Srpx & 529\\_597 & NA & NA & NA\\\\\n",
       "\\end{tabular}\n"
      ],
      "text/markdown": [
       "\n",
       "A data.frame: 581930 x 5\n",
       "\n",
       "| gene &lt;chr&gt; | pos &lt;chr&gt; | cor &lt;chr&gt; | pvalue &lt;chr&gt; | fdr &lt;dbl&gt; |\n",
       "|---|---|---|---|---|\n",
       "| B6-Glra2  | 8249_8292 | 0.968185179192387 | 0.000000000000000000539749325587282 | 0.0000000000001642646 |\n",
       "| B6-Glra2  | 8268_8303 | 0.968068227630585 | 0.000000000000000000568817790941828 | 0.0000000000001642646 |\n",
       "| B6-Plac1  | 2659_2709 | 0.961775821072881 | 0.000000000000000007415057342704    | 0.0000000000014275592 |\n",
       "| B6-Glra2  | 8254_8273 | 0.933162300774762 | 0.0000000000000203557355987037      | 0.0000000029391901078 |\n",
       "| B6-Bex2   | 6795_6825 | 0.92566154770626  | 0.0000000000000906231368636915      | 0.0000000104681504085 |\n",
       "| B6-Gm5127 | 5307_5322 | 0.923783152656952 | 0.000000000000128544618644447       | 0.0000000122605370743 |\n",
       "| B6-Mamld1 | 3548_3578 | 0.922251527254222 | 0.000000000000169823823456154       | 0.0000000122605370743 |\n",
       "| B6-Spin2c | 7676_7733 | 0.922540938346215 | 0.000000000000161189128738577       | 0.0000000122605370743 |\n",
       "| B6-Spin2c | 7707_7724 | 0.906992022397699 | 0.00000000000206548856489924        | 0.0000001325504336651 |\n",
       "| B6-Plac1  | 2685_2700 | 0.904455919654248 | 0.00000000000300039119328826        | 0.0000001732920939552 |\n",
       "| B6-Radx   | 6953_6984 | 0.893612440637696 | 0.0000000000132744638434247         | 0.0000006969877917934 |\n",
       "| B6-Mageh1 | 7669_7712 | 0.883704124407908 | 0.0000000000452071335990651         | 0.0000021758381764287 |\n",
       "| B6-Mamld1 | 3564_3590 | 0.875678406557641 | 0.000000000112773665138544          | 0.0000050103170696726 |\n",
       "| B6-Mtcp1  | 3781_3787 | 0.868639701178409 | 0.000000000239087809262696          | 0.0000098634821826292 |\n",
       "| B6-Bex2   | 6789_6824 | 0.849973802897388 | 0.00000000144770841682809           | 0.0000557430474510211 |\n",
       "| B6-Mamld1 | 3563_3595 | 0.849073513747737 | 0.00000000156932653253319           | 0.0000566492549226582 |\n",
       "| B6-Mageh1 | 7665_7698 | 0.843959584998089 | 0.00000000245760498455503           | 0.0000834956837002662 |\n",
       "| B6-Mageh1 | 7666_7698 | 0.826871186299441 | 0.00000000987212757717115           | 0.0002715140649575645 |\n",
       "| B6-Rtl4   | 7239_7278 | 0.827762540273854 | 0.00000000921617454594764           | 0.0002715140649575645 |\n",
       "| B6-Rtl4   | 7278_7301 | 0.826904300483525 | 0.00000000984701185275487           | 0.0002715140649575645 |\n",
       "| B6-Scml2  | 8080_8107 | 0.828092930343741 | 0.00000000898337852743557           | 0.0002715140649575645 |\n",
       "| B6-Bex2   | 6820_6850 | 0.826167282987229 | 0.000000010420113784713             | 0.0002735587735485347 |\n",
       "| B6-Gm5127 | 5305_5322 | 0.825548136344252 | 0.0000000109250439974957            | 0.0002743444798440697 |\n",
       "| B6-Glra2  | 8240_8312 | 0.822080365702198 | 0.0000000141927008599609            | 0.0003415503030076382 |\n",
       "| B6-Tceal5 | 6795_6827 | 0.818647059042157 | 0.0000000182895666104137            | 0.0004225365415737435 |\n",
       "| B6-Mamld1 | 3574_3594 | 0.817341595303371 | 0.0000000201131723006651            | 0.0004467947830705245 |\n",
       "| B6-Mageh1 | 7664_7697 | 0.813370197456199 | 0.0000000267348466368486            | 0.0005718930258448690 |\n",
       "| B6-Tceal5 | 6820_6849 | 0.811193282672809 | 0.0000000311601759422474            | 0.0006427509649315757 |\n",
       "| B6-Glra2  | 8233_8280 | 0.806299987639483 | 0.0000000436593804866678            | 0.0008695217272683546 |\n",
       "| B6-Amot   | 7294_7331 | 0.805555331433593 | 0.0000000459206412292741            | 0.0008840718383861898 |\n",
       "| ... | ... | ... | ... | ... |\n",
       "| B6-Srpx | 529_564 | NA | NA | NA |\n",
       "| B6-Srpx | 529_566 | NA | NA | NA |\n",
       "| B6-Srpx | 529_567 | NA | NA | NA |\n",
       "| B6-Srpx | 529_568 | NA | NA | NA |\n",
       "| B6-Srpx | 529_569 | NA | NA | NA |\n",
       "| B6-Srpx | 529_570 | NA | NA | NA |\n",
       "| B6-Srpx | 529_571 | NA | NA | NA |\n",
       "| B6-Srpx | 529_572 | NA | NA | NA |\n",
       "| B6-Srpx | 529_573 | NA | NA | NA |\n",
       "| B6-Srpx | 529_574 | NA | NA | NA |\n",
       "| B6-Srpx | 529_575 | NA | NA | NA |\n",
       "| B6-Srpx | 529_576 | NA | NA | NA |\n",
       "| B6-Srpx | 529_577 | NA | NA | NA |\n",
       "| B6-Srpx | 529_578 | NA | NA | NA |\n",
       "| B6-Srpx | 529_579 | NA | NA | NA |\n",
       "| B6-Srpx | 529_580 | NA | NA | NA |\n",
       "| B6-Srpx | 529_581 | NA | NA | NA |\n",
       "| B6-Srpx | 529_582 | NA | NA | NA |\n",
       "| B6-Srpx | 529_583 | NA | NA | NA |\n",
       "| B6-Srpx | 529_587 | NA | NA | NA |\n",
       "| B6-Srpx | 529_588 | NA | NA | NA |\n",
       "| B6-Srpx | 529_589 | NA | NA | NA |\n",
       "| B6-Srpx | 529_590 | NA | NA | NA |\n",
       "| B6-Srpx | 529_591 | NA | NA | NA |\n",
       "| B6-Srpx | 529_592 | NA | NA | NA |\n",
       "| B6-Srpx | 529_593 | NA | NA | NA |\n",
       "| B6-Srpx | 529_594 | NA | NA | NA |\n",
       "| B6-Srpx | 529_595 | NA | NA | NA |\n",
       "| B6-Srpx | 529_596 | NA | NA | NA |\n",
       "| B6-Srpx | 529_597 | NA | NA | NA |\n",
       "\n"
      ],
      "text/plain": [
       "       gene      pos       cor              \n",
       "1      B6-Glra2  8249_8292 0.968185179192387\n",
       "2      B6-Glra2  8268_8303 0.968068227630585\n",
       "3      B6-Plac1  2659_2709 0.961775821072881\n",
       "4      B6-Glra2  8254_8273 0.933162300774762\n",
       "5      B6-Bex2   6795_6825 0.92566154770626 \n",
       "6      B6-Gm5127 5307_5322 0.923783152656952\n",
       "7      B6-Mamld1 3548_3578 0.922251527254222\n",
       "8      B6-Spin2c 7676_7733 0.922540938346215\n",
       "9      B6-Spin2c 7707_7724 0.906992022397699\n",
       "10     B6-Plac1  2685_2700 0.904455919654248\n",
       "11     B6-Radx   6953_6984 0.893612440637696\n",
       "12     B6-Mageh1 7669_7712 0.883704124407908\n",
       "13     B6-Mamld1 3564_3590 0.875678406557641\n",
       "14     B6-Mtcp1  3781_3787 0.868639701178409\n",
       "15     B6-Bex2   6789_6824 0.849973802897388\n",
       "16     B6-Mamld1 3563_3595 0.849073513747737\n",
       "17     B6-Mageh1 7665_7698 0.843959584998089\n",
       "18     B6-Mageh1 7666_7698 0.826871186299441\n",
       "19     B6-Rtl4   7239_7278 0.827762540273854\n",
       "20     B6-Rtl4   7278_7301 0.826904300483525\n",
       "21     B6-Scml2  8080_8107 0.828092930343741\n",
       "22     B6-Bex2   6820_6850 0.826167282987229\n",
       "23     B6-Gm5127 5305_5322 0.825548136344252\n",
       "24     B6-Glra2  8240_8312 0.822080365702198\n",
       "25     B6-Tceal5 6795_6827 0.818647059042157\n",
       "26     B6-Mamld1 3574_3594 0.817341595303371\n",
       "27     B6-Mageh1 7664_7697 0.813370197456199\n",
       "28     B6-Tceal5 6820_6849 0.811193282672809\n",
       "29     B6-Glra2  8233_8280 0.806299987639483\n",
       "30     B6-Amot   7294_7331 0.805555331433593\n",
       "...    ...       ...       ...              \n",
       "581901 B6-Srpx   529_564   NA               \n",
       "581902 B6-Srpx   529_566   NA               \n",
       "581903 B6-Srpx   529_567   NA               \n",
       "581904 B6-Srpx   529_568   NA               \n",
       "581905 B6-Srpx   529_569   NA               \n",
       "581906 B6-Srpx   529_570   NA               \n",
       "581907 B6-Srpx   529_571   NA               \n",
       "581908 B6-Srpx   529_572   NA               \n",
       "581909 B6-Srpx   529_573   NA               \n",
       "581910 B6-Srpx   529_574   NA               \n",
       "581911 B6-Srpx   529_575   NA               \n",
       "581912 B6-Srpx   529_576   NA               \n",
       "581913 B6-Srpx   529_577   NA               \n",
       "581914 B6-Srpx   529_578   NA               \n",
       "581915 B6-Srpx   529_579   NA               \n",
       "581916 B6-Srpx   529_580   NA               \n",
       "581917 B6-Srpx   529_581   NA               \n",
       "581918 B6-Srpx   529_582   NA               \n",
       "581919 B6-Srpx   529_583   NA               \n",
       "581920 B6-Srpx   529_587   NA               \n",
       "581921 B6-Srpx   529_588   NA               \n",
       "581922 B6-Srpx   529_589   NA               \n",
       "581923 B6-Srpx   529_590   NA               \n",
       "581924 B6-Srpx   529_591   NA               \n",
       "581925 B6-Srpx   529_592   NA               \n",
       "581926 B6-Srpx   529_593   NA               \n",
       "581927 B6-Srpx   529_594   NA               \n",
       "581928 B6-Srpx   529_595   NA               \n",
       "581929 B6-Srpx   529_596   NA               \n",
       "581930 B6-Srpx   529_597   NA               \n",
       "       pvalue                              fdr                  \n",
       "1      0.000000000000000000539749325587282 0.0000000000001642646\n",
       "2      0.000000000000000000568817790941828 0.0000000000001642646\n",
       "3      0.000000000000000007415057342704    0.0000000000014275592\n",
       "4      0.0000000000000203557355987037      0.0000000029391901078\n",
       "5      0.0000000000000906231368636915      0.0000000104681504085\n",
       "6      0.000000000000128544618644447       0.0000000122605370743\n",
       "7      0.000000000000169823823456154       0.0000000122605370743\n",
       "8      0.000000000000161189128738577       0.0000000122605370743\n",
       "9      0.00000000000206548856489924        0.0000001325504336651\n",
       "10     0.00000000000300039119328826        0.0000001732920939552\n",
       "11     0.0000000000132744638434247         0.0000006969877917934\n",
       "12     0.0000000000452071335990651         0.0000021758381764287\n",
       "13     0.000000000112773665138544          0.0000050103170696726\n",
       "14     0.000000000239087809262696          0.0000098634821826292\n",
       "15     0.00000000144770841682809           0.0000557430474510211\n",
       "16     0.00000000156932653253319           0.0000566492549226582\n",
       "17     0.00000000245760498455503           0.0000834956837002662\n",
       "18     0.00000000987212757717115           0.0002715140649575645\n",
       "19     0.00000000921617454594764           0.0002715140649575645\n",
       "20     0.00000000984701185275487           0.0002715140649575645\n",
       "21     0.00000000898337852743557           0.0002715140649575645\n",
       "22     0.000000010420113784713             0.0002735587735485347\n",
       "23     0.0000000109250439974957            0.0002743444798440697\n",
       "24     0.0000000141927008599609            0.0003415503030076382\n",
       "25     0.0000000182895666104137            0.0004225365415737435\n",
       "26     0.0000000201131723006651            0.0004467947830705245\n",
       "27     0.0000000267348466368486            0.0005718930258448690\n",
       "28     0.0000000311601759422474            0.0006427509649315757\n",
       "29     0.0000000436593804866678            0.0008695217272683546\n",
       "30     0.0000000459206412292741            0.0008840718383861898\n",
       "...    ...                                 ...                  \n",
       "581901 NA                                  NA                   \n",
       "581902 NA                                  NA                   \n",
       "581903 NA                                  NA                   \n",
       "581904 NA                                  NA                   \n",
       "581905 NA                                  NA                   \n",
       "581906 NA                                  NA                   \n",
       "581907 NA                                  NA                   \n",
       "581908 NA                                  NA                   \n",
       "581909 NA                                  NA                   \n",
       "581910 NA                                  NA                   \n",
       "581911 NA                                  NA                   \n",
       "581912 NA                                  NA                   \n",
       "581913 NA                                  NA                   \n",
       "581914 NA                                  NA                   \n",
       "581915 NA                                  NA                   \n",
       "581916 NA                                  NA                   \n",
       "581917 NA                                  NA                   \n",
       "581918 NA                                  NA                   \n",
       "581919 NA                                  NA                   \n",
       "581920 NA                                  NA                   \n",
       "581921 NA                                  NA                   \n",
       "581922 NA                                  NA                   \n",
       "581923 NA                                  NA                   \n",
       "581924 NA                                  NA                   \n",
       "581925 NA                                  NA                   \n",
       "581926 NA                                  NA                   \n",
       "581927 NA                                  NA                   \n",
       "581928 NA                                  NA                   \n",
       "581929 NA                                  NA                   \n",
       "581930 NA                                  NA                   "
      ]
     },
     "metadata": {},
     "output_type": "display_data"
    }
   ],
   "source": [
    "cor_random$fdr <- p.adjust(as.numeric(cor_random$pvalue), method = \"BH\")\n",
    "cor_random %>% arrange(fdr)"
   ]
  },
  {
   "cell_type": "code",
   "execution_count": 77,
   "metadata": {
    "vscode": {
     "languageId": "r"
    }
   },
   "outputs": [],
   "source": [
    "cor_random %>% write_tsv(\"/share/Data/hxie/project/202209/esc_xwliu/esc0615_version2/HiC_analysis/GADI/GADI_c5_res_new/c5_down_random_cor.tsv\", col_names = TRUE)"
   ]
  },
  {
   "cell_type": "code",
   "execution_count": 77,
   "metadata": {
    "vscode": {
     "languageId": "r"
    }
   },
   "outputs": [],
   "source": [
    "compare <- rbind(cor %>% mutate(type = \"GADI-gene\"),cor_random %>% mutate(type=\"Random DI-gene\"))\n",
    "compare$cor <- as.numeric(compare$cor)"
   ]
  },
  {
   "cell_type": "code",
   "execution_count": 78,
   "metadata": {
    "vscode": {
     "languageId": "r"
    }
   },
   "outputs": [
    {
     "name": "stderr",
     "output_type": "stream",
     "text": [
      "\n",
      "Attaching package: 'scales'\n",
      "\n",
      "\n",
      "The following object is masked from 'package:purrr':\n",
      "\n",
      "    discard\n",
      "\n",
      "\n",
      "The following object is masked from 'package:readr':\n",
      "\n",
      "    col_factor\n",
      "\n",
      "\n",
      "Warning message:\n",
      "\"\u001b[1m\u001b[22mRemoved 8730 rows containing non-finite values (`stat_bin()`).\"\n",
      "Warning message:\n",
      "\"\u001b[1m\u001b[22mRemoved 8730 rows containing non-finite values (`stat_bin()`).\"\n"
     ]
    },
    {
     "data": {
      "image/png": "[encoded data removed]",
      "text/plain": [
       "plot without title"
      ]
     },
     "metadata": {
      "image/png": {
       "height": 312.5,
       "width": 275
      }
     },
     "output_type": "display_data"
    }
   ],
   "source": [
    "library(scales)\n",
    "\n",
    "options(repr.plot.height = 2.5, repr.plot.width = 2.2,repr.plot.res = 250)\n",
    "p <- compare %>% ggplot(aes(x=cor, fill = type, color = type)) +\n",
    "  geom_histogram(color = \"black\",position=\"identity\", alpha = 0.55, bins = 25, linewidth = 0.25) +\n",
    "  scale_fill_manual(values = c(\"GADI-gene\" = \"#b2182b\", \"Random DI-gene\" = \"#e0e0e0\")) +\n",
    "    theme(legend.position = \"top\",\n",
    "  text = element_text(family=\"Arial\", size=8),\n",
    "  panel.border = element_blank(),\n",
    "  panel.grid.major = element_blank(),\n",
    "  panel.grid.minor = element_blank(),\n",
    "  panel.background = element_blank(),\n",
    "  axis.line = element_line(color=\"black\", linewidth = 0.35),\n",
    "  axis.ticks = element_line(color=\"black\", linewidth = 0.35),\n",
    "  axis.text = element_text(color=\"black\",size=8),\n",
    "  legend.key = element_rect(colour = NA),\n",
    "  legend.key.width = unit(0.4, \"cm\"),\n",
    "  legend.key.height = unit(0.4, \"cm\"),\n",
    "  axis.title=element_text(color=\"black\",size=8,face=\"plain\"),\n",
    "  ) + labs(fill = \"\") + xlab(\"Correlation\") + ylab(\"Counts\") + scale_y_continuous(labels = label_number(scale = 1e-3, suffix = \"k\"))\n",
    "p \n",
    "\n",
    "ggsave(\"/share/Data/hxie/project/202209/esc_xwliu/figures_0827/fig3/fig3L_random_GADI_cor.svg\", width = 2.2, height = 2.5, units = \"in\", dpi = 300)"
   ]
  },
  {
   "cell_type": "markdown",
   "metadata": {},
   "source": [
    "# Residual"
   ]
  },
  {
   "cell_type": "code",
   "execution_count": 79,
   "metadata": {
    "vscode": {
     "languageId": "r"
    }
   },
   "outputs": [],
   "source": [
    "calc_dynamic <-  function(gene, pos, sctRNAmat, di, pseudotime, correlation){\n",
    "    RNA_temp <- sctRNAmat[,gene]\n",
    "    if(correlation==\"pos\"){\n",
    "        GADI_temp <- DI_dynamic_mc[,pos]\n",
    "    }\n",
    "    else{\n",
    "        GADI_temp <- -DI_dynamic_mc[,pos]\n",
    "    }\n",
    "    tempData <- cbind(RNA_temp,pseudotime) %>% as.data.frame() \n",
    "    names(tempData) <- c(\"RNA\",\"GADI\",\"pseudotime\")\n",
    "    tempData <- tempData %>% gather(type,value,-pseudotime)\n",
    "    tempData[is.na(tempData)] <- 0\n",
    "\n",
    "    tempData <- tempData %>% group_by(type) %>% mutate(fitted_raw = predict(loess(value ~ pseudotime), se=T)$fit,fitted = (fitted_raw - min(fitted_raw))/(max(fitted_raw)-min(fitted_raw)),\n",
    "                                          high = fitted + qt(0.975,predict(loess(value ~ pseudotime), se=T)$df)*predict(loess(value ~ pseudotime), se=T)$se, high = (high - min(high))/(max(high)-min(high)),\n",
    "                                          low = fitted - qt(0.975,predict(loess(value ~ pseudotime), se=T)$df)*predict(loess(value ~ pseudotime), se=T)$se, low = (low - min(low))/(max(low)-min(low)))\n",
    "    print(\"Running...\")\n",
    "    return(tempData %>% mutate(gene =gene,pos=pos))\n",
    "}"
   ]
  },
  {
   "cell_type": "code",
   "execution_count": 83,
   "metadata": {
    "vscode": {
     "languageId": "r"
    }
   },
   "outputs": [],
   "source": [
    "gene <- \"B6-1700111N16Rik\"\n",
    "pos <- \"3500_3556\"\n",
    "RNA_temp <- sctRNAmat[metadata_mc %>% pull(cellname),gene]\n",
    "GADI_temp <- DI_dynamic_mc[,pos]\n",
    "pseudotime <- metadata_mc %>% pull(time1)"
   ]
  },
  {
   "cell_type": "code",
   "execution_count": 84,
   "metadata": {
    "vscode": {
     "languageId": "r"
    }
   },
   "outputs": [],
   "source": [
    "calc_dynamic <-  function(gene, pos, sctRNAmat, di, pseudotime, correlation){\n",
    "    RNA_temp <- sctRNAmat[,gene]\n",
    "    if(correlation==\"pos\"){\n",
    "        GADI_temp <- DI_dynamic_mc[,pos]\n",
    "    }\n",
    "    else{\n",
    "        GADI_temp <- -DI_dynamic_mc[,pos]\n",
    "    }\n",
    "    tempData <- cbind(RNA_temp,GADI_temp,pseudotime) %>% as.data.frame() \n",
    "    names(tempData) <- c(\"RNA\",\"GADI\",\"pseudotime\")\n",
    "    tempData <- tempData %>% gather(type,value,-pseudotime)\n",
    "    tempData[is.na(tempData)] <- 0\n",
    "\n",
    "    tempData <- tempData %>% group_by(type) %>% mutate(fitted_raw = predict(loess(value ~ pseudotime), se=T)$fit,fitted = (fitted_raw - min(fitted_raw))/(max(fitted_raw)-min(fitted_raw)),\n",
    "                                          high = fitted + qt(0.975,predict(loess(value ~ pseudotime), se=T)$df)*predict(loess(value ~ pseudotime), se=T)$se, high = (high - min(high))/(max(high)-min(high)),\n",
    "                                          low = fitted - qt(0.975,predict(loess(value ~ pseudotime), se=T)$df)*predict(loess(value ~ pseudotime), se=T)$se, low = (low - min(low))/(max(low)-min(low)))\n",
    "    print(\"Running...\")\n",
    "    return(tempData %>% mutate(gene =gene,pos=pos))\n",
    "}"
   ]
  },
  {
   "cell_type": "code",
   "execution_count": 85,
   "metadata": {
    "vscode": {
     "languageId": "r"
    }
   },
   "outputs": [
    {
     "name": "stdout",
     "output_type": "stream",
     "text": [
      "[1] \"Running...\"\n"
     ]
    },
    {
     "data": {
      "text/html": [
       "<table class=\"dataframe\">\n",
       "<caption>A grouped_df: 6 x 9</caption>\n",
       "<thead>\n",
       "\t<tr><th scope=col>pseudotime</th><th scope=col>type</th><th scope=col>value</th><th scope=col>fitted_raw</th><th scope=col>fitted</th><th scope=col>high</th><th scope=col>low</th><th scope=col>gene</th><th scope=col>pos</th></tr>\n",
       "\t<tr><th scope=col>&lt;dbl&gt;</th><th scope=col>&lt;chr&gt;</th><th scope=col>&lt;dbl&gt;</th><th scope=col>&lt;dbl&gt;</th><th scope=col>&lt;dbl&gt;</th><th scope=col>&lt;dbl&gt;</th><th scope=col>&lt;dbl&gt;</th><th scope=col>&lt;chr&gt;</th><th scope=col>&lt;chr&gt;</th></tr>\n",
       "</thead>\n",
       "<tbody>\n",
       "\t<tr><td> 4.766906</td><td>RNA</td><td>0</td><td> 0.00010631538</td><td>0.13009380</td><td>0.13480678</td><td>0.12537809</td><td>B6-1700111N16Rik</td><td>3500_3556</td></tr>\n",
       "\t<tr><td> 9.828986</td><td>RNA</td><td>0</td><td>-0.00010932914</td><td>0.06426788</td><td>0.06510430</td><td>0.06343097</td><td>B6-1700111N16Rik</td><td>3500_3556</td></tr>\n",
       "\t<tr><td> 7.971831</td><td>RNA</td><td>0</td><td>-0.00003941594</td><td>0.08560902</td><td>0.08729655</td><td>0.08392052</td><td>B6-1700111N16Rik</td><td>3500_3556</td></tr>\n",
       "\t<tr><td>18.308531</td><td>RNA</td><td>0</td><td>-0.00031986953</td><td>0.00000000</td><td>0.00000000</td><td>0.00000000</td><td>B6-1700111N16Rik</td><td>3500_3556</td></tr>\n",
       "\t<tr><td>16.994350</td><td>RNA</td><td>0</td><td>-0.00026939960</td><td>0.01540605</td><td>0.01553422</td><td>0.01527780</td><td>B6-1700111N16Rik</td><td>3500_3556</td></tr>\n",
       "\t<tr><td>14.711644</td><td>RNA</td><td>0</td><td>-0.00019824060</td><td>0.03712747</td><td>0.03748961</td><td>0.03676513</td><td>B6-1700111N16Rik</td><td>3500_3556</td></tr>\n",
       "</tbody>\n",
       "</table>\n"
      ],
      "text/latex": [
       "A grouped\\_df: 6 x 9\n",
       "\\begin{tabular}{lllllllll}\n",
       " pseudotime & type & value & fitted\\_raw & fitted & high & low & gene & pos\\\\\n",
       " <dbl> & <chr> & <dbl> & <dbl> & <dbl> & <dbl> & <dbl> & <chr> & <chr>\\\\\n",
       "\\hline\n",
       "\t  4.766906 & RNA & 0 &  0.00010631538 & 0.13009380 & 0.13480678 & 0.12537809 & B6-1700111N16Rik & 3500\\_3556\\\\\n",
       "\t  9.828986 & RNA & 0 & -0.00010932914 & 0.06426788 & 0.06510430 & 0.06343097 & B6-1700111N16Rik & 3500\\_3556\\\\\n",
       "\t  7.971831 & RNA & 0 & -0.00003941594 & 0.08560902 & 0.08729655 & 0.08392052 & B6-1700111N16Rik & 3500\\_3556\\\\\n",
       "\t 18.308531 & RNA & 0 & -0.00031986953 & 0.00000000 & 0.00000000 & 0.00000000 & B6-1700111N16Rik & 3500\\_3556\\\\\n",
       "\t 16.994350 & RNA & 0 & -0.00026939960 & 0.01540605 & 0.01553422 & 0.01527780 & B6-1700111N16Rik & 3500\\_3556\\\\\n",
       "\t 14.711644 & RNA & 0 & -0.00019824060 & 0.03712747 & 0.03748961 & 0.03676513 & B6-1700111N16Rik & 3500\\_3556\\\\\n",
       "\\end{tabular}\n"
      ],
      "text/markdown": [
       "\n",
       "A grouped_df: 6 x 9\n",
       "\n",
       "| pseudotime &lt;dbl&gt; | type &lt;chr&gt; | value &lt;dbl&gt; | fitted_raw &lt;dbl&gt; | fitted &lt;dbl&gt; | high &lt;dbl&gt; | low &lt;dbl&gt; | gene &lt;chr&gt; | pos &lt;chr&gt; |\n",
       "|---|---|---|---|---|---|---|---|---|\n",
       "|  4.766906 | RNA | 0 |  0.00010631538 | 0.13009380 | 0.13480678 | 0.12537809 | B6-1700111N16Rik | 3500_3556 |\n",
       "|  9.828986 | RNA | 0 | -0.00010932914 | 0.06426788 | 0.06510430 | 0.06343097 | B6-1700111N16Rik | 3500_3556 |\n",
       "|  7.971831 | RNA | 0 | -0.00003941594 | 0.08560902 | 0.08729655 | 0.08392052 | B6-1700111N16Rik | 3500_3556 |\n",
       "| 18.308531 | RNA | 0 | -0.00031986953 | 0.00000000 | 0.00000000 | 0.00000000 | B6-1700111N16Rik | 3500_3556 |\n",
       "| 16.994350 | RNA | 0 | -0.00026939960 | 0.01540605 | 0.01553422 | 0.01527780 | B6-1700111N16Rik | 3500_3556 |\n",
       "| 14.711644 | RNA | 0 | -0.00019824060 | 0.03712747 | 0.03748961 | 0.03676513 | B6-1700111N16Rik | 3500_3556 |\n",
       "\n"
      ],
      "text/plain": [
       "  pseudotime type value fitted_raw     fitted     high       low       \n",
       "1  4.766906  RNA  0      0.00010631538 0.13009380 0.13480678 0.12537809\n",
       "2  9.828986  RNA  0     -0.00010932914 0.06426788 0.06510430 0.06343097\n",
       "3  7.971831  RNA  0     -0.00003941594 0.08560902 0.08729655 0.08392052\n",
       "4 18.308531  RNA  0     -0.00031986953 0.00000000 0.00000000 0.00000000\n",
       "5 16.994350  RNA  0     -0.00026939960 0.01540605 0.01553422 0.01527780\n",
       "6 14.711644  RNA  0     -0.00019824060 0.03712747 0.03748961 0.03676513\n",
       "  gene             pos      \n",
       "1 B6-1700111N16Rik 3500_3556\n",
       "2 B6-1700111N16Rik 3500_3556\n",
       "3 B6-1700111N16Rik 3500_3556\n",
       "4 B6-1700111N16Rik 3500_3556\n",
       "5 B6-1700111N16Rik 3500_3556\n",
       "6 B6-1700111N16Rik 3500_3556"
      ]
     },
     "metadata": {},
     "output_type": "display_data"
    }
   ],
   "source": [
    "head(calc_dynamic(gene = gene, pos = pos, sctRNAmat = sctRNAmat[metadata_mc %>% pull(cellname),], di = DI_dynamic_mc, pseudotime, correlation = \"pos\"))"
   ]
  },
  {
   "cell_type": "code",
   "execution_count": 86,
   "metadata": {
    "vscode": {
     "languageId": "r"
    }
   },
   "outputs": [],
   "source": [
    "cor_residual <- cor %>% filter(fdr < 0.05)"
   ]
  },
  {
   "cell_type": "code",
   "execution_count": 87,
   "metadata": {
    "vscode": {
     "languageId": "r"
    }
   },
   "outputs": [
    {
     "data": {
      "text/html": [
       "<style>\n",
       ".list-inline {list-style: none; margin:0; padding: 0}\n",
       ".list-inline>li {display: inline-block}\n",
       ".list-inline>li:not(:last-child)::after {content: \"\\00b7\"; padding: 0 .5ex}\n",
       "</style>\n",
       "<ol class=list-inline><li>68458</li><li>5</li></ol>\n"
      ],
      "text/latex": [
       "\\begin{enumerate*}\n",
       "\\item 68458\n",
       "\\item 5\n",
       "\\end{enumerate*}\n"
      ],
      "text/markdown": [
       "1. 68458\n",
       "2. 5\n",
       "\n",
       "\n"
      ],
      "text/plain": [
       "[1] 68458     5"
      ]
     },
     "metadata": {},
     "output_type": "display_data"
    }
   ],
   "source": [
    "dim(cor_residual)"
   ]
  },
  {
   "cell_type": "code",
   "execution_count": 88,
   "metadata": {
    "vscode": {
     "languageId": "r"
    }
   },
   "outputs": [
    {
     "data": {
      "text/html": [
       "<table class=\"dataframe\">\n",
       "<caption>A data.frame: 6 x 5</caption>\n",
       "<thead>\n",
       "\t<tr><th></th><th scope=col>gene</th><th scope=col>pos</th><th scope=col>cor</th><th scope=col>pvalue</th><th scope=col>fdr</th></tr>\n",
       "\t<tr><th></th><th scope=col>&lt;chr&gt;</th><th scope=col>&lt;chr&gt;</th><th scope=col>&lt;dbl&gt;</th><th scope=col>&lt;chr&gt;</th><th scope=col>&lt;dbl&gt;</th></tr>\n",
       "</thead>\n",
       "<tbody>\n",
       "\t<tr><th scope=row>1</th><td>B6-1700111N16Rik</td><td>3500_3556</td><td>0.4984765</td><td>0.00431601092332749  </td><td>0.041306702</td></tr>\n",
       "\t<tr><th scope=row>2</th><td>B6-1700111N16Rik</td><td>3500_3560</td><td>0.6753038</td><td>0.0000307505106302112</td><td>0.002298459</td></tr>\n",
       "\t<tr><th scope=row>3</th><td>B6-1700111N16Rik</td><td>3501_3556</td><td>0.5626023</td><td>0.000986015812463697 </td><td>0.016925441</td></tr>\n",
       "\t<tr><th scope=row>4</th><td>B6-1700111N16Rik</td><td>3501_3558</td><td>0.5265946</td><td>0.00234012055915692  </td><td>0.028470519</td></tr>\n",
       "\t<tr><th scope=row>5</th><td>B6-1700111N16Rik</td><td>3511_3556</td><td>0.5188335</td><td>0.00278528138143048  </td><td>0.031663210</td></tr>\n",
       "\t<tr><th scope=row>6</th><td>B6-1700111N16Rik</td><td>3511_3557</td><td>0.5479021</td><td>0.0014196393424452   </td><td>0.021035515</td></tr>\n",
       "</tbody>\n",
       "</table>\n"
      ],
      "text/latex": [
       "A data.frame: 6 x 5\n",
       "\\begin{tabular}{r|lllll}\n",
       "  & gene & pos & cor & pvalue & fdr\\\\\n",
       "  & <chr> & <chr> & <dbl> & <chr> & <dbl>\\\\\n",
       "\\hline\n",
       "\t1 & B6-1700111N16Rik & 3500\\_3556 & 0.4984765 & 0.00431601092332749   & 0.041306702\\\\\n",
       "\t2 & B6-1700111N16Rik & 3500\\_3560 & 0.6753038 & 0.0000307505106302112 & 0.002298459\\\\\n",
       "\t3 & B6-1700111N16Rik & 3501\\_3556 & 0.5626023 & 0.000986015812463697  & 0.016925441\\\\\n",
       "\t4 & B6-1700111N16Rik & 3501\\_3558 & 0.5265946 & 0.00234012055915692   & 0.028470519\\\\\n",
       "\t5 & B6-1700111N16Rik & 3511\\_3556 & 0.5188335 & 0.00278528138143048   & 0.031663210\\\\\n",
       "\t6 & B6-1700111N16Rik & 3511\\_3557 & 0.5479021 & 0.0014196393424452    & 0.021035515\\\\\n",
       "\\end{tabular}\n"
      ],
      "text/markdown": [
       "\n",
       "A data.frame: 6 x 5\n",
       "\n",
       "| <!--/--> | gene &lt;chr&gt; | pos &lt;chr&gt; | cor &lt;dbl&gt; | pvalue &lt;chr&gt; | fdr &lt;dbl&gt; |\n",
       "|---|---|---|---|---|---|\n",
       "| 1 | B6-1700111N16Rik | 3500_3556 | 0.4984765 | 0.00431601092332749   | 0.041306702 |\n",
       "| 2 | B6-1700111N16Rik | 3500_3560 | 0.6753038 | 0.0000307505106302112 | 0.002298459 |\n",
       "| 3 | B6-1700111N16Rik | 3501_3556 | 0.5626023 | 0.000986015812463697  | 0.016925441 |\n",
       "| 4 | B6-1700111N16Rik | 3501_3558 | 0.5265946 | 0.00234012055915692   | 0.028470519 |\n",
       "| 5 | B6-1700111N16Rik | 3511_3556 | 0.5188335 | 0.00278528138143048   | 0.031663210 |\n",
       "| 6 | B6-1700111N16Rik | 3511_3557 | 0.5479021 | 0.0014196393424452    | 0.021035515 |\n",
       "\n"
      ],
      "text/plain": [
       "  gene             pos       cor       pvalue                fdr        \n",
       "1 B6-1700111N16Rik 3500_3556 0.4984765 0.00431601092332749   0.041306702\n",
       "2 B6-1700111N16Rik 3500_3560 0.6753038 0.0000307505106302112 0.002298459\n",
       "3 B6-1700111N16Rik 3501_3556 0.5626023 0.000986015812463697  0.016925441\n",
       "4 B6-1700111N16Rik 3501_3558 0.5265946 0.00234012055915692   0.028470519\n",
       "5 B6-1700111N16Rik 3511_3556 0.5188335 0.00278528138143048   0.031663210\n",
       "6 B6-1700111N16Rik 3511_3557 0.5479021 0.0014196393424452    0.021035515"
      ]
     },
     "metadata": {},
     "output_type": "display_data"
    }
   ],
   "source": [
    "head(cor_residual)"
   ]
  },
  {
   "cell_type": "code",
   "execution_count": 89,
   "metadata": {
    "vscode": {
     "languageId": "r"
    }
   },
   "outputs": [
    {
     "data": {
      "text/plain": [
       "Time difference of 17.1098 mins"
      ]
     },
     "metadata": {},
     "output_type": "display_data"
    }
   ],
   "source": [
    "start = Sys.time()\n",
    "registerDoParallel(40)\n",
    "B6Xi_neg <- foreach(gene = cor_residual %>% filter(cor < 0) %>% pull(gene), pos = cor_residual %>% filter(cor < 0) %>% pull(pos),.combine = \"rbind\", .errorhandling = \"stop\") %dopar% {\n",
    "    calc_dynamic(gene,pos,sctRNAmat[metadata_mc %>% pull(cellname),],DI_dynamic_mc,pseudotime,correlation=\"neg\") %>% mutate(gadi = paste0(pos,\"_\",\"neg\"))\n",
    "}\n",
    "B6Xi_pos <- foreach(gene = cor_residual %>% filter(cor > 0) %>% pull(gene), pos = cor_residual %>% filter(cor > 0) %>% pull(pos),.combine = \"rbind\", .errorhandling = \"stop\") %dopar% {\n",
    "        calc_dynamic(gene,pos,sctRNAmat[metadata_mc %>% pull(cellname),],DI_dynamic_mc,pseudotime,correlation=\"pos\") %>% mutate(gadi = paste0(pos,\"_\",\"pos\"))\n",
    "}\n",
    "residuals_dynamic <- rbind(B6Xi_neg,B6Xi_pos)\n",
    "end = Sys.time()\n",
    "end -start"
   ]
  },
  {
   "cell_type": "code",
   "execution_count": 90,
   "metadata": {
    "vscode": {
     "languageId": "r"
    }
   },
   "outputs": [
    {
     "name": "stderr",
     "output_type": "stream",
     "text": [
      "\u001b[1m\u001b[22m`summarise()` has grouped output by 'gene'. You can override using the\n",
      "`.groups` argument.\n"
     ]
    }
   ],
   "source": [
    "fdr_threshold <- 0.05\n",
    "temp <- residuals_dynamic %>%  group_by(gene,gadi,type) %>% mutate(norm_value = (value - min(fitted_raw))/(max(fitted_raw) - min(fitted_raw))) %>% \n",
    "    select(-c(value,fitted_raw,fitted,high,low)) %>% group_by(type) %>% mutate(id = row_number()) %>% spread(type,norm_value)  %>% mutate(residual = GADI - RNA) %>% na.omit()  %>%\n",
    "    group_by(gene,gadi) \n",
    "testres <- temp %>% group_by(gene,gadi) %>% summarise(residual = mean(GADI-RNA),pv = t.test(GADI-RNA,mu=0)$p.value,t=t.test(GADI-RNA,mu=0)$statistic) %>% ungroup()\n",
    "#testres = temp %>% group_by(gene,gadi) %>% summarise(residual = mean(GADI-RNA),pv = wilcox.test(GADI-RNA,mu=0)$p.value,t=t.test(GADI-RNA,mu=0)$statistic) %>% ungroup()\n",
    "testres <- testres  %>% mutate(fdr = p.adjust(pv,method=\"BH\")) %>% \n",
    "    mutate(type = ifelse(sign(t)==1,\"early\",\"lag\"),sigtype = ifelse(fdr < fdr_threshold,\"sig\",\"not\")) "
   ]
  },
  {
   "cell_type": "code",
   "execution_count": 92,
   "metadata": {
    "vscode": {
     "languageId": "r"
    }
   },
   "outputs": [],
   "source": [
    "testres <- testres %>% mutate(start1 = str_split_fixed(gadi, \"_\", 3)[,1], start2 = str_split_fixed(gadi,\"_\",3)[,2], cor = str_split_fixed(gadi,\"_\",3)[,3])"
   ]
  },
  {
   "cell_type": "code",
   "execution_count": 93,
   "metadata": {
    "vscode": {
     "languageId": "r"
    }
   },
   "outputs": [
    {
     "data": {
      "text/html": [
       "<table class=\"dataframe\">\n",
       "<caption>A tibble: 6 x 11</caption>\n",
       "<thead>\n",
       "\t<tr><th scope=col>gene</th><th scope=col>gadi</th><th scope=col>residual</th><th scope=col>pv</th><th scope=col>t</th><th scope=col>fdr</th><th scope=col>type</th><th scope=col>sigtype</th><th scope=col>start1</th><th scope=col>start2</th><th scope=col>cor</th></tr>\n",
       "\t<tr><th scope=col>&lt;chr&gt;</th><th scope=col>&lt;chr&gt;</th><th scope=col>&lt;dbl&gt;</th><th scope=col>&lt;dbl&gt;</th><th scope=col>&lt;dbl&gt;</th><th scope=col>&lt;dbl&gt;</th><th scope=col>&lt;chr&gt;</th><th scope=col>&lt;chr&gt;</th><th scope=col>&lt;chr&gt;</th><th scope=col>&lt;chr&gt;</th><th scope=col>&lt;chr&gt;</th></tr>\n",
       "</thead>\n",
       "<tbody>\n",
       "\t<tr><td>B6-1700111N16Rik</td><td>3500_3556_pos</td><td>-0.164299205</td><td>0.4829898</td><td>-0.710322632</td><td>0.7353134</td><td>lag  </td><td>not</td><td>3500</td><td>3556</td><td>pos</td></tr>\n",
       "\t<tr><td>B6-1700111N16Rik</td><td>3500_3560_pos</td><td>-0.114475098</td><td>0.5557704</td><td>-0.595810896</td><td>0.7850070</td><td>lag  </td><td>not</td><td>3500</td><td>3560</td><td>pos</td></tr>\n",
       "\t<tr><td>B6-1700111N16Rik</td><td>3501_3556_pos</td><td> 0.002475133</td><td>0.9921424</td><td> 0.009930552</td><td>0.9970799</td><td>early</td><td>not</td><td>3501</td><td>3556</td><td>pos</td></tr>\n",
       "\t<tr><td>B6-1700111N16Rik</td><td>3501_3558_pos</td><td>-0.058973783</td><td>0.7892333</td><td>-0.269705638</td><td>0.9146507</td><td>lag  </td><td>not</td><td>3501</td><td>3558</td><td>pos</td></tr>\n",
       "\t<tr><td>B6-1700111N16Rik</td><td>3511_3556_pos</td><td> 0.162361687</td><td>0.5244185</td><td> 0.644078811</td><td>0.7637459</td><td>early</td><td>not</td><td>3511</td><td>3556</td><td>pos</td></tr>\n",
       "\t<tr><td>B6-1700111N16Rik</td><td>3511_3557_pos</td><td> 0.255901521</td><td>0.3337786</td><td> 0.982361116</td><td>0.6100439</td><td>early</td><td>not</td><td>3511</td><td>3557</td><td>pos</td></tr>\n",
       "</tbody>\n",
       "</table>\n"
      ],
      "text/latex": [
       "A tibble: 6 x 11\n",
       "\\begin{tabular}{lllllllllll}\n",
       " gene & gadi & residual & pv & t & fdr & type & sigtype & start1 & start2 & cor\\\\\n",
       " <chr> & <chr> & <dbl> & <dbl> & <dbl> & <dbl> & <chr> & <chr> & <chr> & <chr> & <chr>\\\\\n",
       "\\hline\n",
       "\t B6-1700111N16Rik & 3500\\_3556\\_pos & -0.164299205 & 0.4829898 & -0.710322632 & 0.7353134 & lag   & not & 3500 & 3556 & pos\\\\\n",
       "\t B6-1700111N16Rik & 3500\\_3560\\_pos & -0.114475098 & 0.5557704 & -0.595810896 & 0.7850070 & lag   & not & 3500 & 3560 & pos\\\\\n",
       "\t B6-1700111N16Rik & 3501\\_3556\\_pos &  0.002475133 & 0.9921424 &  0.009930552 & 0.9970799 & early & not & 3501 & 3556 & pos\\\\\n",
       "\t B6-1700111N16Rik & 3501\\_3558\\_pos & -0.058973783 & 0.7892333 & -0.269705638 & 0.9146507 & lag   & not & 3501 & 3558 & pos\\\\\n",
       "\t B6-1700111N16Rik & 3511\\_3556\\_pos &  0.162361687 & 0.5244185 &  0.644078811 & 0.7637459 & early & not & 3511 & 3556 & pos\\\\\n",
       "\t B6-1700111N16Rik & 3511\\_3557\\_pos &  0.255901521 & 0.3337786 &  0.982361116 & 0.6100439 & early & not & 3511 & 3557 & pos\\\\\n",
       "\\end{tabular}\n"
      ],
      "text/markdown": [
       "\n",
       "A tibble: 6 x 11\n",
       "\n",
       "| gene &lt;chr&gt; | gadi &lt;chr&gt; | residual &lt;dbl&gt; | pv &lt;dbl&gt; | t &lt;dbl&gt; | fdr &lt;dbl&gt; | type &lt;chr&gt; | sigtype &lt;chr&gt; | start1 &lt;chr&gt; | start2 &lt;chr&gt; | cor &lt;chr&gt; |\n",
       "|---|---|---|---|---|---|---|---|---|---|---|\n",
       "| B6-1700111N16Rik | 3500_3556_pos | -0.164299205 | 0.4829898 | -0.710322632 | 0.7353134 | lag   | not | 3500 | 3556 | pos |\n",
       "| B6-1700111N16Rik | 3500_3560_pos | -0.114475098 | 0.5557704 | -0.595810896 | 0.7850070 | lag   | not | 3500 | 3560 | pos |\n",
       "| B6-1700111N16Rik | 3501_3556_pos |  0.002475133 | 0.9921424 |  0.009930552 | 0.9970799 | early | not | 3501 | 3556 | pos |\n",
       "| B6-1700111N16Rik | 3501_3558_pos | -0.058973783 | 0.7892333 | -0.269705638 | 0.9146507 | lag   | not | 3501 | 3558 | pos |\n",
       "| B6-1700111N16Rik | 3511_3556_pos |  0.162361687 | 0.5244185 |  0.644078811 | 0.7637459 | early | not | 3511 | 3556 | pos |\n",
       "| B6-1700111N16Rik | 3511_3557_pos |  0.255901521 | 0.3337786 |  0.982361116 | 0.6100439 | early | not | 3511 | 3557 | pos |\n",
       "\n"
      ],
      "text/plain": [
       "  gene             gadi          residual     pv        t            fdr      \n",
       "1 B6-1700111N16Rik 3500_3556_pos -0.164299205 0.4829898 -0.710322632 0.7353134\n",
       "2 B6-1700111N16Rik 3500_3560_pos -0.114475098 0.5557704 -0.595810896 0.7850070\n",
       "3 B6-1700111N16Rik 3501_3556_pos  0.002475133 0.9921424  0.009930552 0.9970799\n",
       "4 B6-1700111N16Rik 3501_3558_pos -0.058973783 0.7892333 -0.269705638 0.9146507\n",
       "5 B6-1700111N16Rik 3511_3556_pos  0.162361687 0.5244185  0.644078811 0.7637459\n",
       "6 B6-1700111N16Rik 3511_3557_pos  0.255901521 0.3337786  0.982361116 0.6100439\n",
       "  type  sigtype start1 start2 cor\n",
       "1 lag   not     3500   3556   pos\n",
       "2 lag   not     3500   3560   pos\n",
       "3 early not     3501   3556   pos\n",
       "4 lag   not     3501   3558   pos\n",
       "5 early not     3511   3556   pos\n",
       "6 early not     3511   3557   pos"
      ]
     },
     "metadata": {},
     "output_type": "display_data"
    }
   ],
   "source": [
    "head(testres)"
   ]
  },
  {
   "cell_type": "code",
   "execution_count": 94,
   "metadata": {
    "vscode": {
     "languageId": "r"
    }
   },
   "outputs": [
    {
     "name": "stdout",
     "output_type": "stream",
     "text": [
      "[1] \"Total Tested GADIs: 68458\"\n",
      "[1] \"Residual > 0 GADIs: 47001\"\n",
      "[1] \"Residual < 0 GADIs: 21457\"\n",
      "[1] \"Residual > 0 Ratio = 0.686566946156768\"\n"
     ]
    }
   ],
   "source": [
    "total <- testres %>% dim()\n",
    "posnum <- testres %>% filter(residual > 0) %>% dim()\n",
    "negnum <- testres %>% filter(residual < 0) %>% dim()\n",
    "print(paste0(\"Total Tested GADIs: \",total[1]))\n",
    "print(paste0(\"Residual > 0 GADIs: \",posnum[1]))\n",
    "print(paste0(\"Residual < 0 GADIs: \",negnum[1]))\n",
    "print(paste0(\"Residual > 0 Ratio = \",posnum[1]/total[1]))"
   ]
  },
  {
   "cell_type": "code",
   "execution_count": 95,
   "metadata": {
    "vscode": {
     "languageId": "r"
    }
   },
   "outputs": [
    {
     "data": {
      "text/html": [
       "337"
      ],
      "text/latex": [
       "337"
      ],
      "text/markdown": [
       "337"
      ],
      "text/plain": [
       "[1] 337"
      ]
     },
     "metadata": {},
     "output_type": "display_data"
    }
   ],
   "source": [
    "testres %>% pull(gene) %>% unique() %>% length()"
   ]
  },
  {
   "cell_type": "code",
   "execution_count": 96,
   "metadata": {
    "vscode": {
     "languageId": "r"
    }
   },
   "outputs": [
    {
     "data": {
      "text/html": [
       "<table class=\"dataframe\">\n",
       "<caption>A tibble: 2 x 2</caption>\n",
       "<thead>\n",
       "\t<tr><th scope=col>sigtype</th><th scope=col>count</th></tr>\n",
       "\t<tr><th scope=col>&lt;chr&gt;</th><th scope=col>&lt;int&gt;</th></tr>\n",
       "</thead>\n",
       "<tbody>\n",
       "\t<tr><td>not</td><td>60866</td></tr>\n",
       "\t<tr><td>sig</td><td> 7592</td></tr>\n",
       "</tbody>\n",
       "</table>\n"
      ],
      "text/latex": [
       "A tibble: 2 x 2\n",
       "\\begin{tabular}{ll}\n",
       " sigtype & count\\\\\n",
       " <chr> & <int>\\\\\n",
       "\\hline\n",
       "\t not & 60866\\\\\n",
       "\t sig &  7592\\\\\n",
       "\\end{tabular}\n"
      ],
      "text/markdown": [
       "\n",
       "A tibble: 2 x 2\n",
       "\n",
       "| sigtype &lt;chr&gt; | count &lt;int&gt; |\n",
       "|---|---|\n",
       "| not | 60866 |\n",
       "| sig |  7592 |\n",
       "\n"
      ],
      "text/plain": [
       "  sigtype count\n",
       "1 not     60866\n",
       "2 sig      7592"
      ]
     },
     "metadata": {},
     "output_type": "display_data"
    }
   ],
   "source": [
    "testres %>% group_by(sigtype) %>% summarise(count = n())"
   ]
  },
  {
   "cell_type": "code",
   "execution_count": 97,
   "metadata": {
    "vscode": {
     "languageId": "r"
    }
   },
   "outputs": [
    {
     "name": "stderr",
     "output_type": "stream",
     "text": [
      "\u001b[1m\u001b[22m`summarise()` has grouped output by 'sigtype'. You can override using the\n",
      "`.groups` argument.\n"
     ]
    },
    {
     "data": {
      "text/html": [
       "<table class=\"dataframe\">\n",
       "<caption>A grouped_df: 4 x 3</caption>\n",
       "<thead>\n",
       "\t<tr><th scope=col>sigtype</th><th scope=col>type</th><th scope=col>count</th></tr>\n",
       "\t<tr><th scope=col>&lt;chr&gt;</th><th scope=col>&lt;chr&gt;</th><th scope=col>&lt;int&gt;</th></tr>\n",
       "</thead>\n",
       "<tbody>\n",
       "\t<tr><td>not</td><td>early</td><td>39914</td></tr>\n",
       "\t<tr><td>not</td><td>lag  </td><td>20952</td></tr>\n",
       "\t<tr><td>sig</td><td>early</td><td> 7087</td></tr>\n",
       "\t<tr><td>sig</td><td>lag  </td><td>  505</td></tr>\n",
       "</tbody>\n",
       "</table>\n"
      ],
      "text/latex": [
       "A grouped\\_df: 4 x 3\n",
       "\\begin{tabular}{lll}\n",
       " sigtype & type & count\\\\\n",
       " <chr> & <chr> & <int>\\\\\n",
       "\\hline\n",
       "\t not & early & 39914\\\\\n",
       "\t not & lag   & 20952\\\\\n",
       "\t sig & early &  7087\\\\\n",
       "\t sig & lag   &   505\\\\\n",
       "\\end{tabular}\n"
      ],
      "text/markdown": [
       "\n",
       "A grouped_df: 4 x 3\n",
       "\n",
       "| sigtype &lt;chr&gt; | type &lt;chr&gt; | count &lt;int&gt; |\n",
       "|---|---|---|\n",
       "| not | early | 39914 |\n",
       "| not | lag   | 20952 |\n",
       "| sig | early |  7087 |\n",
       "| sig | lag   |   505 |\n",
       "\n"
      ],
      "text/plain": [
       "  sigtype type  count\n",
       "1 not     early 39914\n",
       "2 not     lag   20952\n",
       "3 sig     early  7087\n",
       "4 sig     lag     505"
      ]
     },
     "metadata": {},
     "output_type": "display_data"
    }
   ],
   "source": [
    "testres %>% group_by(sigtype, type) %>% summarise(count = n())"
   ]
  },
  {
   "cell_type": "code",
   "execution_count": 1,
   "metadata": {
    "vscode": {
     "languageId": "r"
    }
   },
   "outputs": [
    {
     "data": {
      "text/html": [
       "0.103523328172018"
      ],
      "text/latex": [
       "0.103523328172018"
      ],
      "text/markdown": [
       "0.103523328172018"
      ],
      "text/plain": [
       "[1] 0.1035233"
      ]
     },
     "metadata": {},
     "output_type": "display_data"
    }
   ],
   "source": [
    "7087/68458"
   ]
  },
  {
   "cell_type": "code",
   "execution_count": 99,
   "metadata": {
    "vscode": {
     "languageId": "r"
    }
   },
   "outputs": [
    {
     "data": {
      "text/html": [
       "0.00737678576645534"
      ],
      "text/latex": [
       "0.00737678576645534"
      ],
      "text/markdown": [
       "0.00737678576645534"
      ],
      "text/plain": [
       "[1] 0.007376786"
      ]
     },
     "metadata": {},
     "output_type": "display_data"
    }
   ],
   "source": [
    "505/68458"
   ]
  },
  {
   "cell_type": "code",
   "execution_count": 100,
   "metadata": {
    "vscode": {
     "languageId": "r"
    }
   },
   "outputs": [],
   "source": [
    "testres %>% write_csv('/share/Data/hxie/project/202209/esc_xwliu/esc0615_version2/HiC_analysis/GADI/GADI_c5_res_new/c5_down_residual.csv')"
   ]
  },
  {
   "cell_type": "code",
   "execution_count": 4,
   "metadata": {
    "vscode": {
     "languageId": "r"
    }
   },
   "outputs": [
    {
     "name": "stderr",
     "output_type": "stream",
     "text": [
      "\u001b[1mRows: \u001b[22m\u001b[34m68458\u001b[39m \u001b[1mColumns: \u001b[22m\u001b[34m11\u001b[39m\n",
      "\u001b[36m--\u001b[39m \u001b[1mColumn specification\u001b[22m \u001b[36m--------------------------------------------------------\u001b[39m\n",
      "\u001b[1mDelimiter:\u001b[22m \",\"\n",
      "\u001b[31mchr\u001b[39m (5): gene, gadi, type, sigtype, cor\n",
      "\u001b[32mdbl\u001b[39m (6): residual, pv, t, fdr, start1, start2\n",
      "\n",
      "\u001b[36mi\u001b[39m Use `spec()` to retrieve the full column specification for this data.\n",
      "\u001b[36mi\u001b[39m Specify the column types or set `show_col_types = FALSE` to quiet this message.\n"
     ]
    }
   ],
   "source": [
    "testres <- read_csv(\"/share/Data/hxie/project/202209/esc_xwliu/esc0615_version2/HiC_analysis/GADI/GADI_c5_res_new/c5_down_residual.csv\")"
   ]
  },
  {
   "cell_type": "code",
   "execution_count": 8,
   "metadata": {
    "vscode": {
     "languageId": "r"
    }
   },
   "outputs": [
    {
     "data": {
      "text/html": [
       "<table class=\"dataframe\">\n",
       "<caption>A tibble: 3 x 12</caption>\n",
       "<thead>\n",
       "\t<tr><th scope=col>gene</th><th scope=col>gadi</th><th scope=col>residual</th><th scope=col>pv</th><th scope=col>t</th><th scope=col>fdr</th><th scope=col>type</th><th scope=col>sigtype</th><th scope=col>start1</th><th scope=col>start2</th><th scope=col>cor</th><th scope=col>id</th></tr>\n",
       "\t<tr><th scope=col>&lt;chr&gt;</th><th scope=col>&lt;chr&gt;</th><th scope=col>&lt;dbl&gt;</th><th scope=col>&lt;dbl&gt;</th><th scope=col>&lt;dbl&gt;</th><th scope=col>&lt;dbl&gt;</th><th scope=col>&lt;chr&gt;</th><th scope=col>&lt;chr&gt;</th><th scope=col>&lt;dbl&gt;</th><th scope=col>&lt;dbl&gt;</th><th scope=col>&lt;chr&gt;</th><th scope=col>&lt;int&gt;</th></tr>\n",
       "</thead>\n",
       "<tbody>\n",
       "\t<tr><td>B6-Firre</td><td>2535_2542_pos</td><td>0.4100390</td><td>6.291146e-07</td><td>6.285717</td><td>0.0004147375</td><td>early</td><td>sig</td><td>2535</td><td>2542</td><td>pos</td><td>21247</td></tr>\n",
       "\t<tr><td>B6-Firre</td><td>2535_2543_pos</td><td>0.4159100</td><td>2.157016e-07</td><td>6.673808</td><td>0.0002420737</td><td>early</td><td>sig</td><td>2535</td><td>2543</td><td>pos</td><td>21248</td></tr>\n",
       "\t<tr><td>B6-Firre</td><td>2535_2544_pos</td><td>0.4284092</td><td>3.965798e-08</td><td>7.299122</td><td>0.0001148715</td><td>early</td><td>sig</td><td>2535</td><td>2544</td><td>pos</td><td>21249</td></tr>\n",
       "</tbody>\n",
       "</table>\n"
      ],
      "text/latex": [
       "A tibble: 3 x 12\n",
       "\\begin{tabular}{llllllllllll}\n",
       " gene & gadi & residual & pv & t & fdr & type & sigtype & start1 & start2 & cor & id\\\\\n",
       " <chr> & <chr> & <dbl> & <dbl> & <dbl> & <dbl> & <chr> & <chr> & <dbl> & <dbl> & <chr> & <int>\\\\\n",
       "\\hline\n",
       "\t B6-Firre & 2535\\_2542\\_pos & 0.4100390 & 6.291146e-07 & 6.285717 & 0.0004147375 & early & sig & 2535 & 2542 & pos & 21247\\\\\n",
       "\t B6-Firre & 2535\\_2543\\_pos & 0.4159100 & 2.157016e-07 & 6.673808 & 0.0002420737 & early & sig & 2535 & 2543 & pos & 21248\\\\\n",
       "\t B6-Firre & 2535\\_2544\\_pos & 0.4284092 & 3.965798e-08 & 7.299122 & 0.0001148715 & early & sig & 2535 & 2544 & pos & 21249\\\\\n",
       "\\end{tabular}\n"
      ],
      "text/markdown": [
       "\n",
       "A tibble: 3 x 12\n",
       "\n",
       "| gene &lt;chr&gt; | gadi &lt;chr&gt; | residual &lt;dbl&gt; | pv &lt;dbl&gt; | t &lt;dbl&gt; | fdr &lt;dbl&gt; | type &lt;chr&gt; | sigtype &lt;chr&gt; | start1 &lt;dbl&gt; | start2 &lt;dbl&gt; | cor &lt;chr&gt; | id &lt;int&gt; |\n",
       "|---|---|---|---|---|---|---|---|---|---|---|---|\n",
       "| B6-Firre | 2535_2542_pos | 0.4100390 | 6.291146e-07 | 6.285717 | 0.0004147375 | early | sig | 2535 | 2542 | pos | 21247 |\n",
       "| B6-Firre | 2535_2543_pos | 0.4159100 | 2.157016e-07 | 6.673808 | 0.0002420737 | early | sig | 2535 | 2543 | pos | 21248 |\n",
       "| B6-Firre | 2535_2544_pos | 0.4284092 | 3.965798e-08 | 7.299122 | 0.0001148715 | early | sig | 2535 | 2544 | pos | 21249 |\n",
       "\n"
      ],
      "text/plain": [
       "  gene     gadi          residual  pv           t        fdr          type \n",
       "1 B6-Firre 2535_2542_pos 0.4100390 6.291146e-07 6.285717 0.0004147375 early\n",
       "2 B6-Firre 2535_2543_pos 0.4159100 2.157016e-07 6.673808 0.0002420737 early\n",
       "3 B6-Firre 2535_2544_pos 0.4284092 3.965798e-08 7.299122 0.0001148715 early\n",
       "  sigtype start1 start2 cor id   \n",
       "1 sig     2535   2542   pos 21247\n",
       "2 sig     2535   2543   pos 21248\n",
       "3 sig     2535   2544   pos 21249"
      ]
     },
     "metadata": {},
     "output_type": "display_data"
    }
   ],
   "source": [
    "testres %>% mutate(id = seq(1, nrow(.))) %>% filter(gene == \"B6-Firre\") %>% filter(start1 == 2535)"
   ]
  },
  {
   "cell_type": "code",
   "execution_count": 108,
   "metadata": {
    "vscode": {
     "languageId": "r"
    }
   },
   "outputs": [
    {
     "data": {
      "image/png": "[encoded data removed]",
      "text/plain": [
       "plot without title"
      ]
     },
     "metadata": {
      "image/png": {
       "height": 390,
       "width": 360
      }
     },
     "output_type": "display_data"
    }
   ],
   "source": [
    "options(repr.plot.height = 2.6, repr.plot.width = 2.4,repr.plot.res = 300)\n",
    "p <- testres %>% mutate(plot = ifelse(fdr >= 0.05, \"Not Significant\", ifelse(((cor == \"pos\")&(residual > 0))|((cor == \"neg\")&(residual < 0)), \"Subsequent\", \"Prior\"))) %>% \n",
    "    ggplot(aes(x=residual, fill = plot, color = plot)) +\n",
    "  geom_histogram(color = \"black\",position=\"identity\", alpha = 0.55, bins = 30, linewidth = 0.25) +\n",
    "  scale_fill_manual(values = c(\"Prior\" = \"#2166ac\", \"Subsequent\" = \"#b2182b\", \"Not Significant\" = \"#e0e0e0\")) +\n",
    "    theme(legend.position = \"top\",\n",
    "  text = element_text(family=\"Arial\", size=8),\n",
    "  panel.border = element_blank(),\n",
    "  panel.grid.major = element_blank(),\n",
    "  panel.grid.minor = element_blank(),\n",
    "  panel.background = element_blank(),\n",
    "  axis.line = element_line(color=\"black\", linewidth = 0.35),\n",
    "  axis.ticks = element_line(color=\"black\", linewidth = 0.35),\n",
    "  axis.text = element_text(color=\"black\",size=8),\n",
    "  legend.key = element_rect(colour = NA),\n",
    "  legend.key.width = unit(0.4, \"cm\"),\n",
    "  legend.key.height = unit(0.4, \"cm\"),\n",
    "  axis.title=element_text(color=\"black\",size=8,face=\"plain\"),\n",
    "  )+ labs(fill = \"\") + xlab(\"Residual\") + ylab(\"Counts\") +scale_y_continuous(labels = label_number(scale = 1e-3, suffix = \"k\"))\n",
    "p \n",
    "\n",
    "ggsave(\"/share/Data/hxie/project/202209/esc_xwliu/figures_0827/fig3/fig3M_prior_subsequent.svg\", width = 2.4, height = 2.6, units = \"in\", dpi = 300)"
   ]
  },
  {
   "cell_type": "code",
   "execution_count": 104,
   "metadata": {
    "vscode": {
     "languageId": "r"
    }
   },
   "outputs": [
    {
     "data": {
      "text/html": [
       "<table class=\"dataframe\">\n",
       "<caption>A tibble: 3 x 2</caption>\n",
       "<thead>\n",
       "\t<tr><th scope=col>plot</th><th scope=col>count</th></tr>\n",
       "\t<tr><th scope=col>&lt;chr&gt;</th><th scope=col>&lt;int&gt;</th></tr>\n",
       "</thead>\n",
       "<tbody>\n",
       "\t<tr><td>Not Significant</td><td>60866</td></tr>\n",
       "\t<tr><td>Prior          </td><td>  430</td></tr>\n",
       "\t<tr><td>Subsequent     </td><td> 7162</td></tr>\n",
       "</tbody>\n",
       "</table>\n"
      ],
      "text/latex": [
       "A tibble: 3 x 2\n",
       "\\begin{tabular}{ll}\n",
       " plot & count\\\\\n",
       " <chr> & <int>\\\\\n",
       "\\hline\n",
       "\t Not Significant & 60866\\\\\n",
       "\t Prior           &   430\\\\\n",
       "\t Subsequent      &  7162\\\\\n",
       "\\end{tabular}\n"
      ],
      "text/markdown": [
       "\n",
       "A tibble: 3 x 2\n",
       "\n",
       "| plot &lt;chr&gt; | count &lt;int&gt; |\n",
       "|---|---|\n",
       "| Not Significant | 60866 |\n",
       "| Prior           |   430 |\n",
       "| Subsequent      |  7162 |\n",
       "\n"
      ],
      "text/plain": [
       "  plot            count\n",
       "1 Not Significant 60866\n",
       "2 Prior             430\n",
       "3 Subsequent       7162"
      ]
     },
     "metadata": {},
     "output_type": "display_data"
    }
   ],
   "source": [
    "testres %>% mutate(plot = ifelse(fdr >= 0.05, \"Not Significant\", ifelse(((cor == \"pos\")&(residual > 0))|((cor == \"neg\")&(residual < 0)), \"Subsequent\", \"Prior\"))) %>% \n",
    "    group_by(plot) %>% summarise(count = n())"
   ]
  },
  {
   "cell_type": "markdown",
   "metadata": {},
   "source": [
    "# HiC↓ RNA↓"
   ]
  },
  {
   "cell_type": "code",
   "execution_count": 108,
   "metadata": {
    "vscode": {
     "languageId": "r"
    }
   },
   "outputs": [
    {
     "data": {
      "text/html": [
       "<table class=\"dataframe\">\n",
       "<caption>A tibble: 6 x 11</caption>\n",
       "<thead>\n",
       "\t<tr><th scope=col>gene</th><th scope=col>gadi</th><th scope=col>residual</th><th scope=col>pv</th><th scope=col>t</th><th scope=col>fdr</th><th scope=col>type</th><th scope=col>sigtype</th><th scope=col>start1</th><th scope=col>start2</th><th scope=col>cor</th></tr>\n",
       "\t<tr><th scope=col>&lt;chr&gt;</th><th scope=col>&lt;chr&gt;</th><th scope=col>&lt;dbl&gt;</th><th scope=col>&lt;dbl&gt;</th><th scope=col>&lt;dbl&gt;</th><th scope=col>&lt;dbl&gt;</th><th scope=col>&lt;chr&gt;</th><th scope=col>&lt;chr&gt;</th><th scope=col>&lt;dbl&gt;</th><th scope=col>&lt;dbl&gt;</th><th scope=col>&lt;chr&gt;</th></tr>\n",
       "</thead>\n",
       "<tbody>\n",
       "\t<tr><td>B6-Firre</td><td>2533_2540_pos</td><td>0.4582982</td><td>0.000000964603918</td><td>6.132007</td><td>0.00047972711</td><td>early</td><td>sig</td><td>2533</td><td>2540</td><td>pos</td></tr>\n",
       "\t<tr><td>B6-Firre</td><td>2533_2541_pos</td><td>0.4462379</td><td>0.000000328571904</td><td>6.520643</td><td>0.00028659840</td><td>early</td><td>sig</td><td>2533</td><td>2541</td><td>pos</td></tr>\n",
       "\t<tr><td>B6-Firre</td><td>2534_2544_pos</td><td>0.4323312</td><td>0.000000002066833</td><td>8.432888</td><td>0.00002644869</td><td>early</td><td>sig</td><td>2534</td><td>2544</td><td>pos</td></tr>\n",
       "\t<tr><td>B6-Firre</td><td>2535_2544_pos</td><td>0.4284092</td><td>0.000000039657978</td><td>7.299122</td><td>0.00011487152</td><td>early</td><td>sig</td><td>2535</td><td>2544</td><td>pos</td></tr>\n",
       "\t<tr><td>B6-Firre</td><td>2531_2538_pos</td><td>0.4182784</td><td>0.000000612264512</td><td>6.295503</td><td>0.00041473747</td><td>early</td><td>sig</td><td>2531</td><td>2538</td><td>pos</td></tr>\n",
       "\t<tr><td>B6-Firre</td><td>2535_2543_pos</td><td>0.4159100</td><td>0.000000215701574</td><td>6.673808</td><td>0.00024207374</td><td>early</td><td>sig</td><td>2535</td><td>2543</td><td>pos</td></tr>\n",
       "</tbody>\n",
       "</table>\n"
      ],
      "text/latex": [
       "A tibble: 6 x 11\n",
       "\\begin{tabular}{lllllllllll}\n",
       " gene & gadi & residual & pv & t & fdr & type & sigtype & start1 & start2 & cor\\\\\n",
       " <chr> & <chr> & <dbl> & <dbl> & <dbl> & <dbl> & <chr> & <chr> & <dbl> & <dbl> & <chr>\\\\\n",
       "\\hline\n",
       "\t B6-Firre & 2533\\_2540\\_pos & 0.4582982 & 0.000000964603918 & 6.132007 & 0.00047972711 & early & sig & 2533 & 2540 & pos\\\\\n",
       "\t B6-Firre & 2533\\_2541\\_pos & 0.4462379 & 0.000000328571904 & 6.520643 & 0.00028659840 & early & sig & 2533 & 2541 & pos\\\\\n",
       "\t B6-Firre & 2534\\_2544\\_pos & 0.4323312 & 0.000000002066833 & 8.432888 & 0.00002644869 & early & sig & 2534 & 2544 & pos\\\\\n",
       "\t B6-Firre & 2535\\_2544\\_pos & 0.4284092 & 0.000000039657978 & 7.299122 & 0.00011487152 & early & sig & 2535 & 2544 & pos\\\\\n",
       "\t B6-Firre & 2531\\_2538\\_pos & 0.4182784 & 0.000000612264512 & 6.295503 & 0.00041473747 & early & sig & 2531 & 2538 & pos\\\\\n",
       "\t B6-Firre & 2535\\_2543\\_pos & 0.4159100 & 0.000000215701574 & 6.673808 & 0.00024207374 & early & sig & 2535 & 2543 & pos\\\\\n",
       "\\end{tabular}\n"
      ],
      "text/markdown": [
       "\n",
       "A tibble: 6 x 11\n",
       "\n",
       "| gene &lt;chr&gt; | gadi &lt;chr&gt; | residual &lt;dbl&gt; | pv &lt;dbl&gt; | t &lt;dbl&gt; | fdr &lt;dbl&gt; | type &lt;chr&gt; | sigtype &lt;chr&gt; | start1 &lt;dbl&gt; | start2 &lt;dbl&gt; | cor &lt;chr&gt; |\n",
       "|---|---|---|---|---|---|---|---|---|---|---|\n",
       "| B6-Firre | 2533_2540_pos | 0.4582982 | 0.000000964603918 | 6.132007 | 0.00047972711 | early | sig | 2533 | 2540 | pos |\n",
       "| B6-Firre | 2533_2541_pos | 0.4462379 | 0.000000328571904 | 6.520643 | 0.00028659840 | early | sig | 2533 | 2541 | pos |\n",
       "| B6-Firre | 2534_2544_pos | 0.4323312 | 0.000000002066833 | 8.432888 | 0.00002644869 | early | sig | 2534 | 2544 | pos |\n",
       "| B6-Firre | 2535_2544_pos | 0.4284092 | 0.000000039657978 | 7.299122 | 0.00011487152 | early | sig | 2535 | 2544 | pos |\n",
       "| B6-Firre | 2531_2538_pos | 0.4182784 | 0.000000612264512 | 6.295503 | 0.00041473747 | early | sig | 2531 | 2538 | pos |\n",
       "| B6-Firre | 2535_2543_pos | 0.4159100 | 0.000000215701574 | 6.673808 | 0.00024207374 | early | sig | 2535 | 2543 | pos |\n",
       "\n"
      ],
      "text/plain": [
       "  gene     gadi          residual  pv                t        fdr          \n",
       "1 B6-Firre 2533_2540_pos 0.4582982 0.000000964603918 6.132007 0.00047972711\n",
       "2 B6-Firre 2533_2541_pos 0.4462379 0.000000328571904 6.520643 0.00028659840\n",
       "3 B6-Firre 2534_2544_pos 0.4323312 0.000000002066833 8.432888 0.00002644869\n",
       "4 B6-Firre 2535_2544_pos 0.4284092 0.000000039657978 7.299122 0.00011487152\n",
       "5 B6-Firre 2531_2538_pos 0.4182784 0.000000612264512 6.295503 0.00041473747\n",
       "6 B6-Firre 2535_2543_pos 0.4159100 0.000000215701574 6.673808 0.00024207374\n",
       "  type  sigtype start1 start2 cor\n",
       "1 early sig     2533   2540   pos\n",
       "2 early sig     2533   2541   pos\n",
       "3 early sig     2534   2544   pos\n",
       "4 early sig     2535   2544   pos\n",
       "5 early sig     2531   2538   pos\n",
       "6 early sig     2535   2543   pos"
      ]
     },
     "metadata": {},
     "output_type": "display_data"
    }
   ],
   "source": [
    "testres %>% filter(fdr < 0.05) %>% filter(cor == \"pos\") %>% filter(residual>0) %>% arrange(-residual) %>% head(100) %>% filter(gene == \"B6-Firre\")"
   ]
  },
  {
   "cell_type": "code",
   "execution_count": 126,
   "metadata": {
    "vscode": {
     "languageId": "r"
    }
   },
   "outputs": [
    {
     "name": "stderr",
     "output_type": "stream",
     "text": [
      "\u001b[1m\u001b[22m`geom_smooth()` using method = 'loess' and formula = 'y ~ x'\n",
      "\u001b[1m\u001b[22m`geom_smooth()` using method = 'loess' and formula = 'y ~ x'\n"
     ]
    },
    {
     "data": {
      "image/png": "[encoded data removed]",
      "text/plain": [
       "plot without title"
      ]
     },
     "metadata": {
      "image/png": {
       "height": 390,
       "width": 330
      }
     },
     "output_type": "display_data"
    }
   ],
   "source": [
    "# Firre 2533_2544\n",
    "options(repr.plot.width = 2.2,repr.plot.height=2.6,repr.plot.res= 300)\n",
    "p <- residuals_dynamic %>% filter(gene == \"B6-Firre\" & pos == \"2535_2544\") %>% \n",
    "    group_by(gene,gadi,type) %>% mutate(norm_value = (value - min(fitted_raw))/(max(fitted_raw) - min(fitted_raw))) %>% \n",
    "     select(-c(value,fitted_raw,fitted,high,low)) %>% \n",
    "    group_by(type)  %>% ggplot(aes(x=pseudotime,y=norm_value,color=type)) + \n",
    "    # geom_point(aes(group=type), size = 0.5, shape = 21) + \n",
    "    geom_smooth(aes(group=type), span = 1, alpha = 0.35) +\n",
    "    ylab(\"Normalized value\") +xlab(\"Pseudotime\") + labs(color = \"\") +\n",
    "    theme(legend.position = \"top\",\n",
    "        text = element_text(family=\"Arial\", size=8),\n",
    "        panel.border = element_blank(),\n",
    "        panel.grid.major = element_blank(),\n",
    "        panel.grid.minor = element_blank(),\n",
    "        panel.background = element_blank(),\n",
    "        axis.line = element_line(color=\"black\", linewidth = 0.35),\n",
    "        axis.ticks = element_line(color=\"black\", linewidth = 0.35),\n",
    "        axis.text = element_text(color=\"black\",size=8),\n",
    "        legend.key = element_rect(colour = NA),\n",
    "        legend.key.width = unit(0.4, \"cm\"),\n",
    "        legend.key.height = unit(0.4, \"cm\"),\n",
    "        axis.title=element_text(color=\"black\",size=8,face=\"plain\"),\n",
    ") + scale_color_manual(values = c(\"#b2182b\",\"#2166ac\"))\n",
    "p \n",
    "ggsave(\"/share/Data/hxie/project/202209/esc_xwliu/figures_0827/fig3/fig3N_example_GADI_RNA.svg\", width = 2.2, height = 2.5, units = \"in\", dpi = 300)"
   ]
  }
 ],
 "metadata": {
  "kernelspec": {
   "display_name": "seurat1128",
   "language": "R",
   "name": "seurat1128"
  },
  "language_info": {
   "codemirror_mode": "r",
   "file_extension": ".r",
   "mimetype": "text/x-r-source",
   "name": "R",
   "pygments_lexer": "r",
   "version": "4.2.3"
  }
 },
 "nbformat": 4,
 "nbformat_minor": 4
}
